{
    "metadata": {
        "kernelspec": {
            "name": "SQL",
            "display_name": "SQL",
            "language": "sql"
        },
        "language_info": {
            "name": "sql",
            "version": ""
        },
        "colab": {
            "provenance": []
        }
    },
    "nbformat_minor": 2,
    "nbformat": 4,
    "cells": [
        {
            "cell_type": "markdown",
            "source": [
                "# Lab 3 SQL Summarize and Group Data\n",
                "\n",
                "**There are 6 problems worth 1 point each in this lab. After completing all the problems, save your file as \"Lab3SQLSummarizeGroupData_NetID.ipynb\" and upload it to Canvas.**\n"
            ],
            "metadata": {
                "azdata_cell_guid": "73d236e0-3163-4744-9a88-9a652616c4eb",
                "id": "gfa3hwyVbTE3"
            }
        },
        {
            "cell_type": "markdown",
            "source": [
                "## Problem 1\n",
                "\n",
                "Create a report showing the highest, lowest, and average list prices among our finished products.  Label the columns properly and round the values to two decimal places."
            ],
            "metadata": {
                "azdata_cell_guid": "6472e940-5fc8-4980-a312-d070b3ae5a5d",
                "id": "y7PTLG0cbTE6"
            }
        },
        {
            "cell_type": "code",
            "source": [
                "-- Your SQL query here\n",
                "SELECT ROUND(MAX(ListPrice),2) AS HighestPrice, ROUND(MIN(ListPrice),2) AS LowestPrice, ROUND(AVG(ListPrice),2) AS AveragePrice\n",
                "FROM Production.Product\n",
                "WHERE FinishedGoodsFlag=1;"
            ],
            "metadata": {
                "azdata_cell_guid": "e2f71e89-82ec-4beb-9536-befc3d839a44",
                "language": "sql",
                "id": "zAD-tQ7gbTE7"
            },
            "outputs": [
                {
                    "output_type": "display_data",
                    "data": {
                        "text/html": "(1 row affected)"
                    },
                    "metadata": {}
                },
                {
                    "output_type": "display_data",
                    "data": {
                        "text/html": "Total execution time: 00:00:00.130"
                    },
                    "metadata": {}
                },
                {
                    "output_type": "execute_result",
                    "execution_count": 1,
                    "data": {
                        "application/vnd.dataresource+json": {
                            "schema": {
                                "fields": [
                                    {
                                        "name": "HighestPrice"
                                    },
                                    {
                                        "name": "LowestPrice"
                                    },
                                    {
                                        "name": "AveragePrice"
                                    }
                                ]
                            },
                            "data": [
                                {
                                    "HighestPrice": "3578.27",
                                    "LowestPrice": "2.29",
                                    "AveragePrice": "744.60"
                                }
                            ]
                        },
                        "text/html": "<table><tr><th>HighestPrice</th><th>LowestPrice</th><th>AveragePrice</th></tr><tr><td>3578.27</td><td>2.29</td><td>744.60</td></tr></table>"
                    },
                    "metadata": {}
                }
            ],
            "execution_count": 1
        },
        {
            "cell_type": "markdown",
            "source": [
                "## Problem 2\n",
                "\n",
                "Create a report showing the number of current employees at AdventureWorks by marital status. Label the columns properly."
            ],
            "metadata": {
                "azdata_cell_guid": "e7643bff-dc68-4542-8483-4281d0220579",
                "language": "sql",
                "id": "nYeWRIchbTE8"
            }
        },
        {
            "cell_type": "code",
            "source": [
                "-- Your SQL query here\n",
                "SELECT MaritalStatus, COUNT(BusinessEntityID) AS EmployeeCount\n",
                "FROM HumanResources.Employee\n",
                "WHERE CurrentFlag=1\n",
                "GROUP BY MaritalStatus;"
            ],
            "metadata": {
                "azdata_cell_guid": "979eda8b-b85b-4507-85d3-afadc364dcb8",
                "language": "sql",
                "tags": [],
                "id": "C50sWOoCbTE9"
            },
            "outputs": [
                {
                    "output_type": "display_data",
                    "data": {
                        "text/html": "(2 rows affected)"
                    },
                    "metadata": {}
                },
                {
                    "output_type": "display_data",
                    "data": {
                        "text/html": "Total execution time: 00:00:00.080"
                    },
                    "metadata": {}
                },
                {
                    "output_type": "execute_result",
                    "metadata": {},
                    "execution_count": 1,
                    "data": {
                        "application/vnd.dataresource+json": {
                            "schema": {
                                "fields": [
                                    {
                                        "name": "MaritalStatus"
                                    },
                                    {
                                        "name": "EmployeeCount"
                                    }
                                ]
                            },
                            "data": [
                                {
                                    "MaritalStatus": "M",
                                    "EmployeeCount": "146"
                                },
                                {
                                    "MaritalStatus": "S",
                                    "EmployeeCount": "144"
                                }
                            ]
                        },
                        "text/html": [
                            "<table>",
                            "<tr><th>MaritalStatus</th><th>EmployeeCount</th></tr>",
                            "<tr><td>M</td><td>146</td></tr>",
                            "<tr><td>S</td><td>144</td></tr>",
                            "</table>"
                        ]
                    }
                }
            ],
            "execution_count": 1
        },
        {
            "cell_type": "markdown",
            "source": [
                "## Problem 3\n",
                "\n",
                "Create a report showing the FirstName, LastName, BirthDate, and JobTitle of our oldest employee."
            ],
            "metadata": {
                "language": "sql",
                "azdata_cell_guid": "58cc6843-eef3-42e2-8ba0-d6e11ad99c9e",
                "id": "QDd-wi4-bTE9"
            }
        },
        {
            "cell_type": "code",
            "source": [
                "-- Your SQL query here\n",
                "SELECT FirstName, LastName, BirthDate, JobTitle\n",
                "FROM Person.Person AS pp\n",
                "INNER JOIN HumanResources.Employee AS ee \n",
                "ON pp.BusinessEntityID=ee.BusinessEntityID\n",
                "WHERE BirthDate=(\n",
                "    SELECT MIN(BirthDate)\n",
                "    FROM HumanResources.Employee\n",
                ");"
            ],
            "metadata": {
                "language": "sql",
                "azdata_cell_guid": "c7f0f9c0-cc34-492f-8c18-cde3f25e0ff0",
                "id": "WllVU3rBbTE-"
            },
            "outputs": [
                {
                    "output_type": "display_data",
                    "data": {
                        "text/html": "(1 row affected)"
                    },
                    "metadata": {}
                },
                {
                    "output_type": "display_data",
                    "data": {
                        "text/html": "Total execution time: 00:00:00.073"
                    },
                    "metadata": {}
                },
                {
                    "output_type": "execute_result",
                    "metadata": {},
                    "execution_count": 2,
                    "data": {
                        "application/vnd.dataresource+json": {
                            "schema": {
                                "fields": [
                                    {
                                        "name": "FirstName"
                                    },
                                    {
                                        "name": "LastName"
                                    },
                                    {
                                        "name": "BirthDate"
                                    },
                                    {
                                        "name": "JobTitle"
                                    }
                                ]
                            },
                            "data": [
                                {
                                    "FirstName": "Stephen",
                                    "LastName": "Jiang",
                                    "BirthDate": "1951-10-17",
                                    "JobTitle": "North American Sales Manager"
                                }
                            ]
                        },
                        "text/html": [
                            "<table>",
                            "<tr><th>FirstName</th><th>LastName</th><th>BirthDate</th><th>JobTitle</th></tr>",
                            "<tr><td>Stephen</td><td>Jiang</td><td>1951-10-17</td><td>North American Sales Manager</td></tr>",
                            "</table>"
                        ]
                    }
                }
            ],
            "execution_count": 2
        },
        {
            "cell_type": "markdown",
            "source": [
                "## Problem 4\n",
                "\n",
                "Create a report showing job titles that contain the word '**sales**'. The report should include the job title and the corresponding employee count, sorted by employee count in descending order. Label the columns properly."
            ],
            "metadata": {
                "azdata_cell_guid": "36864157-4d5e-496b-a2bf-e9173f32b122",
                "language": "sql",
                "id": "o7Xd2FeSbTE-"
            }
        },
        {
            "cell_type": "code",
            "source": [
                "-- Your SQL query here\n",
                "SELECT JobTitle, COUNT(BusinessEntityID) AS EmployeeCount \n",
                "FROM HumanResources.Employee\n",
                "WHERE JobTitle LIKE '%sales%'\n",
                "GROUP BY JobTitle\n",
                "ORDER BY EmployeeCount DESC;"
            ],
            "metadata": {
                "azdata_cell_guid": "e9b5f612-726d-4b27-b9a3-48b40b527314",
                "language": "sql",
                "id": "DIZEQB-ebTE-"
            },
            "outputs": [
                {
                    "output_type": "display_data",
                    "data": {
                        "text/html": "(5 rows affected)"
                    },
                    "metadata": {}
                },
                {
                    "output_type": "display_data",
                    "data": {
                        "text/html": "Total execution time: 00:00:00.065"
                    },
                    "metadata": {}
                },
                {
                    "output_type": "execute_result",
                    "metadata": {},
                    "execution_count": 4,
                    "data": {
                        "application/vnd.dataresource+json": {
                            "schema": {
                                "fields": [
                                    {
                                        "name": "JobTitle"
                                    },
                                    {
                                        "name": "EmployeeCount"
                                    }
                                ]
                            },
                            "data": [
                                {
                                    "JobTitle": "Sales Representative",
                                    "EmployeeCount": "14"
                                },
                                {
                                    "JobTitle": "Vice President of Sales",
                                    "EmployeeCount": "1"
                                },
                                {
                                    "JobTitle": "European Sales Manager",
                                    "EmployeeCount": "1"
                                },
                                {
                                    "JobTitle": "North American Sales Manager",
                                    "EmployeeCount": "1"
                                },
                                {
                                    "JobTitle": "Pacific Sales Manager",
                                    "EmployeeCount": "1"
                                }
                            ]
                        },
                        "text/html": [
                            "<table>",
                            "<tr><th>JobTitle</th><th>EmployeeCount</th></tr>",
                            "<tr><td>Sales Representative</td><td>14</td></tr>",
                            "<tr><td>Vice President of Sales</td><td>1</td></tr>",
                            "<tr><td>European Sales Manager</td><td>1</td></tr>",
                            "<tr><td>North American Sales Manager</td><td>1</td></tr>",
                            "<tr><td>Pacific Sales Manager</td><td>1</td></tr>",
                            "</table>"
                        ]
                    }
                }
            ],
            "execution_count": 4
        },
        {
            "cell_type": "markdown",
            "source": [
                "## Problem 5\n",
                "\n",
                "Create a report showing the departments that have 10 or more employees currently assigned to them. The report should include the department names and the corresponding employee count, sorted by employee count in descending order. Lable the columns properly."
            ],
            "metadata": {
                "azdata_cell_guid": "dcff2ed7-a296-40fc-a08b-d36ee90a30c3",
                "language": "sql",
                "id": "4tNfZqDMbTE_"
            }
        },
        {
            "cell_type": "code",
            "source": [
                "-- Your SQL query here\n",
                "SELECT [Name], COUNT(edh.BusinessEntityID) AS EmployeeCount\n",
                "FROM HumanResources.Department AS hrd \n",
                "INNER JOIN HumanResources.EmployeeDepartmentHistory AS edh\n",
                "ON hrd.DepartmentID=edh.DepartmentID\n",
                "INNER JOIN HumanResources.Employee AS ee \n",
                "ON ee.BusinessEntityID=edh.BusinessEntityID\n",
                "WHERE CurrentFlag=1 AND EndDate IS NULL \n",
                "GROUP BY [Name]\n",
                "HAVING COUNT(edh.BusinessEntityID)>=10\n",
                "ORDER BY EmployeeCount DESC;"
            ],
            "metadata": {
                "azdata_cell_guid": "2258480b-21f4-4864-bcdb-8d0a5944a952",
                "language": "sql",
                "id": "HOCG-G8ZbTE_"
            },
            "outputs": [
                {
                    "output_type": "display_data",
                    "data": {
                        "text/html": "(5 rows affected)"
                    },
                    "metadata": {}
                },
                {
                    "output_type": "display_data",
                    "data": {
                        "text/html": "Total execution time: 00:00:00.069"
                    },
                    "metadata": {}
                },
                {
                    "output_type": "execute_result",
                    "metadata": {},
                    "execution_count": 6,
                    "data": {
                        "application/vnd.dataresource+json": {
                            "schema": {
                                "fields": [
                                    {
                                        "name": "Name"
                                    },
                                    {
                                        "name": "EmployeeCount"
                                    }
                                ]
                            },
                            "data": [
                                {
                                    "Name": "Production",
                                    "EmployeeCount": "179"
                                },
                                {
                                    "Name": "Sales",
                                    "EmployeeCount": "18"
                                },
                                {
                                    "Name": "Purchasing",
                                    "EmployeeCount": "12"
                                },
                                {
                                    "Name": "Finance",
                                    "EmployeeCount": "10"
                                },
                                {
                                    "Name": "Information Services",
                                    "EmployeeCount": "10"
                                }
                            ]
                        },
                        "text/html": [
                            "<table>",
                            "<tr><th>Name</th><th>EmployeeCount</th></tr>",
                            "<tr><td>Production</td><td>179</td></tr>",
                            "<tr><td>Sales</td><td>18</td></tr>",
                            "<tr><td>Purchasing</td><td>12</td></tr>",
                            "<tr><td>Finance</td><td>10</td></tr>",
                            "<tr><td>Information Services</td><td>10</td></tr>",
                            "</table>"
                        ]
                    }
                }
            ],
            "execution_count": 6
        },
        {
            "cell_type": "markdown",
            "source": [
                "## Problem 6\n",
                "\n",
                "Create a report showing the months in 2012 where the average order size exceeds 8,000. The report should include the year, month, and the corresponding average order size, sorted by the average order size in descending order. Label the columns properly.\n",
                "\n",
                "**Hint**:\n",
                "+ The *OrderDate* column in the **SalesOrderHeader** table records the order date.\n",
                "+ The *SubTotal* column in the **SalesOrderHeader** table records the order size."
            ],
            "metadata": {
                "language": "sql",
                "azdata_cell_guid": "6d533601-05d0-4daa-8502-5b64b3f30a93",
                "id": "KuSZRrdbbTE_"
            }
        },
        {
            "cell_type": "code",
            "source": [
                "-- Your SQL query here\n",
                "SELECT DATEPART(YEAR,OrderDate) AS [Year], DATENAME(MONTH,OrderDate) AS [Month], AVG(SubTotal) AS AverageOrderSize\n",
                "FROM Sales.SalesOrderHeader\n",
                "WHERE DATEPART(YEAR,OrderDate)=2012\n",
                "GROUP BY DATEPART(YEAR,OrderDate), DATENAME(MONTH,OrderDate)\n",
                "HAVING AVG(SubTotal)>8000\n",
                "ORDER BY AverageOrderSize DESC;"
            ],
            "metadata": {
                "language": "sql",
                "azdata_cell_guid": "871c16f6-4a6c-4379-96d9-d71090b53421",
                "id": "VbztlgJCbTFA"
            },
            "outputs": [
                {
                    "output_type": "display_data",
                    "data": {
                        "text/html": "(6 rows affected)"
                    },
                    "metadata": {}
                },
                {
                    "output_type": "display_data",
                    "data": {
                        "text/html": "Total execution time: 00:00:00.082"
                    },
                    "metadata": {}
                },
                {
                    "output_type": "execute_result",
                    "metadata": {},
                    "execution_count": 8,
                    "data": {
                        "application/vnd.dataresource+json": {
                            "schema": {
                                "fields": [
                                    {
                                        "name": "Year"
                                    },
                                    {
                                        "name": "Month"
                                    },
                                    {
                                        "name": "AverageOrderSize"
                                    }
                                ]
                            },
                            "data": [
                                {
                                    "Year": "2012",
                                    "Month": "January",
                                    "AverageOrderSize": "11817.343"
                                },
                                {
                                    "Year": "2012",
                                    "Month": "June",
                                    "AverageOrderSize": "10511.165"
                                },
                                {
                                    "Year": "2012",
                                    "Month": "May",
                                    "AverageOrderSize": "10493.5249"
                                },
                                {
                                    "Year": "2012",
                                    "Month": "September",
                                    "AverageOrderSize": "9812.9316"
                                },
                                {
                                    "Year": "2012",
                                    "Month": "March",
                                    "AverageOrderSize": "9788.6455"
                                },
                                {
                                    "Year": "2012",
                                    "Month": "July",
                                    "AverageOrderSize": "8877.8022"
                                }
                            ]
                        },
                        "text/html": [
                            "<table>",
                            "<tr><th>Year</th><th>Month</th><th>AverageOrderSize</th></tr>",
                            "<tr><td>2012</td><td>January</td><td>11817.343</td></tr>",
                            "<tr><td>2012</td><td>June</td><td>10511.165</td></tr>",
                            "<tr><td>2012</td><td>May</td><td>10493.5249</td></tr>",
                            "<tr><td>2012</td><td>September</td><td>9812.9316</td></tr>",
                            "<tr><td>2012</td><td>March</td><td>9788.6455</td></tr>",
                            "<tr><td>2012</td><td>July</td><td>8877.8022</td></tr>",
                            "</table>"
                        ]
                    }
                }
            ],
            "execution_count": 8
        }
    ]
}