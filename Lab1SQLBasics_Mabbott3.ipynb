{
    "metadata": {
        "kernelspec": {
            "name": "SQL",
            "display_name": "SQL",
            "language": "sql"
        },
        "language_info": {
            "name": "sql",
            "version": ""
        },
        "colab": {
            "provenance": []
        }
    },
    "nbformat_minor": 2,
    "nbformat": 4,
    "cells": [
        {
            "cell_type": "markdown",
            "source": [
                "# Lab 1 SQL Basics\n",
                "\n",
                "**There are 6 problems worth 1 point each in this lab. After completing all the problems, save your file as \"Lab1SQLBasics\\_NetID.ipynb\" (**<span style=\"font-family: -apple-system, BlinkMacSystemFont, sans-serif; color: var(--vscode-foreground);\"><b>replacing NetID with your actual NetID</b>)</span> **and upload it to Canvas.**"
            ],
            "metadata": {
                "azdata_cell_guid": "688043a8-c1d3-44bf-9137-aa75fdde492a",
                "id": "1iFGoPGNmOfm"
            }
        },
        {
            "cell_type": "markdown",
            "source": [
                "## Problem 1\n",
                "\n",
                "Write a SQL query to retrieve a list of finished products that took more than 2 days to manufacture. Include the product name and days to manufacture in the output. Sort the results by days to manufacture in descending order.\n",
                "\n",
                "Hint:\n",
                "\n",
                "- Use the **Product** table.\n",
                "- A product is considered finished if its **FinishedGoodsFlag** is set to `1`."
            ],
            "metadata": {
                "azdata_cell_guid": "dd7da39a-291a-44f0-96ee-a808c4433001",
                "id": "er18zyw8mOfn"
            }
        },
        {
            "cell_type": "code",
            "source": [
                "-- Your SQL Query Here\n",
                "SELECT Name, FinishedGoodsFlag, DaysToManufacture\n",
                "FROM Production.Product\n",
                "WHERE FinishedGoodsFlag=1 AND DaysToManufacture>2\n",
                "ORDER BY DaysToManufacture DESC;"
            ],
            "metadata": {
                "azdata_cell_guid": "cabe4b9b-034a-43ab-9437-8bb09decdd5d",
                "language": "sql",
                "tags": [],
                "id": "FCzxILtlmOfo"
            },
            "outputs": [
                {
                    "output_type": "display_data",
                    "data": {
                        "text/html": "(97 rows affected)"
                    },
                    "metadata": {}
                },
                {
                    "output_type": "display_data",
                    "data": {
                        "text/html": "Total execution time: 00:00:00.036"
                    },
                    "metadata": {}
                },
                {
                    "output_type": "execute_result",
                    "execution_count": 1,
                    "data": {
                        "application/vnd.dataresource+json": {
                            "schema": {
                                "fields": [
                                    {
                                        "name": "Name"
                                    },
                                    {
                                        "name": "FinishedGoodsFlag"
                                    },
                                    {
                                        "name": "DaysToManufacture"
                                    }
                                ]
                            },
                            "data": [
                                {
                                    "Name": "Road-150 Red, 62",
                                    "FinishedGoodsFlag": "1",
                                    "DaysToManufacture": "4"
                                },
                                {
                                    "Name": "Road-150 Red, 44",
                                    "FinishedGoodsFlag": "1",
                                    "DaysToManufacture": "4"
                                },
                                {
                                    "Name": "Road-150 Red, 48",
                                    "FinishedGoodsFlag": "1",
                                    "DaysToManufacture": "4"
                                },
                                {
                                    "Name": "Road-150 Red, 52",
                                    "FinishedGoodsFlag": "1",
                                    "DaysToManufacture": "4"
                                },
                                {
                                    "Name": "Road-150 Red, 56",
                                    "FinishedGoodsFlag": "1",
                                    "DaysToManufacture": "4"
                                },
                                {
                                    "Name": "Road-450 Red, 58",
                                    "FinishedGoodsFlag": "1",
                                    "DaysToManufacture": "4"
                                },
                                {
                                    "Name": "Road-450 Red, 60",
                                    "FinishedGoodsFlag": "1",
                                    "DaysToManufacture": "4"
                                },
                                {
                                    "Name": "Road-450 Red, 44",
                                    "FinishedGoodsFlag": "1",
                                    "DaysToManufacture": "4"
                                },
                                {
                                    "Name": "Road-450 Red, 48",
                                    "FinishedGoodsFlag": "1",
                                    "DaysToManufacture": "4"
                                },
                                {
                                    "Name": "Road-450 Red, 52",
                                    "FinishedGoodsFlag": "1",
                                    "DaysToManufacture": "4"
                                },
                                {
                                    "Name": "Road-650 Red, 58",
                                    "FinishedGoodsFlag": "1",
                                    "DaysToManufacture": "4"
                                },
                                {
                                    "Name": "Road-650 Red, 60",
                                    "FinishedGoodsFlag": "1",
                                    "DaysToManufacture": "4"
                                },
                                {
                                    "Name": "Road-650 Red, 62",
                                    "FinishedGoodsFlag": "1",
                                    "DaysToManufacture": "4"
                                },
                                {
                                    "Name": "Road-650 Red, 44",
                                    "FinishedGoodsFlag": "1",
                                    "DaysToManufacture": "4"
                                },
                                {
                                    "Name": "Road-650 Red, 48",
                                    "FinishedGoodsFlag": "1",
                                    "DaysToManufacture": "4"
                                },
                                {
                                    "Name": "Road-650 Red, 52",
                                    "FinishedGoodsFlag": "1",
                                    "DaysToManufacture": "4"
                                },
                                {
                                    "Name": "Road-650 Black, 58",
                                    "FinishedGoodsFlag": "1",
                                    "DaysToManufacture": "4"
                                },
                                {
                                    "Name": "Road-650 Black, 60",
                                    "FinishedGoodsFlag": "1",
                                    "DaysToManufacture": "4"
                                },
                                {
                                    "Name": "Road-650 Black, 62",
                                    "FinishedGoodsFlag": "1",
                                    "DaysToManufacture": "4"
                                },
                                {
                                    "Name": "Road-650 Black, 44",
                                    "FinishedGoodsFlag": "1",
                                    "DaysToManufacture": "4"
                                },
                                {
                                    "Name": "Road-650 Black, 48",
                                    "FinishedGoodsFlag": "1",
                                    "DaysToManufacture": "4"
                                },
                                {
                                    "Name": "Road-650 Black, 52",
                                    "FinishedGoodsFlag": "1",
                                    "DaysToManufacture": "4"
                                },
                                {
                                    "Name": "Mountain-100 Silver, 38",
                                    "FinishedGoodsFlag": "1",
                                    "DaysToManufacture": "4"
                                },
                                {
                                    "Name": "Mountain-100 Silver, 42",
                                    "FinishedGoodsFlag": "1",
                                    "DaysToManufacture": "4"
                                },
                                {
                                    "Name": "Mountain-100 Silver, 44",
                                    "FinishedGoodsFlag": "1",
                                    "DaysToManufacture": "4"
                                },
                                {
                                    "Name": "Mountain-100 Silver, 48",
                                    "FinishedGoodsFlag": "1",
                                    "DaysToManufacture": "4"
                                },
                                {
                                    "Name": "Mountain-100 Black, 38",
                                    "FinishedGoodsFlag": "1",
                                    "DaysToManufacture": "4"
                                },
                                {
                                    "Name": "Mountain-100 Black, 42",
                                    "FinishedGoodsFlag": "1",
                                    "DaysToManufacture": "4"
                                },
                                {
                                    "Name": "Mountain-100 Black, 44",
                                    "FinishedGoodsFlag": "1",
                                    "DaysToManufacture": "4"
                                },
                                {
                                    "Name": "Mountain-100 Black, 48",
                                    "FinishedGoodsFlag": "1",
                                    "DaysToManufacture": "4"
                                },
                                {
                                    "Name": "Mountain-200 Silver, 38",
                                    "FinishedGoodsFlag": "1",
                                    "DaysToManufacture": "4"
                                },
                                {
                                    "Name": "Mountain-200 Silver, 42",
                                    "FinishedGoodsFlag": "1",
                                    "DaysToManufacture": "4"
                                },
                                {
                                    "Name": "Mountain-200 Silver, 46",
                                    "FinishedGoodsFlag": "1",
                                    "DaysToManufacture": "4"
                                },
                                {
                                    "Name": "Mountain-200 Black, 38",
                                    "FinishedGoodsFlag": "1",
                                    "DaysToManufacture": "4"
                                },
                                {
                                    "Name": "Mountain-200 Black, 42",
                                    "FinishedGoodsFlag": "1",
                                    "DaysToManufacture": "4"
                                },
                                {
                                    "Name": "Mountain-200 Black, 46",
                                    "FinishedGoodsFlag": "1",
                                    "DaysToManufacture": "4"
                                },
                                {
                                    "Name": "Mountain-300 Black, 38",
                                    "FinishedGoodsFlag": "1",
                                    "DaysToManufacture": "4"
                                },
                                {
                                    "Name": "Mountain-300 Black, 40",
                                    "FinishedGoodsFlag": "1",
                                    "DaysToManufacture": "4"
                                },
                                {
                                    "Name": "Mountain-300 Black, 44",
                                    "FinishedGoodsFlag": "1",
                                    "DaysToManufacture": "4"
                                },
                                {
                                    "Name": "Mountain-300 Black, 48",
                                    "FinishedGoodsFlag": "1",
                                    "DaysToManufacture": "4"
                                },
                                {
                                    "Name": "Road-250 Red, 44",
                                    "FinishedGoodsFlag": "1",
                                    "DaysToManufacture": "4"
                                },
                                {
                                    "Name": "Road-250 Red, 48",
                                    "FinishedGoodsFlag": "1",
                                    "DaysToManufacture": "4"
                                },
                                {
                                    "Name": "Road-250 Red, 52",
                                    "FinishedGoodsFlag": "1",
                                    "DaysToManufacture": "4"
                                },
                                {
                                    "Name": "Road-250 Red, 58",
                                    "FinishedGoodsFlag": "1",
                                    "DaysToManufacture": "4"
                                },
                                {
                                    "Name": "Road-250 Black, 44",
                                    "FinishedGoodsFlag": "1",
                                    "DaysToManufacture": "4"
                                },
                                {
                                    "Name": "Road-250 Black, 48",
                                    "FinishedGoodsFlag": "1",
                                    "DaysToManufacture": "4"
                                },
                                {
                                    "Name": "Road-250 Black, 52",
                                    "FinishedGoodsFlag": "1",
                                    "DaysToManufacture": "4"
                                },
                                {
                                    "Name": "Road-250 Black, 58",
                                    "FinishedGoodsFlag": "1",
                                    "DaysToManufacture": "4"
                                },
                                {
                                    "Name": "Road-550-W Yellow, 38",
                                    "FinishedGoodsFlag": "1",
                                    "DaysToManufacture": "4"
                                },
                                {
                                    "Name": "Road-550-W Yellow, 40",
                                    "FinishedGoodsFlag": "1",
                                    "DaysToManufacture": "4"
                                },
                                {
                                    "Name": "Road-550-W Yellow, 42",
                                    "FinishedGoodsFlag": "1",
                                    "DaysToManufacture": "4"
                                },
                                {
                                    "Name": "Road-550-W Yellow, 44",
                                    "FinishedGoodsFlag": "1",
                                    "DaysToManufacture": "4"
                                },
                                {
                                    "Name": "Road-550-W Yellow, 48",
                                    "FinishedGoodsFlag": "1",
                                    "DaysToManufacture": "4"
                                },
                                {
                                    "Name": "Touring-2000 Blue, 60",
                                    "FinishedGoodsFlag": "1",
                                    "DaysToManufacture": "4"
                                },
                                {
                                    "Name": "Touring-1000 Yellow, 46",
                                    "FinishedGoodsFlag": "1",
                                    "DaysToManufacture": "4"
                                },
                                {
                                    "Name": "Touring-1000 Yellow, 50",
                                    "FinishedGoodsFlag": "1",
                                    "DaysToManufacture": "4"
                                },
                                {
                                    "Name": "Touring-1000 Yellow, 54",
                                    "FinishedGoodsFlag": "1",
                                    "DaysToManufacture": "4"
                                },
                                {
                                    "Name": "Touring-1000 Yellow, 60",
                                    "FinishedGoodsFlag": "1",
                                    "DaysToManufacture": "4"
                                },
                                {
                                    "Name": "Touring-3000 Blue, 54",
                                    "FinishedGoodsFlag": "1",
                                    "DaysToManufacture": "4"
                                },
                                {
                                    "Name": "Touring-3000 Blue, 58",
                                    "FinishedGoodsFlag": "1",
                                    "DaysToManufacture": "4"
                                },
                                {
                                    "Name": "Touring-3000 Blue, 62",
                                    "FinishedGoodsFlag": "1",
                                    "DaysToManufacture": "4"
                                },
                                {
                                    "Name": "Touring-3000 Yellow, 44",
                                    "FinishedGoodsFlag": "1",
                                    "DaysToManufacture": "4"
                                },
                                {
                                    "Name": "Touring-3000 Yellow, 50",
                                    "FinishedGoodsFlag": "1",
                                    "DaysToManufacture": "4"
                                },
                                {
                                    "Name": "Touring-3000 Yellow, 54",
                                    "FinishedGoodsFlag": "1",
                                    "DaysToManufacture": "4"
                                },
                                {
                                    "Name": "Touring-3000 Yellow, 58",
                                    "FinishedGoodsFlag": "1",
                                    "DaysToManufacture": "4"
                                },
                                {
                                    "Name": "Touring-3000 Yellow, 62",
                                    "FinishedGoodsFlag": "1",
                                    "DaysToManufacture": "4"
                                },
                                {
                                    "Name": "Touring-1000 Blue, 46",
                                    "FinishedGoodsFlag": "1",
                                    "DaysToManufacture": "4"
                                },
                                {
                                    "Name": "Touring-1000 Blue, 50",
                                    "FinishedGoodsFlag": "1",
                                    "DaysToManufacture": "4"
                                },
                                {
                                    "Name": "Touring-1000 Blue, 54",
                                    "FinishedGoodsFlag": "1",
                                    "DaysToManufacture": "4"
                                },
                                {
                                    "Name": "Touring-1000 Blue, 60",
                                    "FinishedGoodsFlag": "1",
                                    "DaysToManufacture": "4"
                                },
                                {
                                    "Name": "Touring-2000 Blue, 46",
                                    "FinishedGoodsFlag": "1",
                                    "DaysToManufacture": "4"
                                },
                                {
                                    "Name": "Touring-2000 Blue, 50",
                                    "FinishedGoodsFlag": "1",
                                    "DaysToManufacture": "4"
                                },
                                {
                                    "Name": "Touring-2000 Blue, 54",
                                    "FinishedGoodsFlag": "1",
                                    "DaysToManufacture": "4"
                                },
                                {
                                    "Name": "Road-350-W Yellow, 40",
                                    "FinishedGoodsFlag": "1",
                                    "DaysToManufacture": "4"
                                },
                                {
                                    "Name": "Road-350-W Yellow, 42",
                                    "FinishedGoodsFlag": "1",
                                    "DaysToManufacture": "4"
                                },
                                {
                                    "Name": "Road-350-W Yellow, 44",
                                    "FinishedGoodsFlag": "1",
                                    "DaysToManufacture": "4"
                                },
                                {
                                    "Name": "Road-350-W Yellow, 48",
                                    "FinishedGoodsFlag": "1",
                                    "DaysToManufacture": "4"
                                },
                                {
                                    "Name": "Road-750 Black, 58",
                                    "FinishedGoodsFlag": "1",
                                    "DaysToManufacture": "4"
                                },
                                {
                                    "Name": "Touring-3000 Blue, 44",
                                    "FinishedGoodsFlag": "1",
                                    "DaysToManufacture": "4"
                                },
                                {
                                    "Name": "Touring-3000 Blue, 50",
                                    "FinishedGoodsFlag": "1",
                                    "DaysToManufacture": "4"
                                },
                                {
                                    "Name": "Mountain-400-W Silver, 38",
                                    "FinishedGoodsFlag": "1",
                                    "DaysToManufacture": "4"
                                },
                                {
                                    "Name": "Mountain-400-W Silver, 40",
                                    "FinishedGoodsFlag": "1",
                                    "DaysToManufacture": "4"
                                },
                                {
                                    "Name": "Mountain-400-W Silver, 42",
                                    "FinishedGoodsFlag": "1",
                                    "DaysToManufacture": "4"
                                },
                                {
                                    "Name": "Mountain-400-W Silver, 46",
                                    "FinishedGoodsFlag": "1",
                                    "DaysToManufacture": "4"
                                },
                                {
                                    "Name": "Mountain-500 Silver, 40",
                                    "FinishedGoodsFlag": "1",
                                    "DaysToManufacture": "4"
                                },
                                {
                                    "Name": "Mountain-500 Silver, 42",
                                    "FinishedGoodsFlag": "1",
                                    "DaysToManufacture": "4"
                                },
                                {
                                    "Name": "Mountain-500 Silver, 44",
                                    "FinishedGoodsFlag": "1",
                                    "DaysToManufacture": "4"
                                },
                                {
                                    "Name": "Mountain-500 Silver, 48",
                                    "FinishedGoodsFlag": "1",
                                    "DaysToManufacture": "4"
                                },
                                {
                                    "Name": "Mountain-500 Silver, 52",
                                    "FinishedGoodsFlag": "1",
                                    "DaysToManufacture": "4"
                                },
                                {
                                    "Name": "Mountain-500 Black, 40",
                                    "FinishedGoodsFlag": "1",
                                    "DaysToManufacture": "4"
                                },
                                {
                                    "Name": "Mountain-500 Black, 42",
                                    "FinishedGoodsFlag": "1",
                                    "DaysToManufacture": "4"
                                },
                                {
                                    "Name": "Mountain-500 Black, 44",
                                    "FinishedGoodsFlag": "1",
                                    "DaysToManufacture": "4"
                                },
                                {
                                    "Name": "Mountain-500 Black, 48",
                                    "FinishedGoodsFlag": "1",
                                    "DaysToManufacture": "4"
                                },
                                {
                                    "Name": "Mountain-500 Black, 52",
                                    "FinishedGoodsFlag": "1",
                                    "DaysToManufacture": "4"
                                },
                                {
                                    "Name": "Road-750 Black, 44",
                                    "FinishedGoodsFlag": "1",
                                    "DaysToManufacture": "4"
                                },
                                {
                                    "Name": "Road-750 Black, 48",
                                    "FinishedGoodsFlag": "1",
                                    "DaysToManufacture": "4"
                                },
                                {
                                    "Name": "Road-750 Black, 52",
                                    "FinishedGoodsFlag": "1",
                                    "DaysToManufacture": "4"
                                }
                            ]
                        },
                        "text/html": "<table><tr><th>Name</th><th>FinishedGoodsFlag</th><th>DaysToManufacture</th></tr><tr><td>Road-150 Red, 62</td><td>1</td><td>4</td></tr><tr><td>Road-150 Red, 44</td><td>1</td><td>4</td></tr><tr><td>Road-150 Red, 48</td><td>1</td><td>4</td></tr><tr><td>Road-150 Red, 52</td><td>1</td><td>4</td></tr><tr><td>Road-150 Red, 56</td><td>1</td><td>4</td></tr><tr><td>Road-450 Red, 58</td><td>1</td><td>4</td></tr><tr><td>Road-450 Red, 60</td><td>1</td><td>4</td></tr><tr><td>Road-450 Red, 44</td><td>1</td><td>4</td></tr><tr><td>Road-450 Red, 48</td><td>1</td><td>4</td></tr><tr><td>Road-450 Red, 52</td><td>1</td><td>4</td></tr><tr><td>Road-650 Red, 58</td><td>1</td><td>4</td></tr><tr><td>Road-650 Red, 60</td><td>1</td><td>4</td></tr><tr><td>Road-650 Red, 62</td><td>1</td><td>4</td></tr><tr><td>Road-650 Red, 44</td><td>1</td><td>4</td></tr><tr><td>Road-650 Red, 48</td><td>1</td><td>4</td></tr><tr><td>Road-650 Red, 52</td><td>1</td><td>4</td></tr><tr><td>Road-650 Black, 58</td><td>1</td><td>4</td></tr><tr><td>Road-650 Black, 60</td><td>1</td><td>4</td></tr><tr><td>Road-650 Black, 62</td><td>1</td><td>4</td></tr><tr><td>Road-650 Black, 44</td><td>1</td><td>4</td></tr><tr><td>Road-650 Black, 48</td><td>1</td><td>4</td></tr><tr><td>Road-650 Black, 52</td><td>1</td><td>4</td></tr><tr><td>Mountain-100 Silver, 38</td><td>1</td><td>4</td></tr><tr><td>Mountain-100 Silver, 42</td><td>1</td><td>4</td></tr><tr><td>Mountain-100 Silver, 44</td><td>1</td><td>4</td></tr><tr><td>Mountain-100 Silver, 48</td><td>1</td><td>4</td></tr><tr><td>Mountain-100 Black, 38</td><td>1</td><td>4</td></tr><tr><td>Mountain-100 Black, 42</td><td>1</td><td>4</td></tr><tr><td>Mountain-100 Black, 44</td><td>1</td><td>4</td></tr><tr><td>Mountain-100 Black, 48</td><td>1</td><td>4</td></tr><tr><td>Mountain-200 Silver, 38</td><td>1</td><td>4</td></tr><tr><td>Mountain-200 Silver, 42</td><td>1</td><td>4</td></tr><tr><td>Mountain-200 Silver, 46</td><td>1</td><td>4</td></tr><tr><td>Mountain-200 Black, 38</td><td>1</td><td>4</td></tr><tr><td>Mountain-200 Black, 42</td><td>1</td><td>4</td></tr><tr><td>Mountain-200 Black, 46</td><td>1</td><td>4</td></tr><tr><td>Mountain-300 Black, 38</td><td>1</td><td>4</td></tr><tr><td>Mountain-300 Black, 40</td><td>1</td><td>4</td></tr><tr><td>Mountain-300 Black, 44</td><td>1</td><td>4</td></tr><tr><td>Mountain-300 Black, 48</td><td>1</td><td>4</td></tr><tr><td>Road-250 Red, 44</td><td>1</td><td>4</td></tr><tr><td>Road-250 Red, 48</td><td>1</td><td>4</td></tr><tr><td>Road-250 Red, 52</td><td>1</td><td>4</td></tr><tr><td>Road-250 Red, 58</td><td>1</td><td>4</td></tr><tr><td>Road-250 Black, 44</td><td>1</td><td>4</td></tr><tr><td>Road-250 Black, 48</td><td>1</td><td>4</td></tr><tr><td>Road-250 Black, 52</td><td>1</td><td>4</td></tr><tr><td>Road-250 Black, 58</td><td>1</td><td>4</td></tr><tr><td>Road-550-W Yellow, 38</td><td>1</td><td>4</td></tr><tr><td>Road-550-W Yellow, 40</td><td>1</td><td>4</td></tr><tr><td>Road-550-W Yellow, 42</td><td>1</td><td>4</td></tr><tr><td>Road-550-W Yellow, 44</td><td>1</td><td>4</td></tr><tr><td>Road-550-W Yellow, 48</td><td>1</td><td>4</td></tr><tr><td>Touring-2000 Blue, 60</td><td>1</td><td>4</td></tr><tr><td>Touring-1000 Yellow, 46</td><td>1</td><td>4</td></tr><tr><td>Touring-1000 Yellow, 50</td><td>1</td><td>4</td></tr><tr><td>Touring-1000 Yellow, 54</td><td>1</td><td>4</td></tr><tr><td>Touring-1000 Yellow, 60</td><td>1</td><td>4</td></tr><tr><td>Touring-3000 Blue, 54</td><td>1</td><td>4</td></tr><tr><td>Touring-3000 Blue, 58</td><td>1</td><td>4</td></tr><tr><td>Touring-3000 Blue, 62</td><td>1</td><td>4</td></tr><tr><td>Touring-3000 Yellow, 44</td><td>1</td><td>4</td></tr><tr><td>Touring-3000 Yellow, 50</td><td>1</td><td>4</td></tr><tr><td>Touring-3000 Yellow, 54</td><td>1</td><td>4</td></tr><tr><td>Touring-3000 Yellow, 58</td><td>1</td><td>4</td></tr><tr><td>Touring-3000 Yellow, 62</td><td>1</td><td>4</td></tr><tr><td>Touring-1000 Blue, 46</td><td>1</td><td>4</td></tr><tr><td>Touring-1000 Blue, 50</td><td>1</td><td>4</td></tr><tr><td>Touring-1000 Blue, 54</td><td>1</td><td>4</td></tr><tr><td>Touring-1000 Blue, 60</td><td>1</td><td>4</td></tr><tr><td>Touring-2000 Blue, 46</td><td>1</td><td>4</td></tr><tr><td>Touring-2000 Blue, 50</td><td>1</td><td>4</td></tr><tr><td>Touring-2000 Blue, 54</td><td>1</td><td>4</td></tr><tr><td>Road-350-W Yellow, 40</td><td>1</td><td>4</td></tr><tr><td>Road-350-W Yellow, 42</td><td>1</td><td>4</td></tr><tr><td>Road-350-W Yellow, 44</td><td>1</td><td>4</td></tr><tr><td>Road-350-W Yellow, 48</td><td>1</td><td>4</td></tr><tr><td>Road-750 Black, 58</td><td>1</td><td>4</td></tr><tr><td>Touring-3000 Blue, 44</td><td>1</td><td>4</td></tr><tr><td>Touring-3000 Blue, 50</td><td>1</td><td>4</td></tr><tr><td>Mountain-400-W Silver, 38</td><td>1</td><td>4</td></tr><tr><td>Mountain-400-W Silver, 40</td><td>1</td><td>4</td></tr><tr><td>Mountain-400-W Silver, 42</td><td>1</td><td>4</td></tr><tr><td>Mountain-400-W Silver, 46</td><td>1</td><td>4</td></tr><tr><td>Mountain-500 Silver, 40</td><td>1</td><td>4</td></tr><tr><td>Mountain-500 Silver, 42</td><td>1</td><td>4</td></tr><tr><td>Mountain-500 Silver, 44</td><td>1</td><td>4</td></tr><tr><td>Mountain-500 Silver, 48</td><td>1</td><td>4</td></tr><tr><td>Mountain-500 Silver, 52</td><td>1</td><td>4</td></tr><tr><td>Mountain-500 Black, 40</td><td>1</td><td>4</td></tr><tr><td>Mountain-500 Black, 42</td><td>1</td><td>4</td></tr><tr><td>Mountain-500 Black, 44</td><td>1</td><td>4</td></tr><tr><td>Mountain-500 Black, 48</td><td>1</td><td>4</td></tr><tr><td>Mountain-500 Black, 52</td><td>1</td><td>4</td></tr><tr><td>Road-750 Black, 44</td><td>1</td><td>4</td></tr><tr><td>Road-750 Black, 48</td><td>1</td><td>4</td></tr><tr><td>Road-750 Black, 52</td><td>1</td><td>4</td></tr></table>"
                    },
                    "metadata": {}
                }
            ],
            "execution_count": 1
        },
        {
            "cell_type": "markdown",
            "source": [
                "## Problem 2\n",
                "\n",
                "Write a SQL query to retrieve all product descriptions that contain the word '**steel**'. Sort the results in ascending order.\n",
                "\n",
                "Hint: Use the **ProductDescription** table."
            ],
            "metadata": {
                "azdata_cell_guid": "253f088f-0366-4dec-9624-4821476981b1",
                "language": "sql",
                "id": "GKEsCEqSmOfp"
            }
        },
        {
            "cell_type": "code",
            "source": [
                "-- Your SQL Query Here\n",
                "SELECT [Description]\n",
                "FROM Production.ProductDescription\n",
                "WHERE [Description] LIKE '%steel%'\n",
                "ORDER BY [Description];"
            ],
            "metadata": {
                "azdata_cell_guid": "7d8f0174-e518-42fc-b72d-7b6949a2321b",
                "language": "sql",
                "id": "XX52tSLGmOfp"
            },
            "outputs": [
                {
                    "output_type": "display_data",
                    "data": {
                        "text/html": "(5 rows affected)"
                    },
                    "metadata": {}
                },
                {
                    "output_type": "display_data",
                    "data": {
                        "text/html": "Total execution time: 00:00:00.038"
                    },
                    "metadata": {}
                },
                {
                    "output_type": "execute_result",
                    "execution_count": 2,
                    "data": {
                        "application/vnd.dataresource+json": {
                            "schema": {
                                "fields": [
                                    {
                                        "name": "Description"
                                    }
                                ]
                            },
                            "data": [
                                {
                                    "Description": "Aluminum alloy rim with stainless steel spokes; built for speed."
                                },
                                {
                                    "Description": "Carries 4 bikes securely; steel construction, fits 2\" receiver hitch."
                                },
                                {
                                    "Description": "Chromoly steel."
                                },
                                {
                                    "Description": "Perfect all-purpose bike stand for working on your bike at home. Quick-adjusting clamps and steel construction."
                                },
                                {
                                    "Description": "Stainless steel; designed to shed mud easily."
                                }
                            ]
                        },
                        "text/html": "<table><tr><th>Description</th></tr><tr><td>Aluminum alloy rim with stainless steel spokes; built for speed.</td></tr><tr><td>Carries 4 bikes securely; steel construction, fits 2&quot; receiver hitch.</td></tr><tr><td>Chromoly steel.</td></tr><tr><td>Perfect all-purpose bike stand for working on your bike at home. Quick-adjusting clamps and steel construction.</td></tr><tr><td>Stainless steel; designed to shed mud easily.</td></tr></table>"
                    },
                    "metadata": {}
                }
            ],
            "execution_count": 2
        },
        {
            "cell_type": "markdown",
            "source": [
                "## Problem 3\n",
                "\n",
                "Write a SQL query to retrieve the first name, middle name, and last name of employees whose first name is **Katie** and whose middle initial is not **J**. Sort the results by the last name in ascending order.\n",
                "\n",
                "**Hint**: The result should include Katie who don't have a middle name."
            ],
            "metadata": {
                "azdata_cell_guid": "92d42312-87f8-4c97-97c9-db684f7dbaf0",
                "language": "sql",
                "id": "H2juZnnumOfp"
            },
            "attachments": {}
        },
        {
            "cell_type": "code",
            "source": [
                "-- Your SQL Query Here\n",
                "SELECT FirstName, MiddleName, LastName\n",
                "FROM Person.Person\n",
                "WHERE FirstName='Katie' AND (MiddleName!='J' OR MiddleName IS NULL)\n",
                "ORDER BY LastName;"
            ],
            "metadata": {
                "azdata_cell_guid": "2ffdc945-13a4-42a2-a887-7c055dcc5662",
                "language": "sql",
                "id": "SiyMZG3RmOfq"
            },
            "outputs": [
                {
                    "output_type": "display_data",
                    "data": {
                        "text/html": "(25 rows affected)"
                    },
                    "metadata": {}
                },
                {
                    "output_type": "display_data",
                    "data": {
                        "text/html": "Total execution time: 00:00:00.034"
                    },
                    "metadata": {}
                },
                {
                    "output_type": "execute_result",
                    "execution_count": 3,
                    "data": {
                        "application/vnd.dataresource+json": {
                            "schema": {
                                "fields": [
                                    {
                                        "name": "FirstName"
                                    },
                                    {
                                        "name": "MiddleName"
                                    },
                                    {
                                        "name": "LastName"
                                    }
                                ]
                            },
                            "data": [
                                {
                                    "FirstName": "Katie",
                                    "MiddleName": "Z",
                                    "LastName": "Ashe"
                                },
                                {
                                    "FirstName": "Katie",
                                    "MiddleName": "F",
                                    "LastName": "Becker"
                                },
                                {
                                    "FirstName": "Katie",
                                    "MiddleName": "A",
                                    "LastName": "Chande"
                                },
                                {
                                    "FirstName": "Katie",
                                    "MiddleName": "NULL",
                                    "LastName": "Chapman"
                                },
                                {
                                    "FirstName": "Katie",
                                    "MiddleName": "NULL",
                                    "LastName": "Deng"
                                },
                                {
                                    "FirstName": "Katie",
                                    "MiddleName": "D",
                                    "LastName": "Goel"
                                },
                                {
                                    "FirstName": "Katie",
                                    "MiddleName": "NULL",
                                    "LastName": "Holt"
                                },
                                {
                                    "FirstName": "Katie",
                                    "MiddleName": "NULL",
                                    "LastName": "Jordan"
                                },
                                {
                                    "FirstName": "Katie",
                                    "MiddleName": "P",
                                    "LastName": "Kumar"
                                },
                                {
                                    "FirstName": "Katie",
                                    "MiddleName": "E",
                                    "LastName": "Lal"
                                },
                                {
                                    "FirstName": "Katie",
                                    "MiddleName": "L",
                                    "LastName": "Luo"
                                },
                                {
                                    "FirstName": "Katie",
                                    "MiddleName": "NULL",
                                    "LastName": "McAskill-White"
                                },
                                {
                                    "FirstName": "Katie",
                                    "MiddleName": "L",
                                    "LastName": "McAskill-White"
                                },
                                {
                                    "FirstName": "Katie",
                                    "MiddleName": "NULL",
                                    "LastName": "Nara"
                                },
                                {
                                    "FirstName": "Katie",
                                    "MiddleName": "A",
                                    "LastName": "Nath"
                                },
                                {
                                    "FirstName": "Katie",
                                    "MiddleName": "NULL",
                                    "LastName": "Pal"
                                },
                                {
                                    "FirstName": "Katie",
                                    "MiddleName": "A",
                                    "LastName": "Rai"
                                },
                                {
                                    "FirstName": "Katie",
                                    "MiddleName": "NULL",
                                    "LastName": "Raje"
                                },
                                {
                                    "FirstName": "Katie",
                                    "MiddleName": "NULL",
                                    "LastName": "Shan"
                                },
                                {
                                    "FirstName": "Katie",
                                    "MiddleName": "NULL",
                                    "LastName": "Sharma"
                                },
                                {
                                    "FirstName": "Katie",
                                    "MiddleName": "B",
                                    "LastName": "She"
                                },
                                {
                                    "FirstName": "Katie",
                                    "MiddleName": "A",
                                    "LastName": "Shen"
                                },
                                {
                                    "FirstName": "Katie",
                                    "MiddleName": "C",
                                    "LastName": "Xie"
                                },
                                {
                                    "FirstName": "Katie",
                                    "MiddleName": "R",
                                    "LastName": "Xu"
                                },
                                {
                                    "FirstName": "Katie",
                                    "MiddleName": "NULL",
                                    "LastName": "Yuan"
                                }
                            ]
                        },
                        "text/html": "<table><tr><th>FirstName</th><th>MiddleName</th><th>LastName</th></tr><tr><td>Katie</td><td>Z</td><td>Ashe</td></tr><tr><td>Katie</td><td>F</td><td>Becker</td></tr><tr><td>Katie</td><td>A</td><td>Chande</td></tr><tr><td>Katie</td><td>NULL</td><td>Chapman</td></tr><tr><td>Katie</td><td>NULL</td><td>Deng</td></tr><tr><td>Katie</td><td>D</td><td>Goel</td></tr><tr><td>Katie</td><td>NULL</td><td>Holt</td></tr><tr><td>Katie</td><td>NULL</td><td>Jordan</td></tr><tr><td>Katie</td><td>P</td><td>Kumar</td></tr><tr><td>Katie</td><td>E</td><td>Lal</td></tr><tr><td>Katie</td><td>L</td><td>Luo</td></tr><tr><td>Katie</td><td>NULL</td><td>McAskill-White</td></tr><tr><td>Katie</td><td>L</td><td>McAskill-White</td></tr><tr><td>Katie</td><td>NULL</td><td>Nara</td></tr><tr><td>Katie</td><td>A</td><td>Nath</td></tr><tr><td>Katie</td><td>NULL</td><td>Pal</td></tr><tr><td>Katie</td><td>A</td><td>Rai</td></tr><tr><td>Katie</td><td>NULL</td><td>Raje</td></tr><tr><td>Katie</td><td>NULL</td><td>Shan</td></tr><tr><td>Katie</td><td>NULL</td><td>Sharma</td></tr><tr><td>Katie</td><td>B</td><td>She</td></tr><tr><td>Katie</td><td>A</td><td>Shen</td></tr><tr><td>Katie</td><td>C</td><td>Xie</td></tr><tr><td>Katie</td><td>R</td><td>Xu</td></tr><tr><td>Katie</td><td>NULL</td><td>Yuan</td></tr></table>"
                    },
                    "metadata": {}
                }
            ],
            "execution_count": 3
        },
        {
            "cell_type": "markdown",
            "source": [
                "## Problem 4\n",
                "\n",
                "Write a SQL query to retrieve a list of products where the profit margin is greater than 100%. Include the product name, standard cost, list price, and profit margin in the output. Sort the results by profit margin in descending order.\n",
                "\n",
                "\n",
                "Hint:\n",
                "- Use the **Product** table.\n",
                "- ProfitMargin = (ListPrice - StandardCost) / StandardCost"
            ],
            "metadata": {
                "azdata_cell_guid": "1314ee9e-aec8-4a2d-af5e-493e191cef55",
                "language": "sql",
                "id": "KKkMwOHzmOfq"
            }
        },
        {
            "cell_type": "code",
            "source": [
                "-- Your SQL Query Here\n",
                "SELECT Name, StandardCost, ListPrice, (ListPrice-StandardCost)/StandardCost AS ProfitMargin\n",
                "FROM Production.Product\n",
                "WHERE StandardCost>0 AND (ListPrice-StandardCost)/StandardCost > 1\n",
                "ORDER BY ProfitMargin DESC;"
            ],
            "metadata": {
                "azdata_cell_guid": "28172a29-fb72-4018-9fd5-b96d1b7cd0df",
                "language": "sql",
                "id": "geTrOet6mOfr"
            },
            "outputs": [
                {
                    "output_type": "display_data",
                    "data": {
                        "text/html": "(110 rows affected)"
                    },
                    "metadata": {}
                },
                {
                    "output_type": "display_data",
                    "data": {
                        "text/html": "Total execution time: 00:00:00.073"
                    },
                    "metadata": {}
                },
                {
                    "output_type": "execute_result",
                    "execution_count": 15,
                    "data": {
                        "application/vnd.dataresource+json": {
                            "schema": {
                                "fields": [
                                    {
                                        "name": "Name"
                                    },
                                    {
                                        "name": "StandardCost"
                                    },
                                    {
                                        "name": "ListPrice"
                                    },
                                    {
                                        "name": "ProfitMargin"
                                    }
                                ]
                            },
                            "data": [
                                {
                                    "Name": "Mountain Bike Socks, M",
                                    "StandardCost": "3.3963",
                                    "ListPrice": "9.50",
                                    "ProfitMargin": "1.7971"
                                },
                                {
                                    "Name": "Mountain Bike Socks, L",
                                    "StandardCost": "3.3963",
                                    "ListPrice": "9.50",
                                    "ProfitMargin": "1.7971"
                                },
                                {
                                    "Name": "Fender Set - Mountain",
                                    "StandardCost": "8.2205",
                                    "ListPrice": "21.98",
                                    "ProfitMargin": "1.6738"
                                },
                                {
                                    "Name": "All-Purpose Bike Stand",
                                    "StandardCost": "59.466",
                                    "ListPrice": "159.00",
                                    "ProfitMargin": "1.6737"
                                },
                                {
                                    "Name": "Hydration Pack - 70 oz.",
                                    "StandardCost": "20.5663",
                                    "ListPrice": "54.99",
                                    "ProfitMargin": "1.6737"
                                },
                                {
                                    "Name": "Sport-100 Helmet, Red",
                                    "StandardCost": "13.0863",
                                    "ListPrice": "34.99",
                                    "ProfitMargin": "1.6737"
                                },
                                {
                                    "Name": "Sport-100 Helmet, Black",
                                    "StandardCost": "13.0863",
                                    "ListPrice": "34.99",
                                    "ProfitMargin": "1.6737"
                                },
                                {
                                    "Name": "Sport-100 Helmet, Blue",
                                    "StandardCost": "13.0863",
                                    "ListPrice": "34.99",
                                    "ProfitMargin": "1.6737"
                                },
                                {
                                    "Name": "Classic Vest, S",
                                    "StandardCost": "23.749",
                                    "ListPrice": "63.50",
                                    "ProfitMargin": "1.6737"
                                },
                                {
                                    "Name": "Classic Vest, M",
                                    "StandardCost": "23.749",
                                    "ListPrice": "63.50",
                                    "ProfitMargin": "1.6737"
                                },
                                {
                                    "Name": "Classic Vest, L",
                                    "StandardCost": "23.749",
                                    "ListPrice": "63.50",
                                    "ProfitMargin": "1.6737"
                                },
                                {
                                    "Name": "Women's Mountain Shorts, S",
                                    "StandardCost": "26.1763",
                                    "ListPrice": "69.99",
                                    "ProfitMargin": "1.6737"
                                },
                                {
                                    "Name": "Women's Mountain Shorts, M",
                                    "StandardCost": "26.1763",
                                    "ListPrice": "69.99",
                                    "ProfitMargin": "1.6737"
                                },
                                {
                                    "Name": "Women's Mountain Shorts, L",
                                    "StandardCost": "26.1763",
                                    "ListPrice": "69.99",
                                    "ProfitMargin": "1.6737"
                                },
                                {
                                    "Name": "Water Bottle - 30 oz.",
                                    "StandardCost": "1.8663",
                                    "ListPrice": "4.99",
                                    "ProfitMargin": "1.6737"
                                },
                                {
                                    "Name": "Mountain Bottle Cage",
                                    "StandardCost": "3.7363",
                                    "ListPrice": "9.99",
                                    "ProfitMargin": "1.6737"
                                },
                                {
                                    "Name": "Road Bottle Cage",
                                    "StandardCost": "3.3623",
                                    "ListPrice": "8.99",
                                    "ProfitMargin": "1.6737"
                                },
                                {
                                    "Name": "Half-Finger Gloves, S",
                                    "StandardCost": "9.1593",
                                    "ListPrice": "24.49",
                                    "ProfitMargin": "1.6737"
                                },
                                {
                                    "Name": "Half-Finger Gloves, M",
                                    "StandardCost": "9.1593",
                                    "ListPrice": "24.49",
                                    "ProfitMargin": "1.6737"
                                },
                                {
                                    "Name": "Half-Finger Gloves, L",
                                    "StandardCost": "9.1593",
                                    "ListPrice": "24.49",
                                    "ProfitMargin": "1.6737"
                                },
                                {
                                    "Name": "Racing Socks, M",
                                    "StandardCost": "3.3623",
                                    "ListPrice": "8.99",
                                    "ProfitMargin": "1.6737"
                                },
                                {
                                    "Name": "Racing Socks, L",
                                    "StandardCost": "3.3623",
                                    "ListPrice": "8.99",
                                    "ProfitMargin": "1.6737"
                                },
                                {
                                    "Name": "Hitch Rack - 4-Bike",
                                    "StandardCost": "44.88",
                                    "ListPrice": "120.00",
                                    "ProfitMargin": "1.6737"
                                },
                                {
                                    "Name": "Bike Wash - Dissolver",
                                    "StandardCost": "2.9733",
                                    "ListPrice": "7.95",
                                    "ProfitMargin": "1.6737"
                                },
                                {
                                    "Name": "Mountain Tire Tube",
                                    "StandardCost": "1.8663",
                                    "ListPrice": "4.99",
                                    "ProfitMargin": "1.6737"
                                },
                                {
                                    "Name": "Road Tire Tube",
                                    "StandardCost": "1.4923",
                                    "ListPrice": "3.99",
                                    "ProfitMargin": "1.6737"
                                },
                                {
                                    "Name": "Touring Tire Tube",
                                    "StandardCost": "1.8663",
                                    "ListPrice": "4.99",
                                    "ProfitMargin": "1.6737"
                                },
                                {
                                    "Name": "LL Mountain Tire",
                                    "StandardCost": "9.3463",
                                    "ListPrice": "24.99",
                                    "ProfitMargin": "1.6737"
                                },
                                {
                                    "Name": "ML Mountain Tire",
                                    "StandardCost": "11.2163",
                                    "ListPrice": "29.99",
                                    "ProfitMargin": "1.6737"
                                },
                                {
                                    "Name": "HL Mountain Tire",
                                    "StandardCost": "13.09",
                                    "ListPrice": "35.00",
                                    "ProfitMargin": "1.6737"
                                },
                                {
                                    "Name": "LL Road Tire",
                                    "StandardCost": "8.0373",
                                    "ListPrice": "21.49",
                                    "ProfitMargin": "1.6737"
                                },
                                {
                                    "Name": "ML Road Tire",
                                    "StandardCost": "9.3463",
                                    "ListPrice": "24.99",
                                    "ProfitMargin": "1.6737"
                                },
                                {
                                    "Name": "HL Road Tire",
                                    "StandardCost": "12.1924",
                                    "ListPrice": "32.60",
                                    "ProfitMargin": "1.6737"
                                },
                                {
                                    "Name": "Touring Tire",
                                    "StandardCost": "10.8423",
                                    "ListPrice": "28.99",
                                    "ProfitMargin": "1.6737"
                                },
                                {
                                    "Name": "Patch Kit/8 Patches",
                                    "StandardCost": "0.8565",
                                    "ListPrice": "2.29",
                                    "ProfitMargin": "1.6736"
                                },
                                {
                                    "Name": "Full-Finger Gloves, S",
                                    "StandardCost": "15.6709",
                                    "ListPrice": "37.99",
                                    "ProfitMargin": "1.4242"
                                },
                                {
                                    "Name": "Full-Finger Gloves, M",
                                    "StandardCost": "15.6709",
                                    "ListPrice": "37.99",
                                    "ProfitMargin": "1.4242"
                                },
                                {
                                    "Name": "Full-Finger Gloves, L",
                                    "StandardCost": "15.6709",
                                    "ListPrice": "37.99",
                                    "ProfitMargin": "1.4242"
                                },
                                {
                                    "Name": "Men's Sports Shorts, S",
                                    "StandardCost": "24.7459",
                                    "ListPrice": "59.99",
                                    "ProfitMargin": "1.4242"
                                },
                                {
                                    "Name": "Touring-Panniers, Large",
                                    "StandardCost": "51.5625",
                                    "ListPrice": "125.00",
                                    "ProfitMargin": "1.4242"
                                },
                                {
                                    "Name": "Cable Lock",
                                    "StandardCost": "10.3125",
                                    "ListPrice": "25.00",
                                    "ProfitMargin": "1.4242"
                                },
                                {
                                    "Name": "Minipump",
                                    "StandardCost": "8.2459",
                                    "ListPrice": "19.99",
                                    "ProfitMargin": "1.4242"
                                },
                                {
                                    "Name": "Mountain Pump",
                                    "StandardCost": "10.3084",
                                    "ListPrice": "24.99",
                                    "ProfitMargin": "1.4242"
                                },
                                {
                                    "Name": "Taillights - Battery-Powered",
                                    "StandardCost": "5.7709",
                                    "ListPrice": "13.99",
                                    "ProfitMargin": "1.4242"
                                },
                                {
                                    "Name": "Headlights - Dual-Beam",
                                    "StandardCost": "14.4334",
                                    "ListPrice": "34.99",
                                    "ProfitMargin": "1.4242"
                                },
                                {
                                    "Name": "Headlights - Weatherproof",
                                    "StandardCost": "18.5584",
                                    "ListPrice": "44.99",
                                    "ProfitMargin": "1.4242"
                                },
                                {
                                    "Name": "Men's Sports Shorts, M",
                                    "StandardCost": "24.7459",
                                    "ListPrice": "59.99",
                                    "ProfitMargin": "1.4242"
                                },
                                {
                                    "Name": "Men's Sports Shorts, L",
                                    "StandardCost": "24.7459",
                                    "ListPrice": "59.99",
                                    "ProfitMargin": "1.4242"
                                },
                                {
                                    "Name": "Men's Sports Shorts, XL",
                                    "StandardCost": "24.7459",
                                    "ListPrice": "59.99",
                                    "ProfitMargin": "1.4242"
                                },
                                {
                                    "Name": "Women's Tights, S",
                                    "StandardCost": "30.9334",
                                    "ListPrice": "74.99",
                                    "ProfitMargin": "1.4242"
                                },
                                {
                                    "Name": "Women's Tights, M",
                                    "StandardCost": "30.9334",
                                    "ListPrice": "74.99",
                                    "ProfitMargin": "1.4242"
                                },
                                {
                                    "Name": "Women's Tights, L",
                                    "StandardCost": "30.9334",
                                    "ListPrice": "74.99",
                                    "ProfitMargin": "1.4242"
                                },
                                {
                                    "Name": "Men's Bib-Shorts, S",
                                    "StandardCost": "37.1209",
                                    "ListPrice": "89.99",
                                    "ProfitMargin": "1.4242"
                                },
                                {
                                    "Name": "Men's Bib-Shorts, M",
                                    "StandardCost": "37.1209",
                                    "ListPrice": "89.99",
                                    "ProfitMargin": "1.4242"
                                },
                                {
                                    "Name": "Men's Bib-Shorts, L",
                                    "StandardCost": "37.1209",
                                    "ListPrice": "89.99",
                                    "ProfitMargin": "1.4242"
                                },
                                {
                                    "Name": "LL Fork",
                                    "StandardCost": "65.8097",
                                    "ListPrice": "148.22",
                                    "ProfitMargin": "1.2522"
                                },
                                {
                                    "Name": "ML Fork",
                                    "StandardCost": "77.9176",
                                    "ListPrice": "175.49",
                                    "ProfitMargin": "1.2522"
                                },
                                {
                                    "Name": "HL Fork",
                                    "StandardCost": "101.8936",
                                    "ListPrice": "229.49",
                                    "ProfitMargin": "1.2522"
                                },
                                {
                                    "Name": "LL Headset",
                                    "StandardCost": "15.1848",
                                    "ListPrice": "34.20",
                                    "ProfitMargin": "1.2522"
                                },
                                {
                                    "Name": "ML Headset",
                                    "StandardCost": "45.4168",
                                    "ListPrice": "102.29",
                                    "ProfitMargin": "1.2522"
                                },
                                {
                                    "Name": "HL Headset",
                                    "StandardCost": "55.3801",
                                    "ListPrice": "124.73",
                                    "ProfitMargin": "1.2522"
                                },
                                {
                                    "Name": "LL Mountain Handlebars",
                                    "StandardCost": "19.7758",
                                    "ListPrice": "44.54",
                                    "ProfitMargin": "1.2522"
                                },
                                {
                                    "Name": "ML Mountain Handlebars",
                                    "StandardCost": "27.4925",
                                    "ListPrice": "61.92",
                                    "ProfitMargin": "1.2522"
                                },
                                {
                                    "Name": "HL Mountain Handlebars",
                                    "StandardCost": "53.3999",
                                    "ListPrice": "120.27",
                                    "ProfitMargin": "1.2522"
                                },
                                {
                                    "Name": "LL Road Handlebars",
                                    "StandardCost": "19.7758",
                                    "ListPrice": "44.54",
                                    "ProfitMargin": "1.2522"
                                },
                                {
                                    "Name": "ML Road Handlebars",
                                    "StandardCost": "27.4925",
                                    "ListPrice": "61.92",
                                    "ProfitMargin": "1.2522"
                                },
                                {
                                    "Name": "HL Road Handlebars",
                                    "StandardCost": "53.3999",
                                    "ListPrice": "120.27",
                                    "ProfitMargin": "1.2522"
                                },
                                {
                                    "Name": "LL Mountain Front Wheel",
                                    "StandardCost": "26.9708",
                                    "ListPrice": "60.745",
                                    "ProfitMargin": "1.2522"
                                },
                                {
                                    "Name": "ML Mountain Front Wheel",
                                    "StandardCost": "92.8071",
                                    "ListPrice": "209.025",
                                    "ProfitMargin": "1.2522"
                                },
                                {
                                    "Name": "HL Mountain Front Wheel",
                                    "StandardCost": "133.2955",
                                    "ListPrice": "300.215",
                                    "ProfitMargin": "1.2522"
                                },
                                {
                                    "Name": "LL Road Front Wheel",
                                    "StandardCost": "37.9909",
                                    "ListPrice": "85.565",
                                    "ProfitMargin": "1.2522"
                                },
                                {
                                    "Name": "ML Road Front Wheel",
                                    "StandardCost": "110.2829",
                                    "ListPrice": "248.385",
                                    "ProfitMargin": "1.2522"
                                },
                                {
                                    "Name": "HL Road Front Wheel",
                                    "StandardCost": "146.5466",
                                    "ListPrice": "330.06",
                                    "ProfitMargin": "1.2522"
                                },
                                {
                                    "Name": "Touring Front Wheel",
                                    "StandardCost": "96.7964",
                                    "ListPrice": "218.01",
                                    "ProfitMargin": "1.2522"
                                },
                                {
                                    "Name": "LL Mountain Rear Wheel",
                                    "StandardCost": "38.9588",
                                    "ListPrice": "87.745",
                                    "ProfitMargin": "1.2522"
                                },
                                {
                                    "Name": "ML Mountain Rear Wheel",
                                    "StandardCost": "104.7951",
                                    "ListPrice": "236.025",
                                    "ProfitMargin": "1.2522"
                                },
                                {
                                    "Name": "HL Mountain Rear Wheel",
                                    "StandardCost": "145.2835",
                                    "ListPrice": "327.215",
                                    "ProfitMargin": "1.2522"
                                },
                                {
                                    "Name": "LL Road Rear Wheel",
                                    "StandardCost": "49.9789",
                                    "ListPrice": "112.565",
                                    "ProfitMargin": "1.2522"
                                },
                                {
                                    "Name": "ML Road Rear Wheel",
                                    "StandardCost": "122.2709",
                                    "ListPrice": "275.385",
                                    "ProfitMargin": "1.2522"
                                },
                                {
                                    "Name": "HL Road Rear Wheel",
                                    "StandardCost": "158.5346",
                                    "ListPrice": "357.06",
                                    "ProfitMargin": "1.2522"
                                },
                                {
                                    "Name": "Touring Rear Wheel",
                                    "StandardCost": "108.7844",
                                    "ListPrice": "245.01",
                                    "ProfitMargin": "1.2522"
                                },
                                {
                                    "Name": "LL Mountain Pedal",
                                    "StandardCost": "17.9776",
                                    "ListPrice": "40.49",
                                    "ProfitMargin": "1.2522"
                                },
                                {
                                    "Name": "ML Mountain Pedal",
                                    "StandardCost": "27.568",
                                    "ListPrice": "62.09",
                                    "ProfitMargin": "1.2522"
                                },
                                {
                                    "Name": "HL Mountain Pedal",
                                    "StandardCost": "35.9596",
                                    "ListPrice": "80.99",
                                    "ProfitMargin": "1.2522"
                                },
                                {
                                    "Name": "LL Road Pedal",
                                    "StandardCost": "17.9776",
                                    "ListPrice": "40.49",
                                    "ProfitMargin": "1.2522"
                                },
                                {
                                    "Name": "ML Road Pedal",
                                    "StandardCost": "27.568",
                                    "ListPrice": "62.09",
                                    "ProfitMargin": "1.2522"
                                },
                                {
                                    "Name": "HL Road Pedal",
                                    "StandardCost": "35.9596",
                                    "ListPrice": "80.99",
                                    "ProfitMargin": "1.2522"
                                },
                                {
                                    "Name": "Touring Pedal",
                                    "StandardCost": "35.9596",
                                    "ListPrice": "80.99",
                                    "ProfitMargin": "1.2522"
                                },
                                {
                                    "Name": "Front Derailleur",
                                    "StandardCost": "40.6216",
                                    "ListPrice": "91.49",
                                    "ProfitMargin": "1.2522"
                                },
                                {
                                    "Name": "LL Touring Handlebars",
                                    "StandardCost": "20.464",
                                    "ListPrice": "46.09",
                                    "ProfitMargin": "1.2522"
                                },
                                {
                                    "Name": "HL Touring Handlebars",
                                    "StandardCost": "40.6571",
                                    "ListPrice": "91.57",
                                    "ProfitMargin": "1.2522"
                                },
                                {
                                    "Name": "Front Brakes",
                                    "StandardCost": "47.286",
                                    "ListPrice": "106.50",
                                    "ProfitMargin": "1.2522"
                                },
                                {
                                    "Name": "LL Crankset",
                                    "StandardCost": "77.9176",
                                    "ListPrice": "175.49",
                                    "ProfitMargin": "1.2522"
                                },
                                {
                                    "Name": "ML Crankset",
                                    "StandardCost": "113.8816",
                                    "ListPrice": "256.49",
                                    "ProfitMargin": "1.2522"
                                },
                                {
                                    "Name": "HL Crankset",
                                    "StandardCost": "179.8156",
                                    "ListPrice": "404.99",
                                    "ProfitMargin": "1.2522"
                                },
                                {
                                    "Name": "Chain",
                                    "StandardCost": "8.9866",
                                    "ListPrice": "20.24",
                                    "ProfitMargin": "1.2522"
                                },
                                {
                                    "Name": "LL Bottom Bracket",
                                    "StandardCost": "23.9716",
                                    "ListPrice": "53.99",
                                    "ProfitMargin": "1.2522"
                                },
                                {
                                    "Name": "ML Bottom Bracket",
                                    "StandardCost": "44.9506",
                                    "ListPrice": "101.24",
                                    "ProfitMargin": "1.2522"
                                },
                                {
                                    "Name": "HL Bottom Bracket",
                                    "StandardCost": "53.9416",
                                    "ListPrice": "121.49",
                                    "ProfitMargin": "1.2522"
                                },
                                {
                                    "Name": "Rear Derailleur",
                                    "StandardCost": "53.9282",
                                    "ListPrice": "121.46",
                                    "ProfitMargin": "1.2522"
                                },
                                {
                                    "Name": "Rear Brakes",
                                    "StandardCost": "47.286",
                                    "ListPrice": "106.50",
                                    "ProfitMargin": "1.2522"
                                },
                                {
                                    "Name": "LL Mountain Seat/Saddle",
                                    "StandardCost": "12.0413",
                                    "ListPrice": "27.12",
                                    "ProfitMargin": "1.2522"
                                },
                                {
                                    "Name": "ML Mountain Seat/Saddle",
                                    "StandardCost": "17.3782",
                                    "ListPrice": "39.14",
                                    "ProfitMargin": "1.2522"
                                },
                                {
                                    "Name": "HL Mountain Seat/Saddle",
                                    "StandardCost": "23.3722",
                                    "ListPrice": "52.64",
                                    "ProfitMargin": "1.2522"
                                },
                                {
                                    "Name": "LL Road Seat/Saddle",
                                    "StandardCost": "12.0413",
                                    "ListPrice": "27.12",
                                    "ProfitMargin": "1.2522"
                                },
                                {
                                    "Name": "ML Road Seat/Saddle",
                                    "StandardCost": "17.3782",
                                    "ListPrice": "39.14",
                                    "ProfitMargin": "1.2522"
                                },
                                {
                                    "Name": "HL Road Seat/Saddle",
                                    "StandardCost": "23.3722",
                                    "ListPrice": "52.64",
                                    "ProfitMargin": "1.2522"
                                },
                                {
                                    "Name": "LL Touring Seat/Saddle",
                                    "StandardCost": "12.0413",
                                    "ListPrice": "27.12",
                                    "ProfitMargin": "1.2522"
                                },
                                {
                                    "Name": "ML Touring Seat/Saddle",
                                    "StandardCost": "17.3782",
                                    "ListPrice": "39.14",
                                    "ProfitMargin": "1.2522"
                                },
                                {
                                    "Name": "HL Touring Seat/Saddle",
                                    "StandardCost": "23.3722",
                                    "ListPrice": "52.64",
                                    "ProfitMargin": "1.2522"
                                }
                            ]
                        },
                        "text/html": "<table><tr><th>Name</th><th>StandardCost</th><th>ListPrice</th><th>ProfitMargin</th></tr><tr><td>Mountain Bike Socks, M</td><td>3.3963</td><td>9.50</td><td>1.7971</td></tr><tr><td>Mountain Bike Socks, L</td><td>3.3963</td><td>9.50</td><td>1.7971</td></tr><tr><td>Fender Set - Mountain</td><td>8.2205</td><td>21.98</td><td>1.6738</td></tr><tr><td>All-Purpose Bike Stand</td><td>59.466</td><td>159.00</td><td>1.6737</td></tr><tr><td>Hydration Pack - 70 oz.</td><td>20.5663</td><td>54.99</td><td>1.6737</td></tr><tr><td>Sport-100 Helmet, Red</td><td>13.0863</td><td>34.99</td><td>1.6737</td></tr><tr><td>Sport-100 Helmet, Black</td><td>13.0863</td><td>34.99</td><td>1.6737</td></tr><tr><td>Sport-100 Helmet, Blue</td><td>13.0863</td><td>34.99</td><td>1.6737</td></tr><tr><td>Classic Vest, S</td><td>23.749</td><td>63.50</td><td>1.6737</td></tr><tr><td>Classic Vest, M</td><td>23.749</td><td>63.50</td><td>1.6737</td></tr><tr><td>Classic Vest, L</td><td>23.749</td><td>63.50</td><td>1.6737</td></tr><tr><td>Women&#39;s Mountain Shorts, S</td><td>26.1763</td><td>69.99</td><td>1.6737</td></tr><tr><td>Women&#39;s Mountain Shorts, M</td><td>26.1763</td><td>69.99</td><td>1.6737</td></tr><tr><td>Women&#39;s Mountain Shorts, L</td><td>26.1763</td><td>69.99</td><td>1.6737</td></tr><tr><td>Water Bottle - 30 oz.</td><td>1.8663</td><td>4.99</td><td>1.6737</td></tr><tr><td>Mountain Bottle Cage</td><td>3.7363</td><td>9.99</td><td>1.6737</td></tr><tr><td>Road Bottle Cage</td><td>3.3623</td><td>8.99</td><td>1.6737</td></tr><tr><td>Half-Finger Gloves, S</td><td>9.1593</td><td>24.49</td><td>1.6737</td></tr><tr><td>Half-Finger Gloves, M</td><td>9.1593</td><td>24.49</td><td>1.6737</td></tr><tr><td>Half-Finger Gloves, L</td><td>9.1593</td><td>24.49</td><td>1.6737</td></tr><tr><td>Racing Socks, M</td><td>3.3623</td><td>8.99</td><td>1.6737</td></tr><tr><td>Racing Socks, L</td><td>3.3623</td><td>8.99</td><td>1.6737</td></tr><tr><td>Hitch Rack - 4-Bike</td><td>44.88</td><td>120.00</td><td>1.6737</td></tr><tr><td>Bike Wash - Dissolver</td><td>2.9733</td><td>7.95</td><td>1.6737</td></tr><tr><td>Mountain Tire Tube</td><td>1.8663</td><td>4.99</td><td>1.6737</td></tr><tr><td>Road Tire Tube</td><td>1.4923</td><td>3.99</td><td>1.6737</td></tr><tr><td>Touring Tire Tube</td><td>1.8663</td><td>4.99</td><td>1.6737</td></tr><tr><td>LL Mountain Tire</td><td>9.3463</td><td>24.99</td><td>1.6737</td></tr><tr><td>ML Mountain Tire</td><td>11.2163</td><td>29.99</td><td>1.6737</td></tr><tr><td>HL Mountain Tire</td><td>13.09</td><td>35.00</td><td>1.6737</td></tr><tr><td>LL Road Tire</td><td>8.0373</td><td>21.49</td><td>1.6737</td></tr><tr><td>ML Road Tire</td><td>9.3463</td><td>24.99</td><td>1.6737</td></tr><tr><td>HL Road Tire</td><td>12.1924</td><td>32.60</td><td>1.6737</td></tr><tr><td>Touring Tire</td><td>10.8423</td><td>28.99</td><td>1.6737</td></tr><tr><td>Patch Kit/8 Patches</td><td>0.8565</td><td>2.29</td><td>1.6736</td></tr><tr><td>Full-Finger Gloves, S</td><td>15.6709</td><td>37.99</td><td>1.4242</td></tr><tr><td>Full-Finger Gloves, M</td><td>15.6709</td><td>37.99</td><td>1.4242</td></tr><tr><td>Full-Finger Gloves, L</td><td>15.6709</td><td>37.99</td><td>1.4242</td></tr><tr><td>Men&#39;s Sports Shorts, S</td><td>24.7459</td><td>59.99</td><td>1.4242</td></tr><tr><td>Touring-Panniers, Large</td><td>51.5625</td><td>125.00</td><td>1.4242</td></tr><tr><td>Cable Lock</td><td>10.3125</td><td>25.00</td><td>1.4242</td></tr><tr><td>Minipump</td><td>8.2459</td><td>19.99</td><td>1.4242</td></tr><tr><td>Mountain Pump</td><td>10.3084</td><td>24.99</td><td>1.4242</td></tr><tr><td>Taillights - Battery-Powered</td><td>5.7709</td><td>13.99</td><td>1.4242</td></tr><tr><td>Headlights - Dual-Beam</td><td>14.4334</td><td>34.99</td><td>1.4242</td></tr><tr><td>Headlights - Weatherproof</td><td>18.5584</td><td>44.99</td><td>1.4242</td></tr><tr><td>Men&#39;s Sports Shorts, M</td><td>24.7459</td><td>59.99</td><td>1.4242</td></tr><tr><td>Men&#39;s Sports Shorts, L</td><td>24.7459</td><td>59.99</td><td>1.4242</td></tr><tr><td>Men&#39;s Sports Shorts, XL</td><td>24.7459</td><td>59.99</td><td>1.4242</td></tr><tr><td>Women&#39;s Tights, S</td><td>30.9334</td><td>74.99</td><td>1.4242</td></tr><tr><td>Women&#39;s Tights, M</td><td>30.9334</td><td>74.99</td><td>1.4242</td></tr><tr><td>Women&#39;s Tights, L</td><td>30.9334</td><td>74.99</td><td>1.4242</td></tr><tr><td>Men&#39;s Bib-Shorts, S</td><td>37.1209</td><td>89.99</td><td>1.4242</td></tr><tr><td>Men&#39;s Bib-Shorts, M</td><td>37.1209</td><td>89.99</td><td>1.4242</td></tr><tr><td>Men&#39;s Bib-Shorts, L</td><td>37.1209</td><td>89.99</td><td>1.4242</td></tr><tr><td>LL Fork</td><td>65.8097</td><td>148.22</td><td>1.2522</td></tr><tr><td>ML Fork</td><td>77.9176</td><td>175.49</td><td>1.2522</td></tr><tr><td>HL Fork</td><td>101.8936</td><td>229.49</td><td>1.2522</td></tr><tr><td>LL Headset</td><td>15.1848</td><td>34.20</td><td>1.2522</td></tr><tr><td>ML Headset</td><td>45.4168</td><td>102.29</td><td>1.2522</td></tr><tr><td>HL Headset</td><td>55.3801</td><td>124.73</td><td>1.2522</td></tr><tr><td>LL Mountain Handlebars</td><td>19.7758</td><td>44.54</td><td>1.2522</td></tr><tr><td>ML Mountain Handlebars</td><td>27.4925</td><td>61.92</td><td>1.2522</td></tr><tr><td>HL Mountain Handlebars</td><td>53.3999</td><td>120.27</td><td>1.2522</td></tr><tr><td>LL Road Handlebars</td><td>19.7758</td><td>44.54</td><td>1.2522</td></tr><tr><td>ML Road Handlebars</td><td>27.4925</td><td>61.92</td><td>1.2522</td></tr><tr><td>HL Road Handlebars</td><td>53.3999</td><td>120.27</td><td>1.2522</td></tr><tr><td>LL Mountain Front Wheel</td><td>26.9708</td><td>60.745</td><td>1.2522</td></tr><tr><td>ML Mountain Front Wheel</td><td>92.8071</td><td>209.025</td><td>1.2522</td></tr><tr><td>HL Mountain Front Wheel</td><td>133.2955</td><td>300.215</td><td>1.2522</td></tr><tr><td>LL Road Front Wheel</td><td>37.9909</td><td>85.565</td><td>1.2522</td></tr><tr><td>ML Road Front Wheel</td><td>110.2829</td><td>248.385</td><td>1.2522</td></tr><tr><td>HL Road Front Wheel</td><td>146.5466</td><td>330.06</td><td>1.2522</td></tr><tr><td>Touring Front Wheel</td><td>96.7964</td><td>218.01</td><td>1.2522</td></tr><tr><td>LL Mountain Rear Wheel</td><td>38.9588</td><td>87.745</td><td>1.2522</td></tr><tr><td>ML Mountain Rear Wheel</td><td>104.7951</td><td>236.025</td><td>1.2522</td></tr><tr><td>HL Mountain Rear Wheel</td><td>145.2835</td><td>327.215</td><td>1.2522</td></tr><tr><td>LL Road Rear Wheel</td><td>49.9789</td><td>112.565</td><td>1.2522</td></tr><tr><td>ML Road Rear Wheel</td><td>122.2709</td><td>275.385</td><td>1.2522</td></tr><tr><td>HL Road Rear Wheel</td><td>158.5346</td><td>357.06</td><td>1.2522</td></tr><tr><td>Touring Rear Wheel</td><td>108.7844</td><td>245.01</td><td>1.2522</td></tr><tr><td>LL Mountain Pedal</td><td>17.9776</td><td>40.49</td><td>1.2522</td></tr><tr><td>ML Mountain Pedal</td><td>27.568</td><td>62.09</td><td>1.2522</td></tr><tr><td>HL Mountain Pedal</td><td>35.9596</td><td>80.99</td><td>1.2522</td></tr><tr><td>LL Road Pedal</td><td>17.9776</td><td>40.49</td><td>1.2522</td></tr><tr><td>ML Road Pedal</td><td>27.568</td><td>62.09</td><td>1.2522</td></tr><tr><td>HL Road Pedal</td><td>35.9596</td><td>80.99</td><td>1.2522</td></tr><tr><td>Touring Pedal</td><td>35.9596</td><td>80.99</td><td>1.2522</td></tr><tr><td>Front Derailleur</td><td>40.6216</td><td>91.49</td><td>1.2522</td></tr><tr><td>LL Touring Handlebars</td><td>20.464</td><td>46.09</td><td>1.2522</td></tr><tr><td>HL Touring Handlebars</td><td>40.6571</td><td>91.57</td><td>1.2522</td></tr><tr><td>Front Brakes</td><td>47.286</td><td>106.50</td><td>1.2522</td></tr><tr><td>LL Crankset</td><td>77.9176</td><td>175.49</td><td>1.2522</td></tr><tr><td>ML Crankset</td><td>113.8816</td><td>256.49</td><td>1.2522</td></tr><tr><td>HL Crankset</td><td>179.8156</td><td>404.99</td><td>1.2522</td></tr><tr><td>Chain</td><td>8.9866</td><td>20.24</td><td>1.2522</td></tr><tr><td>LL Bottom Bracket</td><td>23.9716</td><td>53.99</td><td>1.2522</td></tr><tr><td>ML Bottom Bracket</td><td>44.9506</td><td>101.24</td><td>1.2522</td></tr><tr><td>HL Bottom Bracket</td><td>53.9416</td><td>121.49</td><td>1.2522</td></tr><tr><td>Rear Derailleur</td><td>53.9282</td><td>121.46</td><td>1.2522</td></tr><tr><td>Rear Brakes</td><td>47.286</td><td>106.50</td><td>1.2522</td></tr><tr><td>LL Mountain Seat/Saddle</td><td>12.0413</td><td>27.12</td><td>1.2522</td></tr><tr><td>ML Mountain Seat/Saddle</td><td>17.3782</td><td>39.14</td><td>1.2522</td></tr><tr><td>HL Mountain Seat/Saddle</td><td>23.3722</td><td>52.64</td><td>1.2522</td></tr><tr><td>LL Road Seat/Saddle</td><td>12.0413</td><td>27.12</td><td>1.2522</td></tr><tr><td>ML Road Seat/Saddle</td><td>17.3782</td><td>39.14</td><td>1.2522</td></tr><tr><td>HL Road Seat/Saddle</td><td>23.3722</td><td>52.64</td><td>1.2522</td></tr><tr><td>LL Touring Seat/Saddle</td><td>12.0413</td><td>27.12</td><td>1.2522</td></tr><tr><td>ML Touring Seat/Saddle</td><td>17.3782</td><td>39.14</td><td>1.2522</td></tr><tr><td>HL Touring Seat/Saddle</td><td>23.3722</td><td>52.64</td><td>1.2522</td></tr></table>"
                    },
                    "metadata": {}
                }
            ],
            "execution_count": 15
        },
        {
            "cell_type": "markdown",
            "source": [
                "## Problem 5\n",
                "\n",
                "Write a SQL query to generate a single-column table with product information for all finished goods in the following sentence format: \"**(Product Name) requires (Number of Days) days to manufacture and has a list price of $(List Price)**.\" Sort the results in descending order by the number of days required to manufacture.\n",
                "\n",
                "Hint: Use the **Product** table."
            ],
            "metadata": {
                "azdata_cell_guid": "a8f59b81-b8f5-4f39-a09c-73ae28c8f163",
                "language": "sql",
                "id": "aF_6mSdbmOfr"
            }
        },
        {
            "cell_type": "code",
            "source": [
                "-- Your SQL Query Here\n",
                "SELECT Name + ' requires ' + CAST(DaysToManufacture AS nvarchar) + ' days to manufacture and has a list price of $' + CAST(ListPrice AS nvarchar) + '.'\n",
                "FROM Production.Product\n",
                "WHERE FinishedGoodsFlag=1\n",
                "ORDER BY DaysToManufacture DESC;"
            ],
            "metadata": {
                "azdata_cell_guid": "67578c85-507b-4630-b108-6b8bf03d2a47",
                "language": "sql",
                "id": "4vCQT6g9mOfr"
            },
            "outputs": [
                {
                    "output_type": "display_data",
                    "data": {
                        "text/html": "(295 rows affected)"
                    },
                    "metadata": {}
                },
                {
                    "output_type": "display_data",
                    "data": {
                        "text/html": "Total execution time: 00:00:00.104"
                    },
                    "metadata": {}
                },
                {
                    "output_type": "execute_result",
                    "metadata": {},
                    "execution_count": 1,
                    "data": {
                        "application/vnd.dataresource+json": {
                            "schema": {
                                "fields": [
                                    {
                                        "name": "(No column name)"
                                    }
                                ]
                            },
                            "data": [
                                {
                                    "(No column name)": "Road-150 Red, 62 requires 4 days to manufacture and has a list price of $3578.27."
                                },
                                {
                                    "(No column name)": "Road-150 Red, 44 requires 4 days to manufacture and has a list price of $3578.27."
                                },
                                {
                                    "(No column name)": "Road-150 Red, 48 requires 4 days to manufacture and has a list price of $3578.27."
                                },
                                {
                                    "(No column name)": "Road-150 Red, 52 requires 4 days to manufacture and has a list price of $3578.27."
                                },
                                {
                                    "(No column name)": "Road-150 Red, 56 requires 4 days to manufacture and has a list price of $3578.27."
                                },
                                {
                                    "(No column name)": "Road-450 Red, 58 requires 4 days to manufacture and has a list price of $1457.99."
                                },
                                {
                                    "(No column name)": "Road-450 Red, 60 requires 4 days to manufacture and has a list price of $1457.99."
                                },
                                {
                                    "(No column name)": "Road-450 Red, 44 requires 4 days to manufacture and has a list price of $1457.99."
                                },
                                {
                                    "(No column name)": "Road-450 Red, 48 requires 4 days to manufacture and has a list price of $1457.99."
                                },
                                {
                                    "(No column name)": "Road-450 Red, 52 requires 4 days to manufacture and has a list price of $1457.99."
                                },
                                {
                                    "(No column name)": "Road-650 Red, 58 requires 4 days to manufacture and has a list price of $782.99."
                                },
                                {
                                    "(No column name)": "Road-650 Red, 60 requires 4 days to manufacture and has a list price of $782.99."
                                },
                                {
                                    "(No column name)": "Road-650 Red, 62 requires 4 days to manufacture and has a list price of $782.99."
                                },
                                {
                                    "(No column name)": "Road-650 Red, 44 requires 4 days to manufacture and has a list price of $782.99."
                                },
                                {
                                    "(No column name)": "Road-650 Red, 48 requires 4 days to manufacture and has a list price of $782.99."
                                },
                                {
                                    "(No column name)": "Road-650 Red, 52 requires 4 days to manufacture and has a list price of $782.99."
                                },
                                {
                                    "(No column name)": "Road-650 Black, 58 requires 4 days to manufacture and has a list price of $782.99."
                                },
                                {
                                    "(No column name)": "Road-650 Black, 60 requires 4 days to manufacture and has a list price of $782.99."
                                },
                                {
                                    "(No column name)": "Road-650 Black, 62 requires 4 days to manufacture and has a list price of $782.99."
                                },
                                {
                                    "(No column name)": "Road-650 Black, 44 requires 4 days to manufacture and has a list price of $782.99."
                                },
                                {
                                    "(No column name)": "Road-650 Black, 48 requires 4 days to manufacture and has a list price of $782.99."
                                },
                                {
                                    "(No column name)": "Road-650 Black, 52 requires 4 days to manufacture and has a list price of $782.99."
                                },
                                {
                                    "(No column name)": "Mountain-100 Silver, 38 requires 4 days to manufacture and has a list price of $3399.99."
                                },
                                {
                                    "(No column name)": "Mountain-100 Silver, 42 requires 4 days to manufacture and has a list price of $3399.99."
                                },
                                {
                                    "(No column name)": "Mountain-100 Silver, 44 requires 4 days to manufacture and has a list price of $3399.99."
                                },
                                {
                                    "(No column name)": "Mountain-100 Silver, 48 requires 4 days to manufacture and has a list price of $3399.99."
                                },
                                {
                                    "(No column name)": "Mountain-100 Black, 38 requires 4 days to manufacture and has a list price of $3374.99."
                                },
                                {
                                    "(No column name)": "Mountain-100 Black, 42 requires 4 days to manufacture and has a list price of $3374.99."
                                },
                                {
                                    "(No column name)": "Mountain-100 Black, 44 requires 4 days to manufacture and has a list price of $3374.99."
                                },
                                {
                                    "(No column name)": "Mountain-100 Black, 48 requires 4 days to manufacture and has a list price of $3374.99."
                                },
                                {
                                    "(No column name)": "Mountain-200 Silver, 38 requires 4 days to manufacture and has a list price of $2319.99."
                                },
                                {
                                    "(No column name)": "Mountain-200 Silver, 42 requires 4 days to manufacture and has a list price of $2319.99."
                                },
                                {
                                    "(No column name)": "Mountain-200 Silver, 46 requires 4 days to manufacture and has a list price of $2319.99."
                                },
                                {
                                    "(No column name)": "Mountain-200 Black, 38 requires 4 days to manufacture and has a list price of $2294.99."
                                },
                                {
                                    "(No column name)": "Mountain-200 Black, 42 requires 4 days to manufacture and has a list price of $2294.99."
                                },
                                {
                                    "(No column name)": "Mountain-200 Black, 46 requires 4 days to manufacture and has a list price of $2294.99."
                                },
                                {
                                    "(No column name)": "Mountain-300 Black, 38 requires 4 days to manufacture and has a list price of $1079.99."
                                },
                                {
                                    "(No column name)": "Mountain-300 Black, 40 requires 4 days to manufacture and has a list price of $1079.99."
                                },
                                {
                                    "(No column name)": "Mountain-300 Black, 44 requires 4 days to manufacture and has a list price of $1079.99."
                                },
                                {
                                    "(No column name)": "Mountain-300 Black, 48 requires 4 days to manufacture and has a list price of $1079.99."
                                },
                                {
                                    "(No column name)": "Road-250 Red, 44 requires 4 days to manufacture and has a list price of $2443.35."
                                },
                                {
                                    "(No column name)": "Road-250 Red, 48 requires 4 days to manufacture and has a list price of $2443.35."
                                },
                                {
                                    "(No column name)": "Road-250 Red, 52 requires 4 days to manufacture and has a list price of $2443.35."
                                },
                                {
                                    "(No column name)": "Road-250 Red, 58 requires 4 days to manufacture and has a list price of $2443.35."
                                },
                                {
                                    "(No column name)": "Road-250 Black, 44 requires 4 days to manufacture and has a list price of $2443.35."
                                },
                                {
                                    "(No column name)": "Road-250 Black, 48 requires 4 days to manufacture and has a list price of $2443.35."
                                },
                                {
                                    "(No column name)": "Road-250 Black, 52 requires 4 days to manufacture and has a list price of $2443.35."
                                },
                                {
                                    "(No column name)": "Road-250 Black, 58 requires 4 days to manufacture and has a list price of $2443.35."
                                },
                                {
                                    "(No column name)": "Road-550-W Yellow, 38 requires 4 days to manufacture and has a list price of $1120.49."
                                },
                                {
                                    "(No column name)": "Road-550-W Yellow, 40 requires 4 days to manufacture and has a list price of $1120.49."
                                },
                                {
                                    "(No column name)": "Road-550-W Yellow, 42 requires 4 days to manufacture and has a list price of $1120.49."
                                },
                                {
                                    "(No column name)": "Road-550-W Yellow, 44 requires 4 days to manufacture and has a list price of $1120.49."
                                },
                                {
                                    "(No column name)": "Road-550-W Yellow, 48 requires 4 days to manufacture and has a list price of $1120.49."
                                },
                                {
                                    "(No column name)": "Touring-2000 Blue, 60 requires 4 days to manufacture and has a list price of $1214.85."
                                },
                                {
                                    "(No column name)": "Touring-1000 Yellow, 46 requires 4 days to manufacture and has a list price of $2384.07."
                                },
                                {
                                    "(No column name)": "Touring-1000 Yellow, 50 requires 4 days to manufacture and has a list price of $2384.07."
                                },
                                {
                                    "(No column name)": "Touring-1000 Yellow, 54 requires 4 days to manufacture and has a list price of $2384.07."
                                },
                                {
                                    "(No column name)": "Touring-1000 Yellow, 60 requires 4 days to manufacture and has a list price of $2384.07."
                                },
                                {
                                    "(No column name)": "Touring-3000 Blue, 54 requires 4 days to manufacture and has a list price of $742.35."
                                },
                                {
                                    "(No column name)": "Touring-3000 Blue, 58 requires 4 days to manufacture and has a list price of $742.35."
                                },
                                {
                                    "(No column name)": "Touring-3000 Blue, 62 requires 4 days to manufacture and has a list price of $742.35."
                                },
                                {
                                    "(No column name)": "Touring-3000 Yellow, 44 requires 4 days to manufacture and has a list price of $742.35."
                                },
                                {
                                    "(No column name)": "Touring-3000 Yellow, 50 requires 4 days to manufacture and has a list price of $742.35."
                                },
                                {
                                    "(No column name)": "Touring-3000 Yellow, 54 requires 4 days to manufacture and has a list price of $742.35."
                                },
                                {
                                    "(No column name)": "Touring-3000 Yellow, 58 requires 4 days to manufacture and has a list price of $742.35."
                                },
                                {
                                    "(No column name)": "Touring-3000 Yellow, 62 requires 4 days to manufacture and has a list price of $742.35."
                                },
                                {
                                    "(No column name)": "Touring-1000 Blue, 46 requires 4 days to manufacture and has a list price of $2384.07."
                                },
                                {
                                    "(No column name)": "Touring-1000 Blue, 50 requires 4 days to manufacture and has a list price of $2384.07."
                                },
                                {
                                    "(No column name)": "Touring-1000 Blue, 54 requires 4 days to manufacture and has a list price of $2384.07."
                                },
                                {
                                    "(No column name)": "Touring-1000 Blue, 60 requires 4 days to manufacture and has a list price of $2384.07."
                                },
                                {
                                    "(No column name)": "Touring-2000 Blue, 46 requires 4 days to manufacture and has a list price of $1214.85."
                                },
                                {
                                    "(No column name)": "Touring-2000 Blue, 50 requires 4 days to manufacture and has a list price of $1214.85."
                                },
                                {
                                    "(No column name)": "Touring-2000 Blue, 54 requires 4 days to manufacture and has a list price of $1214.85."
                                },
                                {
                                    "(No column name)": "Road-350-W Yellow, 40 requires 4 days to manufacture and has a list price of $1700.99."
                                },
                                {
                                    "(No column name)": "Road-350-W Yellow, 42 requires 4 days to manufacture and has a list price of $1700.99."
                                },
                                {
                                    "(No column name)": "Road-350-W Yellow, 44 requires 4 days to manufacture and has a list price of $1700.99."
                                },
                                {
                                    "(No column name)": "Road-350-W Yellow, 48 requires 4 days to manufacture and has a list price of $1700.99."
                                },
                                {
                                    "(No column name)": "Road-750 Black, 58 requires 4 days to manufacture and has a list price of $539.99."
                                },
                                {
                                    "(No column name)": "Touring-3000 Blue, 44 requires 4 days to manufacture and has a list price of $742.35."
                                },
                                {
                                    "(No column name)": "Touring-3000 Blue, 50 requires 4 days to manufacture and has a list price of $742.35."
                                },
                                {
                                    "(No column name)": "Mountain-400-W Silver, 38 requires 4 days to manufacture and has a list price of $769.49."
                                },
                                {
                                    "(No column name)": "Mountain-400-W Silver, 40 requires 4 days to manufacture and has a list price of $769.49."
                                },
                                {
                                    "(No column name)": "Mountain-400-W Silver, 42 requires 4 days to manufacture and has a list price of $769.49."
                                },
                                {
                                    "(No column name)": "Mountain-400-W Silver, 46 requires 4 days to manufacture and has a list price of $769.49."
                                },
                                {
                                    "(No column name)": "Mountain-500 Silver, 40 requires 4 days to manufacture and has a list price of $564.99."
                                },
                                {
                                    "(No column name)": "Mountain-500 Silver, 42 requires 4 days to manufacture and has a list price of $564.99."
                                },
                                {
                                    "(No column name)": "Mountain-500 Silver, 44 requires 4 days to manufacture and has a list price of $564.99."
                                },
                                {
                                    "(No column name)": "Mountain-500 Silver, 48 requires 4 days to manufacture and has a list price of $564.99."
                                },
                                {
                                    "(No column name)": "Mountain-500 Silver, 52 requires 4 days to manufacture and has a list price of $564.99."
                                },
                                {
                                    "(No column name)": "Mountain-500 Black, 40 requires 4 days to manufacture and has a list price of $539.99."
                                },
                                {
                                    "(No column name)": "Mountain-500 Black, 42 requires 4 days to manufacture and has a list price of $539.99."
                                },
                                {
                                    "(No column name)": "Mountain-500 Black, 44 requires 4 days to manufacture and has a list price of $539.99."
                                },
                                {
                                    "(No column name)": "Mountain-500 Black, 48 requires 4 days to manufacture and has a list price of $539.99."
                                },
                                {
                                    "(No column name)": "Mountain-500 Black, 52 requires 4 days to manufacture and has a list price of $539.99."
                                },
                                {
                                    "(No column name)": "Road-750 Black, 44 requires 4 days to manufacture and has a list price of $539.99."
                                },
                                {
                                    "(No column name)": "Road-750 Black, 48 requires 4 days to manufacture and has a list price of $539.99."
                                },
                                {
                                    "(No column name)": "Road-750 Black, 52 requires 4 days to manufacture and has a list price of $539.99."
                                },
                                {
                                    "(No column name)": "HL Mountain Frame - Black, 38 requires 2 days to manufacture and has a list price of $1349.60."
                                },
                                {
                                    "(No column name)": "HL Mountain Frame - Silver, 38 requires 2 days to manufacture and has a list price of $1364.50."
                                },
                                {
                                    "(No column name)": "ML Mountain Frame-W - Silver, 38 requires 2 days to manufacture and has a list price of $364.09."
                                },
                                {
                                    "(No column name)": "LL Mountain Frame - Black, 40 requires 2 days to manufacture and has a list price of $249.79."
                                },
                                {
                                    "(No column name)": "LL Mountain Frame - Silver, 40 requires 2 days to manufacture and has a list price of $264.05."
                                },
                                {
                                    "(No column name)": "ML Mountain Frame - Black, 38 requires 2 days to manufacture and has a list price of $348.76."
                                },
                                {
                                    "(No column name)": "ML Road Frame-W - Yellow, 38 requires 2 days to manufacture and has a list price of $594.83."
                                },
                                {
                                    "(No column name)": "LL Mountain Rear Wheel requires 1 days to manufacture and has a list price of $87.75."
                                },
                                {
                                    "(No column name)": "ML Mountain Rear Wheel requires 1 days to manufacture and has a list price of $236.03."
                                },
                                {
                                    "(No column name)": "HL Mountain Rear Wheel requires 1 days to manufacture and has a list price of $327.22."
                                },
                                {
                                    "(No column name)": "LL Road Rear Wheel requires 1 days to manufacture and has a list price of $112.57."
                                },
                                {
                                    "(No column name)": "ML Road Rear Wheel requires 1 days to manufacture and has a list price of $275.39."
                                },
                                {
                                    "(No column name)": "HL Road Rear Wheel requires 1 days to manufacture and has a list price of $357.06."
                                },
                                {
                                    "(No column name)": "Touring Rear Wheel requires 1 days to manufacture and has a list price of $245.01."
                                },
                                {
                                    "(No column name)": "ML Mountain Frame - Black, 40 requires 1 days to manufacture and has a list price of $348.76."
                                },
                                {
                                    "(No column name)": "ML Mountain Frame - Black, 44 requires 1 days to manufacture and has a list price of $348.76."
                                },
                                {
                                    "(No column name)": "ML Mountain Frame - Black, 48 requires 1 days to manufacture and has a list price of $348.76."
                                },
                                {
                                    "(No column name)": "ML Road Frame-W - Yellow, 40 requires 1 days to manufacture and has a list price of $594.83."
                                },
                                {
                                    "(No column name)": "ML Road Frame-W - Yellow, 42 requires 1 days to manufacture and has a list price of $594.83."
                                },
                                {
                                    "(No column name)": "ML Road Frame-W - Yellow, 44 requires 1 days to manufacture and has a list price of $594.83."
                                },
                                {
                                    "(No column name)": "ML Road Frame-W - Yellow, 48 requires 1 days to manufacture and has a list price of $594.83."
                                },
                                {
                                    "(No column name)": "HL Road Frame - Black, 62 requires 1 days to manufacture and has a list price of $1431.50."
                                },
                                {
                                    "(No column name)": "HL Road Frame - Black, 44 requires 1 days to manufacture and has a list price of $1431.50."
                                },
                                {
                                    "(No column name)": "HL Road Frame - Black, 48 requires 1 days to manufacture and has a list price of $1431.50."
                                },
                                {
                                    "(No column name)": "HL Road Frame - Black, 52 requires 1 days to manufacture and has a list price of $1431.50."
                                },
                                {
                                    "(No column name)": "LL Mountain Front Wheel requires 1 days to manufacture and has a list price of $60.75."
                                },
                                {
                                    "(No column name)": "ML Mountain Front Wheel requires 1 days to manufacture and has a list price of $209.03."
                                },
                                {
                                    "(No column name)": "HL Mountain Front Wheel requires 1 days to manufacture and has a list price of $300.22."
                                },
                                {
                                    "(No column name)": "LL Road Front Wheel requires 1 days to manufacture and has a list price of $85.57."
                                },
                                {
                                    "(No column name)": "ML Road Front Wheel requires 1 days to manufacture and has a list price of $248.39."
                                },
                                {
                                    "(No column name)": "HL Road Front Wheel requires 1 days to manufacture and has a list price of $330.06."
                                },
                                {
                                    "(No column name)": "Touring Front Wheel requires 1 days to manufacture and has a list price of $218.01."
                                },
                                {
                                    "(No column name)": "HL Road Frame - Black, 58 requires 1 days to manufacture and has a list price of $1431.50."
                                },
                                {
                                    "(No column name)": "HL Road Frame - Red, 58 requires 1 days to manufacture and has a list price of $1431.50."
                                },
                                {
                                    "(No column name)": "HL Road Frame - Red, 62 requires 1 days to manufacture and has a list price of $1431.50."
                                },
                                {
                                    "(No column name)": "HL Road Frame - Red, 44 requires 1 days to manufacture and has a list price of $1431.50."
                                },
                                {
                                    "(No column name)": "HL Road Frame - Red, 48 requires 1 days to manufacture and has a list price of $1431.50."
                                },
                                {
                                    "(No column name)": "HL Road Frame - Red, 52 requires 1 days to manufacture and has a list price of $1431.50."
                                },
                                {
                                    "(No column name)": "HL Road Frame - Red, 56 requires 1 days to manufacture and has a list price of $1431.50."
                                },
                                {
                                    "(No column name)": "LL Road Frame - Black, 58 requires 1 days to manufacture and has a list price of $337.22."
                                },
                                {
                                    "(No column name)": "LL Road Frame - Black, 60 requires 1 days to manufacture and has a list price of $337.22."
                                },
                                {
                                    "(No column name)": "LL Road Frame - Black, 62 requires 1 days to manufacture and has a list price of $337.22."
                                },
                                {
                                    "(No column name)": "LL Road Frame - Red, 44 requires 1 days to manufacture and has a list price of $337.22."
                                },
                                {
                                    "(No column name)": "LL Road Frame - Red, 48 requires 1 days to manufacture and has a list price of $337.22."
                                },
                                {
                                    "(No column name)": "LL Road Frame - Red, 52 requires 1 days to manufacture and has a list price of $337.22."
                                },
                                {
                                    "(No column name)": "LL Road Frame - Red, 58 requires 1 days to manufacture and has a list price of $337.22."
                                },
                                {
                                    "(No column name)": "LL Road Frame - Red, 60 requires 1 days to manufacture and has a list price of $337.22."
                                },
                                {
                                    "(No column name)": "LL Road Frame - Red, 62 requires 1 days to manufacture and has a list price of $337.22."
                                },
                                {
                                    "(No column name)": "ML Road Frame - Red, 44 requires 1 days to manufacture and has a list price of $594.83."
                                },
                                {
                                    "(No column name)": "ML Road Frame - Red, 48 requires 1 days to manufacture and has a list price of $594.83."
                                },
                                {
                                    "(No column name)": "ML Road Frame - Red, 52 requires 1 days to manufacture and has a list price of $594.83."
                                },
                                {
                                    "(No column name)": "ML Road Frame - Red, 58 requires 1 days to manufacture and has a list price of $594.83."
                                },
                                {
                                    "(No column name)": "ML Road Frame - Red, 60 requires 1 days to manufacture and has a list price of $594.83."
                                },
                                {
                                    "(No column name)": "LL Road Frame - Black, 44 requires 1 days to manufacture and has a list price of $337.22."
                                },
                                {
                                    "(No column name)": "LL Road Frame - Black, 48 requires 1 days to manufacture and has a list price of $337.22."
                                },
                                {
                                    "(No column name)": "LL Road Frame - Black, 52 requires 1 days to manufacture and has a list price of $337.22."
                                },
                                {
                                    "(No column name)": "HL Mountain Frame - Silver, 42 requires 1 days to manufacture and has a list price of $1364.50."
                                },
                                {
                                    "(No column name)": "HL Mountain Frame - Silver, 44 requires 1 days to manufacture and has a list price of $1364.50."
                                },
                                {
                                    "(No column name)": "HL Mountain Frame - Silver, 48 requires 1 days to manufacture and has a list price of $1364.50."
                                },
                                {
                                    "(No column name)": "HL Mountain Frame - Silver, 46 requires 1 days to manufacture and has a list price of $1364.50."
                                },
                                {
                                    "(No column name)": "HL Mountain Frame - Black, 42 requires 1 days to manufacture and has a list price of $1349.60."
                                },
                                {
                                    "(No column name)": "HL Mountain Frame - Black, 44 requires 1 days to manufacture and has a list price of $1349.60."
                                },
                                {
                                    "(No column name)": "HL Mountain Frame - Black, 48 requires 1 days to manufacture and has a list price of $1349.60."
                                },
                                {
                                    "(No column name)": "HL Mountain Frame - Black, 46 requires 1 days to manufacture and has a list price of $1349.60."
                                },
                                {
                                    "(No column name)": "LL Fork requires 1 days to manufacture and has a list price of $148.22."
                                },
                                {
                                    "(No column name)": "ML Fork requires 1 days to manufacture and has a list price of $175.49."
                                },
                                {
                                    "(No column name)": "HL Fork requires 1 days to manufacture and has a list price of $229.49."
                                },
                                {
                                    "(No column name)": "LL Headset requires 1 days to manufacture and has a list price of $34.20."
                                },
                                {
                                    "(No column name)": "ML Headset requires 1 days to manufacture and has a list price of $102.29."
                                },
                                {
                                    "(No column name)": "HL Headset requires 1 days to manufacture and has a list price of $124.73."
                                },
                                {
                                    "(No column name)": "LL Mountain Handlebars requires 1 days to manufacture and has a list price of $44.54."
                                },
                                {
                                    "(No column name)": "ML Mountain Handlebars requires 1 days to manufacture and has a list price of $61.92."
                                },
                                {
                                    "(No column name)": "HL Mountain Handlebars requires 1 days to manufacture and has a list price of $120.27."
                                },
                                {
                                    "(No column name)": "LL Road Handlebars requires 1 days to manufacture and has a list price of $44.54."
                                },
                                {
                                    "(No column name)": "ML Road Handlebars requires 1 days to manufacture and has a list price of $61.92."
                                },
                                {
                                    "(No column name)": "HL Road Handlebars requires 1 days to manufacture and has a list price of $120.27."
                                },
                                {
                                    "(No column name)": "Front Derailleur requires 1 days to manufacture and has a list price of $91.49."
                                },
                                {
                                    "(No column name)": "LL Touring Handlebars requires 1 days to manufacture and has a list price of $46.09."
                                },
                                {
                                    "(No column name)": "HL Touring Handlebars requires 1 days to manufacture and has a list price of $91.57."
                                },
                                {
                                    "(No column name)": "Front Brakes requires 1 days to manufacture and has a list price of $106.50."
                                },
                                {
                                    "(No column name)": "LL Crankset requires 1 days to manufacture and has a list price of $175.49."
                                },
                                {
                                    "(No column name)": "ML Crankset requires 1 days to manufacture and has a list price of $256.49."
                                },
                                {
                                    "(No column name)": "HL Crankset requires 1 days to manufacture and has a list price of $404.99."
                                },
                                {
                                    "(No column name)": "Chain requires 1 days to manufacture and has a list price of $20.24."
                                },
                                {
                                    "(No column name)": "LL Mountain Frame - Black, 42 requires 1 days to manufacture and has a list price of $249.79."
                                },
                                {
                                    "(No column name)": "LL Mountain Frame - Black, 44 requires 1 days to manufacture and has a list price of $249.79."
                                },
                                {
                                    "(No column name)": "LL Mountain Frame - Black, 48 requires 1 days to manufacture and has a list price of $249.79."
                                },
                                {
                                    "(No column name)": "LL Mountain Frame - Black, 52 requires 1 days to manufacture and has a list price of $249.79."
                                },
                                {
                                    "(No column name)": "LL Mountain Pedal requires 1 days to manufacture and has a list price of $40.49."
                                },
                                {
                                    "(No column name)": "ML Mountain Pedal requires 1 days to manufacture and has a list price of $62.09."
                                },
                                {
                                    "(No column name)": "HL Mountain Pedal requires 1 days to manufacture and has a list price of $80.99."
                                },
                                {
                                    "(No column name)": "LL Road Pedal requires 1 days to manufacture and has a list price of $40.49."
                                },
                                {
                                    "(No column name)": "ML Road Pedal requires 1 days to manufacture and has a list price of $62.09."
                                },
                                {
                                    "(No column name)": "HL Road Pedal requires 1 days to manufacture and has a list price of $80.99."
                                },
                                {
                                    "(No column name)": "Touring Pedal requires 1 days to manufacture and has a list price of $80.99."
                                },
                                {
                                    "(No column name)": "LL Bottom Bracket requires 1 days to manufacture and has a list price of $53.99."
                                },
                                {
                                    "(No column name)": "ML Bottom Bracket requires 1 days to manufacture and has a list price of $101.24."
                                },
                                {
                                    "(No column name)": "HL Bottom Bracket requires 1 days to manufacture and has a list price of $121.49."
                                },
                                {
                                    "(No column name)": "HL Touring Frame - Yellow, 60 requires 1 days to manufacture and has a list price of $1003.91."
                                },
                                {
                                    "(No column name)": "LL Touring Frame - Yellow, 62 requires 1 days to manufacture and has a list price of $333.42."
                                },
                                {
                                    "(No column name)": "HL Touring Frame - Yellow, 46 requires 1 days to manufacture and has a list price of $1003.91."
                                },
                                {
                                    "(No column name)": "HL Touring Frame - Yellow, 50 requires 1 days to manufacture and has a list price of $1003.91."
                                },
                                {
                                    "(No column name)": "HL Touring Frame - Yellow, 54 requires 1 days to manufacture and has a list price of $1003.91."
                                },
                                {
                                    "(No column name)": "HL Touring Frame - Blue, 46 requires 1 days to manufacture and has a list price of $1003.91."
                                },
                                {
                                    "(No column name)": "HL Touring Frame - Blue, 50 requires 1 days to manufacture and has a list price of $1003.91."
                                },
                                {
                                    "(No column name)": "HL Touring Frame - Blue, 54 requires 1 days to manufacture and has a list price of $1003.91."
                                },
                                {
                                    "(No column name)": "HL Touring Frame - Blue, 60 requires 1 days to manufacture and has a list price of $1003.91."
                                },
                                {
                                    "(No column name)": "Rear Derailleur requires 1 days to manufacture and has a list price of $121.46."
                                },
                                {
                                    "(No column name)": "LL Touring Frame - Blue, 50 requires 1 days to manufacture and has a list price of $333.42."
                                },
                                {
                                    "(No column name)": "LL Touring Frame - Blue, 54 requires 1 days to manufacture and has a list price of $333.42."
                                },
                                {
                                    "(No column name)": "LL Touring Frame - Blue, 58 requires 1 days to manufacture and has a list price of $333.42."
                                },
                                {
                                    "(No column name)": "LL Touring Frame - Blue, 62 requires 1 days to manufacture and has a list price of $333.42."
                                },
                                {
                                    "(No column name)": "LL Touring Frame - Yellow, 44 requires 1 days to manufacture and has a list price of $333.42."
                                },
                                {
                                    "(No column name)": "LL Touring Frame - Yellow, 50 requires 1 days to manufacture and has a list price of $333.42."
                                },
                                {
                                    "(No column name)": "LL Touring Frame - Yellow, 54 requires 1 days to manufacture and has a list price of $333.42."
                                },
                                {
                                    "(No column name)": "LL Touring Frame - Yellow, 58 requires 1 days to manufacture and has a list price of $333.42."
                                },
                                {
                                    "(No column name)": "LL Touring Frame - Blue, 44 requires 1 days to manufacture and has a list price of $333.42."
                                },
                                {
                                    "(No column name)": "ML Mountain Frame-W - Silver, 40 requires 1 days to manufacture and has a list price of $364.09."
                                },
                                {
                                    "(No column name)": "ML Mountain Frame-W - Silver, 42 requires 1 days to manufacture and has a list price of $364.09."
                                },
                                {
                                    "(No column name)": "ML Mountain Frame-W - Silver, 46 requires 1 days to manufacture and has a list price of $364.09."
                                },
                                {
                                    "(No column name)": "Rear Brakes requires 1 days to manufacture and has a list price of $106.50."
                                },
                                {
                                    "(No column name)": "LL Mountain Seat/Saddle requires 1 days to manufacture and has a list price of $27.12."
                                },
                                {
                                    "(No column name)": "ML Mountain Seat/Saddle requires 1 days to manufacture and has a list price of $39.14."
                                },
                                {
                                    "(No column name)": "HL Mountain Seat/Saddle requires 1 days to manufacture and has a list price of $52.64."
                                },
                                {
                                    "(No column name)": "LL Road Seat/Saddle requires 1 days to manufacture and has a list price of $27.12."
                                },
                                {
                                    "(No column name)": "ML Road Seat/Saddle requires 1 days to manufacture and has a list price of $39.14."
                                },
                                {
                                    "(No column name)": "HL Road Seat/Saddle requires 1 days to manufacture and has a list price of $52.64."
                                },
                                {
                                    "(No column name)": "LL Touring Seat/Saddle requires 1 days to manufacture and has a list price of $27.12."
                                },
                                {
                                    "(No column name)": "ML Touring Seat/Saddle requires 1 days to manufacture and has a list price of $39.14."
                                },
                                {
                                    "(No column name)": "HL Touring Seat/Saddle requires 1 days to manufacture and has a list price of $52.64."
                                },
                                {
                                    "(No column name)": "LL Mountain Frame - Silver, 42 requires 1 days to manufacture and has a list price of $264.05."
                                },
                                {
                                    "(No column name)": "LL Mountain Frame - Silver, 44 requires 1 days to manufacture and has a list price of $264.05."
                                },
                                {
                                    "(No column name)": "LL Mountain Frame - Silver, 48 requires 1 days to manufacture and has a list price of $264.05."
                                },
                                {
                                    "(No column name)": "LL Mountain Frame - Silver, 52 requires 1 days to manufacture and has a list price of $264.05."
                                },
                                {
                                    "(No column name)": "Mountain Tire Tube requires 0 days to manufacture and has a list price of $4.99."
                                },
                                {
                                    "(No column name)": "Road Tire Tube requires 0 days to manufacture and has a list price of $3.99."
                                },
                                {
                                    "(No column name)": "Touring Tire Tube requires 0 days to manufacture and has a list price of $4.99."
                                },
                                {
                                    "(No column name)": "LL Mountain Tire requires 0 days to manufacture and has a list price of $24.99."
                                },
                                {
                                    "(No column name)": "ML Mountain Tire requires 0 days to manufacture and has a list price of $29.99."
                                },
                                {
                                    "(No column name)": "HL Mountain Tire requires 0 days to manufacture and has a list price of $35.00."
                                },
                                {
                                    "(No column name)": "LL Road Tire requires 0 days to manufacture and has a list price of $21.49."
                                },
                                {
                                    "(No column name)": "ML Road Tire requires 0 days to manufacture and has a list price of $24.99."
                                },
                                {
                                    "(No column name)": "HL Road Tire requires 0 days to manufacture and has a list price of $32.60."
                                },
                                {
                                    "(No column name)": "Touring Tire requires 0 days to manufacture and has a list price of $28.99."
                                },
                                {
                                    "(No column name)": "Sport-100 Helmet, Red requires 0 days to manufacture and has a list price of $34.99."
                                },
                                {
                                    "(No column name)": "Sport-100 Helmet, Black requires 0 days to manufacture and has a list price of $34.99."
                                },
                                {
                                    "(No column name)": "Mountain Bike Socks, M requires 0 days to manufacture and has a list price of $9.50."
                                },
                                {
                                    "(No column name)": "Mountain Bike Socks, L requires 0 days to manufacture and has a list price of $9.50."
                                },
                                {
                                    "(No column name)": "Sport-100 Helmet, Blue requires 0 days to manufacture and has a list price of $34.99."
                                },
                                {
                                    "(No column name)": "AWC Logo Cap requires 0 days to manufacture and has a list price of $8.99."
                                },
                                {
                                    "(No column name)": "Long-Sleeve Logo Jersey, S requires 0 days to manufacture and has a list price of $49.99."
                                },
                                {
                                    "(No column name)": "Long-Sleeve Logo Jersey, M requires 0 days to manufacture and has a list price of $49.99."
                                },
                                {
                                    "(No column name)": "Long-Sleeve Logo Jersey, L requires 0 days to manufacture and has a list price of $49.99."
                                },
                                {
                                    "(No column name)": "Long-Sleeve Logo Jersey, XL requires 0 days to manufacture and has a list price of $49.99."
                                },
                                {
                                    "(No column name)": "Men's Sports Shorts, S requires 0 days to manufacture and has a list price of $59.99."
                                },
                                {
                                    "(No column name)": "Touring-Panniers, Large requires 0 days to manufacture and has a list price of $125.00."
                                },
                                {
                                    "(No column name)": "Cable Lock requires 0 days to manufacture and has a list price of $25.00."
                                },
                                {
                                    "(No column name)": "Minipump requires 0 days to manufacture and has a list price of $19.99."
                                },
                                {
                                    "(No column name)": "Mountain Pump requires 0 days to manufacture and has a list price of $24.99."
                                },
                                {
                                    "(No column name)": "Taillights - Battery-Powered requires 0 days to manufacture and has a list price of $13.99."
                                },
                                {
                                    "(No column name)": "Headlights - Dual-Beam requires 0 days to manufacture and has a list price of $34.99."
                                },
                                {
                                    "(No column name)": "Headlights - Weatherproof requires 0 days to manufacture and has a list price of $44.99."
                                },
                                {
                                    "(No column name)": "Men's Sports Shorts, M requires 0 days to manufacture and has a list price of $59.99."
                                },
                                {
                                    "(No column name)": "Men's Sports Shorts, L requires 0 days to manufacture and has a list price of $59.99."
                                },
                                {
                                    "(No column name)": "Men's Sports Shorts, XL requires 0 days to manufacture and has a list price of $59.99."
                                },
                                {
                                    "(No column name)": "Women's Tights, S requires 0 days to manufacture and has a list price of $74.99."
                                },
                                {
                                    "(No column name)": "Women's Tights, M requires 0 days to manufacture and has a list price of $74.99."
                                },
                                {
                                    "(No column name)": "Women's Tights, L requires 0 days to manufacture and has a list price of $74.99."
                                },
                                {
                                    "(No column name)": "Men's Bib-Shorts, S requires 0 days to manufacture and has a list price of $89.99."
                                },
                                {
                                    "(No column name)": "Men's Bib-Shorts, M requires 0 days to manufacture and has a list price of $89.99."
                                },
                                {
                                    "(No column name)": "Men's Bib-Shorts, L requires 0 days to manufacture and has a list price of $89.99."
                                },
                                {
                                    "(No column name)": "Half-Finger Gloves, S requires 0 days to manufacture and has a list price of $24.49."
                                },
                                {
                                    "(No column name)": "Half-Finger Gloves, M requires 0 days to manufacture and has a list price of $24.49."
                                },
                                {
                                    "(No column name)": "Half-Finger Gloves, L requires 0 days to manufacture and has a list price of $24.49."
                                },
                                {
                                    "(No column name)": "Full-Finger Gloves, S requires 0 days to manufacture and has a list price of $37.99."
                                },
                                {
                                    "(No column name)": "Full-Finger Gloves, M requires 0 days to manufacture and has a list price of $37.99."
                                },
                                {
                                    "(No column name)": "Full-Finger Gloves, L requires 0 days to manufacture and has a list price of $37.99."
                                },
                                {
                                    "(No column name)": "Classic Vest, S requires 0 days to manufacture and has a list price of $63.50."
                                },
                                {
                                    "(No column name)": "Classic Vest, M requires 0 days to manufacture and has a list price of $63.50."
                                },
                                {
                                    "(No column name)": "Classic Vest, L requires 0 days to manufacture and has a list price of $63.50."
                                },
                                {
                                    "(No column name)": "Women's Mountain Shorts, S requires 0 days to manufacture and has a list price of $69.99."
                                },
                                {
                                    "(No column name)": "Women's Mountain Shorts, M requires 0 days to manufacture and has a list price of $69.99."
                                },
                                {
                                    "(No column name)": "Women's Mountain Shorts, L requires 0 days to manufacture and has a list price of $69.99."
                                },
                                {
                                    "(No column name)": "Water Bottle - 30 oz. requires 0 days to manufacture and has a list price of $4.99."
                                },
                                {
                                    "(No column name)": "Mountain Bottle Cage requires 0 days to manufacture and has a list price of $9.99."
                                },
                                {
                                    "(No column name)": "Road Bottle Cage requires 0 days to manufacture and has a list price of $8.99."
                                },
                                {
                                    "(No column name)": "Patch Kit/8 Patches requires 0 days to manufacture and has a list price of $2.29."
                                },
                                {
                                    "(No column name)": "Racing Socks, M requires 0 days to manufacture and has a list price of $8.99."
                                },
                                {
                                    "(No column name)": "Racing Socks, L requires 0 days to manufacture and has a list price of $8.99."
                                },
                                {
                                    "(No column name)": "Hitch Rack - 4-Bike requires 0 days to manufacture and has a list price of $120.00."
                                },
                                {
                                    "(No column name)": "Bike Wash - Dissolver requires 0 days to manufacture and has a list price of $7.95."
                                },
                                {
                                    "(No column name)": "Fender Set - Mountain requires 0 days to manufacture and has a list price of $21.98."
                                },
                                {
                                    "(No column name)": "All-Purpose Bike Stand requires 0 days to manufacture and has a list price of $159.00."
                                },
                                {
                                    "(No column name)": "Hydration Pack - 70 oz. requires 0 days to manufacture and has a list price of $54.99."
                                },
                                {
                                    "(No column name)": "Short-Sleeve Classic Jersey, S requires 0 days to manufacture and has a list price of $53.99."
                                },
                                {
                                    "(No column name)": "Short-Sleeve Classic Jersey, M requires 0 days to manufacture and has a list price of $53.99."
                                },
                                {
                                    "(No column name)": "Short-Sleeve Classic Jersey, L requires 0 days to manufacture and has a list price of $53.99."
                                },
                                {
                                    "(No column name)": "Short-Sleeve Classic Jersey, XL requires 0 days to manufacture and has a list price of $53.99."
                                }
                            ]
                        },
                        "text/html": [
                            "<table>",
                            "<tr><th>(No column name)</th></tr>",
                            "<tr><td>Road-150 Red, 62 requires 4 days to manufacture and has a list price of $3578.27.</td></tr>",
                            "<tr><td>Road-150 Red, 44 requires 4 days to manufacture and has a list price of $3578.27.</td></tr>",
                            "<tr><td>Road-150 Red, 48 requires 4 days to manufacture and has a list price of $3578.27.</td></tr>",
                            "<tr><td>Road-150 Red, 52 requires 4 days to manufacture and has a list price of $3578.27.</td></tr>",
                            "<tr><td>Road-150 Red, 56 requires 4 days to manufacture and has a list price of $3578.27.</td></tr>",
                            "<tr><td>Road-450 Red, 58 requires 4 days to manufacture and has a list price of $1457.99.</td></tr>",
                            "<tr><td>Road-450 Red, 60 requires 4 days to manufacture and has a list price of $1457.99.</td></tr>",
                            "<tr><td>Road-450 Red, 44 requires 4 days to manufacture and has a list price of $1457.99.</td></tr>",
                            "<tr><td>Road-450 Red, 48 requires 4 days to manufacture and has a list price of $1457.99.</td></tr>",
                            "<tr><td>Road-450 Red, 52 requires 4 days to manufacture and has a list price of $1457.99.</td></tr>",
                            "<tr><td>Road-650 Red, 58 requires 4 days to manufacture and has a list price of $782.99.</td></tr>",
                            "<tr><td>Road-650 Red, 60 requires 4 days to manufacture and has a list price of $782.99.</td></tr>",
                            "<tr><td>Road-650 Red, 62 requires 4 days to manufacture and has a list price of $782.99.</td></tr>",
                            "<tr><td>Road-650 Red, 44 requires 4 days to manufacture and has a list price of $782.99.</td></tr>",
                            "<tr><td>Road-650 Red, 48 requires 4 days to manufacture and has a list price of $782.99.</td></tr>",
                            "<tr><td>Road-650 Red, 52 requires 4 days to manufacture and has a list price of $782.99.</td></tr>",
                            "<tr><td>Road-650 Black, 58 requires 4 days to manufacture and has a list price of $782.99.</td></tr>",
                            "<tr><td>Road-650 Black, 60 requires 4 days to manufacture and has a list price of $782.99.</td></tr>",
                            "<tr><td>Road-650 Black, 62 requires 4 days to manufacture and has a list price of $782.99.</td></tr>",
                            "<tr><td>Road-650 Black, 44 requires 4 days to manufacture and has a list price of $782.99.</td></tr>",
                            "<tr><td>Road-650 Black, 48 requires 4 days to manufacture and has a list price of $782.99.</td></tr>",
                            "<tr><td>Road-650 Black, 52 requires 4 days to manufacture and has a list price of $782.99.</td></tr>",
                            "<tr><td>Mountain-100 Silver, 38 requires 4 days to manufacture and has a list price of $3399.99.</td></tr>",
                            "<tr><td>Mountain-100 Silver, 42 requires 4 days to manufacture and has a list price of $3399.99.</td></tr>",
                            "<tr><td>Mountain-100 Silver, 44 requires 4 days to manufacture and has a list price of $3399.99.</td></tr>",
                            "<tr><td>Mountain-100 Silver, 48 requires 4 days to manufacture and has a list price of $3399.99.</td></tr>",
                            "<tr><td>Mountain-100 Black, 38 requires 4 days to manufacture and has a list price of $3374.99.</td></tr>",
                            "<tr><td>Mountain-100 Black, 42 requires 4 days to manufacture and has a list price of $3374.99.</td></tr>",
                            "<tr><td>Mountain-100 Black, 44 requires 4 days to manufacture and has a list price of $3374.99.</td></tr>",
                            "<tr><td>Mountain-100 Black, 48 requires 4 days to manufacture and has a list price of $3374.99.</td></tr>",
                            "<tr><td>Mountain-200 Silver, 38 requires 4 days to manufacture and has a list price of $2319.99.</td></tr>",
                            "<tr><td>Mountain-200 Silver, 42 requires 4 days to manufacture and has a list price of $2319.99.</td></tr>",
                            "<tr><td>Mountain-200 Silver, 46 requires 4 days to manufacture and has a list price of $2319.99.</td></tr>",
                            "<tr><td>Mountain-200 Black, 38 requires 4 days to manufacture and has a list price of $2294.99.</td></tr>",
                            "<tr><td>Mountain-200 Black, 42 requires 4 days to manufacture and has a list price of $2294.99.</td></tr>",
                            "<tr><td>Mountain-200 Black, 46 requires 4 days to manufacture and has a list price of $2294.99.</td></tr>",
                            "<tr><td>Mountain-300 Black, 38 requires 4 days to manufacture and has a list price of $1079.99.</td></tr>",
                            "<tr><td>Mountain-300 Black, 40 requires 4 days to manufacture and has a list price of $1079.99.</td></tr>",
                            "<tr><td>Mountain-300 Black, 44 requires 4 days to manufacture and has a list price of $1079.99.</td></tr>",
                            "<tr><td>Mountain-300 Black, 48 requires 4 days to manufacture and has a list price of $1079.99.</td></tr>",
                            "<tr><td>Road-250 Red, 44 requires 4 days to manufacture and has a list price of $2443.35.</td></tr>",
                            "<tr><td>Road-250 Red, 48 requires 4 days to manufacture and has a list price of $2443.35.</td></tr>",
                            "<tr><td>Road-250 Red, 52 requires 4 days to manufacture and has a list price of $2443.35.</td></tr>",
                            "<tr><td>Road-250 Red, 58 requires 4 days to manufacture and has a list price of $2443.35.</td></tr>",
                            "<tr><td>Road-250 Black, 44 requires 4 days to manufacture and has a list price of $2443.35.</td></tr>",
                            "<tr><td>Road-250 Black, 48 requires 4 days to manufacture and has a list price of $2443.35.</td></tr>",
                            "<tr><td>Road-250 Black, 52 requires 4 days to manufacture and has a list price of $2443.35.</td></tr>",
                            "<tr><td>Road-250 Black, 58 requires 4 days to manufacture and has a list price of $2443.35.</td></tr>",
                            "<tr><td>Road-550-W Yellow, 38 requires 4 days to manufacture and has a list price of $1120.49.</td></tr>",
                            "<tr><td>Road-550-W Yellow, 40 requires 4 days to manufacture and has a list price of $1120.49.</td></tr>",
                            "<tr><td>Road-550-W Yellow, 42 requires 4 days to manufacture and has a list price of $1120.49.</td></tr>",
                            "<tr><td>Road-550-W Yellow, 44 requires 4 days to manufacture and has a list price of $1120.49.</td></tr>",
                            "<tr><td>Road-550-W Yellow, 48 requires 4 days to manufacture and has a list price of $1120.49.</td></tr>",
                            "<tr><td>Touring-2000 Blue, 60 requires 4 days to manufacture and has a list price of $1214.85.</td></tr>",
                            "<tr><td>Touring-1000 Yellow, 46 requires 4 days to manufacture and has a list price of $2384.07.</td></tr>",
                            "<tr><td>Touring-1000 Yellow, 50 requires 4 days to manufacture and has a list price of $2384.07.</td></tr>",
                            "<tr><td>Touring-1000 Yellow, 54 requires 4 days to manufacture and has a list price of $2384.07.</td></tr>",
                            "<tr><td>Touring-1000 Yellow, 60 requires 4 days to manufacture and has a list price of $2384.07.</td></tr>",
                            "<tr><td>Touring-3000 Blue, 54 requires 4 days to manufacture and has a list price of $742.35.</td></tr>",
                            "<tr><td>Touring-3000 Blue, 58 requires 4 days to manufacture and has a list price of $742.35.</td></tr>",
                            "<tr><td>Touring-3000 Blue, 62 requires 4 days to manufacture and has a list price of $742.35.</td></tr>",
                            "<tr><td>Touring-3000 Yellow, 44 requires 4 days to manufacture and has a list price of $742.35.</td></tr>",
                            "<tr><td>Touring-3000 Yellow, 50 requires 4 days to manufacture and has a list price of $742.35.</td></tr>",
                            "<tr><td>Touring-3000 Yellow, 54 requires 4 days to manufacture and has a list price of $742.35.</td></tr>",
                            "<tr><td>Touring-3000 Yellow, 58 requires 4 days to manufacture and has a list price of $742.35.</td></tr>",
                            "<tr><td>Touring-3000 Yellow, 62 requires 4 days to manufacture and has a list price of $742.35.</td></tr>",
                            "<tr><td>Touring-1000 Blue, 46 requires 4 days to manufacture and has a list price of $2384.07.</td></tr>",
                            "<tr><td>Touring-1000 Blue, 50 requires 4 days to manufacture and has a list price of $2384.07.</td></tr>",
                            "<tr><td>Touring-1000 Blue, 54 requires 4 days to manufacture and has a list price of $2384.07.</td></tr>",
                            "<tr><td>Touring-1000 Blue, 60 requires 4 days to manufacture and has a list price of $2384.07.</td></tr>",
                            "<tr><td>Touring-2000 Blue, 46 requires 4 days to manufacture and has a list price of $1214.85.</td></tr>",
                            "<tr><td>Touring-2000 Blue, 50 requires 4 days to manufacture and has a list price of $1214.85.</td></tr>",
                            "<tr><td>Touring-2000 Blue, 54 requires 4 days to manufacture and has a list price of $1214.85.</td></tr>",
                            "<tr><td>Road-350-W Yellow, 40 requires 4 days to manufacture and has a list price of $1700.99.</td></tr>",
                            "<tr><td>Road-350-W Yellow, 42 requires 4 days to manufacture and has a list price of $1700.99.</td></tr>",
                            "<tr><td>Road-350-W Yellow, 44 requires 4 days to manufacture and has a list price of $1700.99.</td></tr>",
                            "<tr><td>Road-350-W Yellow, 48 requires 4 days to manufacture and has a list price of $1700.99.</td></tr>",
                            "<tr><td>Road-750 Black, 58 requires 4 days to manufacture and has a list price of $539.99.</td></tr>",
                            "<tr><td>Touring-3000 Blue, 44 requires 4 days to manufacture and has a list price of $742.35.</td></tr>",
                            "<tr><td>Touring-3000 Blue, 50 requires 4 days to manufacture and has a list price of $742.35.</td></tr>",
                            "<tr><td>Mountain-400-W Silver, 38 requires 4 days to manufacture and has a list price of $769.49.</td></tr>",
                            "<tr><td>Mountain-400-W Silver, 40 requires 4 days to manufacture and has a list price of $769.49.</td></tr>",
                            "<tr><td>Mountain-400-W Silver, 42 requires 4 days to manufacture and has a list price of $769.49.</td></tr>",
                            "<tr><td>Mountain-400-W Silver, 46 requires 4 days to manufacture and has a list price of $769.49.</td></tr>",
                            "<tr><td>Mountain-500 Silver, 40 requires 4 days to manufacture and has a list price of $564.99.</td></tr>",
                            "<tr><td>Mountain-500 Silver, 42 requires 4 days to manufacture and has a list price of $564.99.</td></tr>",
                            "<tr><td>Mountain-500 Silver, 44 requires 4 days to manufacture and has a list price of $564.99.</td></tr>",
                            "<tr><td>Mountain-500 Silver, 48 requires 4 days to manufacture and has a list price of $564.99.</td></tr>",
                            "<tr><td>Mountain-500 Silver, 52 requires 4 days to manufacture and has a list price of $564.99.</td></tr>",
                            "<tr><td>Mountain-500 Black, 40 requires 4 days to manufacture and has a list price of $539.99.</td></tr>",
                            "<tr><td>Mountain-500 Black, 42 requires 4 days to manufacture and has a list price of $539.99.</td></tr>",
                            "<tr><td>Mountain-500 Black, 44 requires 4 days to manufacture and has a list price of $539.99.</td></tr>",
                            "<tr><td>Mountain-500 Black, 48 requires 4 days to manufacture and has a list price of $539.99.</td></tr>",
                            "<tr><td>Mountain-500 Black, 52 requires 4 days to manufacture and has a list price of $539.99.</td></tr>",
                            "<tr><td>Road-750 Black, 44 requires 4 days to manufacture and has a list price of $539.99.</td></tr>",
                            "<tr><td>Road-750 Black, 48 requires 4 days to manufacture and has a list price of $539.99.</td></tr>",
                            "<tr><td>Road-750 Black, 52 requires 4 days to manufacture and has a list price of $539.99.</td></tr>",
                            "<tr><td>HL Mountain Frame - Black, 38 requires 2 days to manufacture and has a list price of $1349.60.</td></tr>",
                            "<tr><td>HL Mountain Frame - Silver, 38 requires 2 days to manufacture and has a list price of $1364.50.</td></tr>",
                            "<tr><td>ML Mountain Frame-W - Silver, 38 requires 2 days to manufacture and has a list price of $364.09.</td></tr>",
                            "<tr><td>LL Mountain Frame - Black, 40 requires 2 days to manufacture and has a list price of $249.79.</td></tr>",
                            "<tr><td>LL Mountain Frame - Silver, 40 requires 2 days to manufacture and has a list price of $264.05.</td></tr>",
                            "<tr><td>ML Mountain Frame - Black, 38 requires 2 days to manufacture and has a list price of $348.76.</td></tr>",
                            "<tr><td>ML Road Frame-W - Yellow, 38 requires 2 days to manufacture and has a list price of $594.83.</td></tr>",
                            "<tr><td>LL Mountain Rear Wheel requires 1 days to manufacture and has a list price of $87.75.</td></tr>",
                            "<tr><td>ML Mountain Rear Wheel requires 1 days to manufacture and has a list price of $236.03.</td></tr>",
                            "<tr><td>HL Mountain Rear Wheel requires 1 days to manufacture and has a list price of $327.22.</td></tr>",
                            "<tr><td>LL Road Rear Wheel requires 1 days to manufacture and has a list price of $112.57.</td></tr>",
                            "<tr><td>ML Road Rear Wheel requires 1 days to manufacture and has a list price of $275.39.</td></tr>",
                            "<tr><td>HL Road Rear Wheel requires 1 days to manufacture and has a list price of $357.06.</td></tr>",
                            "<tr><td>Touring Rear Wheel requires 1 days to manufacture and has a list price of $245.01.</td></tr>",
                            "<tr><td>ML Mountain Frame - Black, 40 requires 1 days to manufacture and has a list price of $348.76.</td></tr>",
                            "<tr><td>ML Mountain Frame - Black, 44 requires 1 days to manufacture and has a list price of $348.76.</td></tr>",
                            "<tr><td>ML Mountain Frame - Black, 48 requires 1 days to manufacture and has a list price of $348.76.</td></tr>",
                            "<tr><td>ML Road Frame-W - Yellow, 40 requires 1 days to manufacture and has a list price of $594.83.</td></tr>",
                            "<tr><td>ML Road Frame-W - Yellow, 42 requires 1 days to manufacture and has a list price of $594.83.</td></tr>",
                            "<tr><td>ML Road Frame-W - Yellow, 44 requires 1 days to manufacture and has a list price of $594.83.</td></tr>",
                            "<tr><td>ML Road Frame-W - Yellow, 48 requires 1 days to manufacture and has a list price of $594.83.</td></tr>",
                            "<tr><td>HL Road Frame - Black, 62 requires 1 days to manufacture and has a list price of $1431.50.</td></tr>",
                            "<tr><td>HL Road Frame - Black, 44 requires 1 days to manufacture and has a list price of $1431.50.</td></tr>",
                            "<tr><td>HL Road Frame - Black, 48 requires 1 days to manufacture and has a list price of $1431.50.</td></tr>",
                            "<tr><td>HL Road Frame - Black, 52 requires 1 days to manufacture and has a list price of $1431.50.</td></tr>",
                            "<tr><td>LL Mountain Front Wheel requires 1 days to manufacture and has a list price of $60.75.</td></tr>",
                            "<tr><td>ML Mountain Front Wheel requires 1 days to manufacture and has a list price of $209.03.</td></tr>",
                            "<tr><td>HL Mountain Front Wheel requires 1 days to manufacture and has a list price of $300.22.</td></tr>",
                            "<tr><td>LL Road Front Wheel requires 1 days to manufacture and has a list price of $85.57.</td></tr>",
                            "<tr><td>ML Road Front Wheel requires 1 days to manufacture and has a list price of $248.39.</td></tr>",
                            "<tr><td>HL Road Front Wheel requires 1 days to manufacture and has a list price of $330.06.</td></tr>",
                            "<tr><td>Touring Front Wheel requires 1 days to manufacture and has a list price of $218.01.</td></tr>",
                            "<tr><td>HL Road Frame - Black, 58 requires 1 days to manufacture and has a list price of $1431.50.</td></tr>",
                            "<tr><td>HL Road Frame - Red, 58 requires 1 days to manufacture and has a list price of $1431.50.</td></tr>",
                            "<tr><td>HL Road Frame - Red, 62 requires 1 days to manufacture and has a list price of $1431.50.</td></tr>",
                            "<tr><td>HL Road Frame - Red, 44 requires 1 days to manufacture and has a list price of $1431.50.</td></tr>",
                            "<tr><td>HL Road Frame - Red, 48 requires 1 days to manufacture and has a list price of $1431.50.</td></tr>",
                            "<tr><td>HL Road Frame - Red, 52 requires 1 days to manufacture and has a list price of $1431.50.</td></tr>",
                            "<tr><td>HL Road Frame - Red, 56 requires 1 days to manufacture and has a list price of $1431.50.</td></tr>",
                            "<tr><td>LL Road Frame - Black, 58 requires 1 days to manufacture and has a list price of $337.22.</td></tr>",
                            "<tr><td>LL Road Frame - Black, 60 requires 1 days to manufacture and has a list price of $337.22.</td></tr>",
                            "<tr><td>LL Road Frame - Black, 62 requires 1 days to manufacture and has a list price of $337.22.</td></tr>",
                            "<tr><td>LL Road Frame - Red, 44 requires 1 days to manufacture and has a list price of $337.22.</td></tr>",
                            "<tr><td>LL Road Frame - Red, 48 requires 1 days to manufacture and has a list price of $337.22.</td></tr>",
                            "<tr><td>LL Road Frame - Red, 52 requires 1 days to manufacture and has a list price of $337.22.</td></tr>",
                            "<tr><td>LL Road Frame - Red, 58 requires 1 days to manufacture and has a list price of $337.22.</td></tr>",
                            "<tr><td>LL Road Frame - Red, 60 requires 1 days to manufacture and has a list price of $337.22.</td></tr>",
                            "<tr><td>LL Road Frame - Red, 62 requires 1 days to manufacture and has a list price of $337.22.</td></tr>",
                            "<tr><td>ML Road Frame - Red, 44 requires 1 days to manufacture and has a list price of $594.83.</td></tr>",
                            "<tr><td>ML Road Frame - Red, 48 requires 1 days to manufacture and has a list price of $594.83.</td></tr>",
                            "<tr><td>ML Road Frame - Red, 52 requires 1 days to manufacture and has a list price of $594.83.</td></tr>",
                            "<tr><td>ML Road Frame - Red, 58 requires 1 days to manufacture and has a list price of $594.83.</td></tr>",
                            "<tr><td>ML Road Frame - Red, 60 requires 1 days to manufacture and has a list price of $594.83.</td></tr>",
                            "<tr><td>LL Road Frame - Black, 44 requires 1 days to manufacture and has a list price of $337.22.</td></tr>",
                            "<tr><td>LL Road Frame - Black, 48 requires 1 days to manufacture and has a list price of $337.22.</td></tr>",
                            "<tr><td>LL Road Frame - Black, 52 requires 1 days to manufacture and has a list price of $337.22.</td></tr>",
                            "<tr><td>HL Mountain Frame - Silver, 42 requires 1 days to manufacture and has a list price of $1364.50.</td></tr>",
                            "<tr><td>HL Mountain Frame - Silver, 44 requires 1 days to manufacture and has a list price of $1364.50.</td></tr>",
                            "<tr><td>HL Mountain Frame - Silver, 48 requires 1 days to manufacture and has a list price of $1364.50.</td></tr>",
                            "<tr><td>HL Mountain Frame - Silver, 46 requires 1 days to manufacture and has a list price of $1364.50.</td></tr>",
                            "<tr><td>HL Mountain Frame - Black, 42 requires 1 days to manufacture and has a list price of $1349.60.</td></tr>",
                            "<tr><td>HL Mountain Frame - Black, 44 requires 1 days to manufacture and has a list price of $1349.60.</td></tr>",
                            "<tr><td>HL Mountain Frame - Black, 48 requires 1 days to manufacture and has a list price of $1349.60.</td></tr>",
                            "<tr><td>HL Mountain Frame - Black, 46 requires 1 days to manufacture and has a list price of $1349.60.</td></tr>",
                            "<tr><td>LL Fork requires 1 days to manufacture and has a list price of $148.22.</td></tr>",
                            "<tr><td>ML Fork requires 1 days to manufacture and has a list price of $175.49.</td></tr>",
                            "<tr><td>HL Fork requires 1 days to manufacture and has a list price of $229.49.</td></tr>",
                            "<tr><td>LL Headset requires 1 days to manufacture and has a list price of $34.20.</td></tr>",
                            "<tr><td>ML Headset requires 1 days to manufacture and has a list price of $102.29.</td></tr>",
                            "<tr><td>HL Headset requires 1 days to manufacture and has a list price of $124.73.</td></tr>",
                            "<tr><td>LL Mountain Handlebars requires 1 days to manufacture and has a list price of $44.54.</td></tr>",
                            "<tr><td>ML Mountain Handlebars requires 1 days to manufacture and has a list price of $61.92.</td></tr>",
                            "<tr><td>HL Mountain Handlebars requires 1 days to manufacture and has a list price of $120.27.</td></tr>",
                            "<tr><td>LL Road Handlebars requires 1 days to manufacture and has a list price of $44.54.</td></tr>",
                            "<tr><td>ML Road Handlebars requires 1 days to manufacture and has a list price of $61.92.</td></tr>",
                            "<tr><td>HL Road Handlebars requires 1 days to manufacture and has a list price of $120.27.</td></tr>",
                            "<tr><td>Front Derailleur requires 1 days to manufacture and has a list price of $91.49.</td></tr>",
                            "<tr><td>LL Touring Handlebars requires 1 days to manufacture and has a list price of $46.09.</td></tr>",
                            "<tr><td>HL Touring Handlebars requires 1 days to manufacture and has a list price of $91.57.</td></tr>",
                            "<tr><td>Front Brakes requires 1 days to manufacture and has a list price of $106.50.</td></tr>",
                            "<tr><td>LL Crankset requires 1 days to manufacture and has a list price of $175.49.</td></tr>",
                            "<tr><td>ML Crankset requires 1 days to manufacture and has a list price of $256.49.</td></tr>",
                            "<tr><td>HL Crankset requires 1 days to manufacture and has a list price of $404.99.</td></tr>",
                            "<tr><td>Chain requires 1 days to manufacture and has a list price of $20.24.</td></tr>",
                            "<tr><td>LL Mountain Frame - Black, 42 requires 1 days to manufacture and has a list price of $249.79.</td></tr>",
                            "<tr><td>LL Mountain Frame - Black, 44 requires 1 days to manufacture and has a list price of $249.79.</td></tr>",
                            "<tr><td>LL Mountain Frame - Black, 48 requires 1 days to manufacture and has a list price of $249.79.</td></tr>",
                            "<tr><td>LL Mountain Frame - Black, 52 requires 1 days to manufacture and has a list price of $249.79.</td></tr>",
                            "<tr><td>LL Mountain Pedal requires 1 days to manufacture and has a list price of $40.49.</td></tr>",
                            "<tr><td>ML Mountain Pedal requires 1 days to manufacture and has a list price of $62.09.</td></tr>",
                            "<tr><td>HL Mountain Pedal requires 1 days to manufacture and has a list price of $80.99.</td></tr>",
                            "<tr><td>LL Road Pedal requires 1 days to manufacture and has a list price of $40.49.</td></tr>",
                            "<tr><td>ML Road Pedal requires 1 days to manufacture and has a list price of $62.09.</td></tr>",
                            "<tr><td>HL Road Pedal requires 1 days to manufacture and has a list price of $80.99.</td></tr>",
                            "<tr><td>Touring Pedal requires 1 days to manufacture and has a list price of $80.99.</td></tr>",
                            "<tr><td>LL Bottom Bracket requires 1 days to manufacture and has a list price of $53.99.</td></tr>",
                            "<tr><td>ML Bottom Bracket requires 1 days to manufacture and has a list price of $101.24.</td></tr>",
                            "<tr><td>HL Bottom Bracket requires 1 days to manufacture and has a list price of $121.49.</td></tr>",
                            "<tr><td>HL Touring Frame - Yellow, 60 requires 1 days to manufacture and has a list price of $1003.91.</td></tr>",
                            "<tr><td>LL Touring Frame - Yellow, 62 requires 1 days to manufacture and has a list price of $333.42.</td></tr>",
                            "<tr><td>HL Touring Frame - Yellow, 46 requires 1 days to manufacture and has a list price of $1003.91.</td></tr>",
                            "<tr><td>HL Touring Frame - Yellow, 50 requires 1 days to manufacture and has a list price of $1003.91.</td></tr>",
                            "<tr><td>HL Touring Frame - Yellow, 54 requires 1 days to manufacture and has a list price of $1003.91.</td></tr>",
                            "<tr><td>HL Touring Frame - Blue, 46 requires 1 days to manufacture and has a list price of $1003.91.</td></tr>",
                            "<tr><td>HL Touring Frame - Blue, 50 requires 1 days to manufacture and has a list price of $1003.91.</td></tr>",
                            "<tr><td>HL Touring Frame - Blue, 54 requires 1 days to manufacture and has a list price of $1003.91.</td></tr>",
                            "<tr><td>HL Touring Frame - Blue, 60 requires 1 days to manufacture and has a list price of $1003.91.</td></tr>",
                            "<tr><td>Rear Derailleur requires 1 days to manufacture and has a list price of $121.46.</td></tr>",
                            "<tr><td>LL Touring Frame - Blue, 50 requires 1 days to manufacture and has a list price of $333.42.</td></tr>",
                            "<tr><td>LL Touring Frame - Blue, 54 requires 1 days to manufacture and has a list price of $333.42.</td></tr>",
                            "<tr><td>LL Touring Frame - Blue, 58 requires 1 days to manufacture and has a list price of $333.42.</td></tr>",
                            "<tr><td>LL Touring Frame - Blue, 62 requires 1 days to manufacture and has a list price of $333.42.</td></tr>",
                            "<tr><td>LL Touring Frame - Yellow, 44 requires 1 days to manufacture and has a list price of $333.42.</td></tr>",
                            "<tr><td>LL Touring Frame - Yellow, 50 requires 1 days to manufacture and has a list price of $333.42.</td></tr>",
                            "<tr><td>LL Touring Frame - Yellow, 54 requires 1 days to manufacture and has a list price of $333.42.</td></tr>",
                            "<tr><td>LL Touring Frame - Yellow, 58 requires 1 days to manufacture and has a list price of $333.42.</td></tr>",
                            "<tr><td>LL Touring Frame - Blue, 44 requires 1 days to manufacture and has a list price of $333.42.</td></tr>",
                            "<tr><td>ML Mountain Frame-W - Silver, 40 requires 1 days to manufacture and has a list price of $364.09.</td></tr>",
                            "<tr><td>ML Mountain Frame-W - Silver, 42 requires 1 days to manufacture and has a list price of $364.09.</td></tr>",
                            "<tr><td>ML Mountain Frame-W - Silver, 46 requires 1 days to manufacture and has a list price of $364.09.</td></tr>",
                            "<tr><td>Rear Brakes requires 1 days to manufacture and has a list price of $106.50.</td></tr>",
                            "<tr><td>LL Mountain Seat/Saddle requires 1 days to manufacture and has a list price of $27.12.</td></tr>",
                            "<tr><td>ML Mountain Seat/Saddle requires 1 days to manufacture and has a list price of $39.14.</td></tr>",
                            "<tr><td>HL Mountain Seat/Saddle requires 1 days to manufacture and has a list price of $52.64.</td></tr>",
                            "<tr><td>LL Road Seat/Saddle requires 1 days to manufacture and has a list price of $27.12.</td></tr>",
                            "<tr><td>ML Road Seat/Saddle requires 1 days to manufacture and has a list price of $39.14.</td></tr>",
                            "<tr><td>HL Road Seat/Saddle requires 1 days to manufacture and has a list price of $52.64.</td></tr>",
                            "<tr><td>LL Touring Seat/Saddle requires 1 days to manufacture and has a list price of $27.12.</td></tr>",
                            "<tr><td>ML Touring Seat/Saddle requires 1 days to manufacture and has a list price of $39.14.</td></tr>",
                            "<tr><td>HL Touring Seat/Saddle requires 1 days to manufacture and has a list price of $52.64.</td></tr>",
                            "<tr><td>LL Mountain Frame - Silver, 42 requires 1 days to manufacture and has a list price of $264.05.</td></tr>",
                            "<tr><td>LL Mountain Frame - Silver, 44 requires 1 days to manufacture and has a list price of $264.05.</td></tr>",
                            "<tr><td>LL Mountain Frame - Silver, 48 requires 1 days to manufacture and has a list price of $264.05.</td></tr>",
                            "<tr><td>LL Mountain Frame - Silver, 52 requires 1 days to manufacture and has a list price of $264.05.</td></tr>",
                            "<tr><td>Mountain Tire Tube requires 0 days to manufacture and has a list price of $4.99.</td></tr>",
                            "<tr><td>Road Tire Tube requires 0 days to manufacture and has a list price of $3.99.</td></tr>",
                            "<tr><td>Touring Tire Tube requires 0 days to manufacture and has a list price of $4.99.</td></tr>",
                            "<tr><td>LL Mountain Tire requires 0 days to manufacture and has a list price of $24.99.</td></tr>",
                            "<tr><td>ML Mountain Tire requires 0 days to manufacture and has a list price of $29.99.</td></tr>",
                            "<tr><td>HL Mountain Tire requires 0 days to manufacture and has a list price of $35.00.</td></tr>",
                            "<tr><td>LL Road Tire requires 0 days to manufacture and has a list price of $21.49.</td></tr>",
                            "<tr><td>ML Road Tire requires 0 days to manufacture and has a list price of $24.99.</td></tr>",
                            "<tr><td>HL Road Tire requires 0 days to manufacture and has a list price of $32.60.</td></tr>",
                            "<tr><td>Touring Tire requires 0 days to manufacture and has a list price of $28.99.</td></tr>",
                            "<tr><td>Sport-100 Helmet, Red requires 0 days to manufacture and has a list price of $34.99.</td></tr>",
                            "<tr><td>Sport-100 Helmet, Black requires 0 days to manufacture and has a list price of $34.99.</td></tr>",
                            "<tr><td>Mountain Bike Socks, M requires 0 days to manufacture and has a list price of $9.50.</td></tr>",
                            "<tr><td>Mountain Bike Socks, L requires 0 days to manufacture and has a list price of $9.50.</td></tr>",
                            "<tr><td>Sport-100 Helmet, Blue requires 0 days to manufacture and has a list price of $34.99.</td></tr>",
                            "<tr><td>AWC Logo Cap requires 0 days to manufacture and has a list price of $8.99.</td></tr>",
                            "<tr><td>Long-Sleeve Logo Jersey, S requires 0 days to manufacture and has a list price of $49.99.</td></tr>",
                            "<tr><td>Long-Sleeve Logo Jersey, M requires 0 days to manufacture and has a list price of $49.99.</td></tr>",
                            "<tr><td>Long-Sleeve Logo Jersey, L requires 0 days to manufacture and has a list price of $49.99.</td></tr>",
                            "<tr><td>Long-Sleeve Logo Jersey, XL requires 0 days to manufacture and has a list price of $49.99.</td></tr>",
                            "<tr><td>Men&#39;s Sports Shorts, S requires 0 days to manufacture and has a list price of $59.99.</td></tr>",
                            "<tr><td>Touring-Panniers, Large requires 0 days to manufacture and has a list price of $125.00.</td></tr>",
                            "<tr><td>Cable Lock requires 0 days to manufacture and has a list price of $25.00.</td></tr>",
                            "<tr><td>Minipump requires 0 days to manufacture and has a list price of $19.99.</td></tr>",
                            "<tr><td>Mountain Pump requires 0 days to manufacture and has a list price of $24.99.</td></tr>",
                            "<tr><td>Taillights - Battery-Powered requires 0 days to manufacture and has a list price of $13.99.</td></tr>",
                            "<tr><td>Headlights - Dual-Beam requires 0 days to manufacture and has a list price of $34.99.</td></tr>",
                            "<tr><td>Headlights - Weatherproof requires 0 days to manufacture and has a list price of $44.99.</td></tr>",
                            "<tr><td>Men&#39;s Sports Shorts, M requires 0 days to manufacture and has a list price of $59.99.</td></tr>",
                            "<tr><td>Men&#39;s Sports Shorts, L requires 0 days to manufacture and has a list price of $59.99.</td></tr>",
                            "<tr><td>Men&#39;s Sports Shorts, XL requires 0 days to manufacture and has a list price of $59.99.</td></tr>",
                            "<tr><td>Women&#39;s Tights, S requires 0 days to manufacture and has a list price of $74.99.</td></tr>",
                            "<tr><td>Women&#39;s Tights, M requires 0 days to manufacture and has a list price of $74.99.</td></tr>",
                            "<tr><td>Women&#39;s Tights, L requires 0 days to manufacture and has a list price of $74.99.</td></tr>",
                            "<tr><td>Men&#39;s Bib-Shorts, S requires 0 days to manufacture and has a list price of $89.99.</td></tr>",
                            "<tr><td>Men&#39;s Bib-Shorts, M requires 0 days to manufacture and has a list price of $89.99.</td></tr>",
                            "<tr><td>Men&#39;s Bib-Shorts, L requires 0 days to manufacture and has a list price of $89.99.</td></tr>",
                            "<tr><td>Half-Finger Gloves, S requires 0 days to manufacture and has a list price of $24.49.</td></tr>",
                            "<tr><td>Half-Finger Gloves, M requires 0 days to manufacture and has a list price of $24.49.</td></tr>",
                            "<tr><td>Half-Finger Gloves, L requires 0 days to manufacture and has a list price of $24.49.</td></tr>",
                            "<tr><td>Full-Finger Gloves, S requires 0 days to manufacture and has a list price of $37.99.</td></tr>",
                            "<tr><td>Full-Finger Gloves, M requires 0 days to manufacture and has a list price of $37.99.</td></tr>",
                            "<tr><td>Full-Finger Gloves, L requires 0 days to manufacture and has a list price of $37.99.</td></tr>",
                            "<tr><td>Classic Vest, S requires 0 days to manufacture and has a list price of $63.50.</td></tr>",
                            "<tr><td>Classic Vest, M requires 0 days to manufacture and has a list price of $63.50.</td></tr>",
                            "<tr><td>Classic Vest, L requires 0 days to manufacture and has a list price of $63.50.</td></tr>",
                            "<tr><td>Women&#39;s Mountain Shorts, S requires 0 days to manufacture and has a list price of $69.99.</td></tr>",
                            "<tr><td>Women&#39;s Mountain Shorts, M requires 0 days to manufacture and has a list price of $69.99.</td></tr>",
                            "<tr><td>Women&#39;s Mountain Shorts, L requires 0 days to manufacture and has a list price of $69.99.</td></tr>",
                            "<tr><td>Water Bottle - 30 oz. requires 0 days to manufacture and has a list price of $4.99.</td></tr>",
                            "<tr><td>Mountain Bottle Cage requires 0 days to manufacture and has a list price of $9.99.</td></tr>",
                            "<tr><td>Road Bottle Cage requires 0 days to manufacture and has a list price of $8.99.</td></tr>",
                            "<tr><td>Patch Kit/8 Patches requires 0 days to manufacture and has a list price of $2.29.</td></tr>",
                            "<tr><td>Racing Socks, M requires 0 days to manufacture and has a list price of $8.99.</td></tr>",
                            "<tr><td>Racing Socks, L requires 0 days to manufacture and has a list price of $8.99.</td></tr>",
                            "<tr><td>Hitch Rack - 4-Bike requires 0 days to manufacture and has a list price of $120.00.</td></tr>",
                            "<tr><td>Bike Wash - Dissolver requires 0 days to manufacture and has a list price of $7.95.</td></tr>",
                            "<tr><td>Fender Set - Mountain requires 0 days to manufacture and has a list price of $21.98.</td></tr>",
                            "<tr><td>All-Purpose Bike Stand requires 0 days to manufacture and has a list price of $159.00.</td></tr>",
                            "<tr><td>Hydration Pack - 70 oz. requires 0 days to manufacture and has a list price of $54.99.</td></tr>",
                            "<tr><td>Short-Sleeve Classic Jersey, S requires 0 days to manufacture and has a list price of $53.99.</td></tr>",
                            "<tr><td>Short-Sleeve Classic Jersey, M requires 0 days to manufacture and has a list price of $53.99.</td></tr>",
                            "<tr><td>Short-Sleeve Classic Jersey, L requires 0 days to manufacture and has a list price of $53.99.</td></tr>",
                            "<tr><td>Short-Sleeve Classic Jersey, XL requires 0 days to manufacture and has a list price of $53.99.</td></tr>",
                            "</table>"
                        ]
                    }
                }
            ],
            "execution_count": 1
        },
        {
            "cell_type": "markdown",
            "source": [
                "## Problem 6\n",
                "\n",
                "Write a SQL query to retrieve a list of employees who are under 50 but was hired over 15 years ago.  Include their BirthDate, Age, HireDate, and EmploymentYears in the output. Sort the results by  EmploymentYears in descendng order.\n",
                "\n",
                "**Hint**: EmploymentYears is calculated based on the HireDate."
            ],
            "metadata": {
                "azdata_cell_guid": "2db5b151-073e-4c29-a3e1-a663ba9e13a2",
                "language": "sql",
                "id": "9bqXef_xmOfr"
            }
        },
        {
            "cell_type": "code",
            "source": [
                "-- Your SQL Query Here\n",
                "SELECT BirthDate, DATEDIFF(DAY,BirthDate,GETDATE())/365 AS Age, HireDate, DATEDIFF(DAY,HireDate,GETDATE())/365 AS EmploymentYears\n",
                "FROM HumanResources.Employee\n",
                "WHERE\n",
                "ORDER BY EmploymentYears DESC;"
            ],
            "metadata": {
                "language": "sql",
                "azdata_cell_guid": "767a97c8-94a7-4946-bae6-0e01268f3a1d",
                "tags": [],
                "id": "seioVeLWmOfs"
            },
            "outputs": [
                {
                    "output_type": "display_data",
                    "data": {
                        "text/html": "(290 rows affected)"
                    },
                    "metadata": {}
                },
                {
                    "output_type": "display_data",
                    "data": {
                        "text/html": "Total execution time: 00:00:00.090"
                    },
                    "metadata": {}
                },
                {
                    "output_type": "execute_result",
                    "execution_count": 9,
                    "data": {
                        "application/vnd.dataresource+json": {
                            "schema": {
                                "fields": [
                                    {
                                        "name": "BirthDate"
                                    },
                                    {
                                        "name": "Age"
                                    },
                                    {
                                        "name": "HireDate"
                                    },
                                    {
                                        "name": "EmploymentYears"
                                    }
                                ]
                            },
                            "data": [
                                {
                                    "BirthDate": "1987-05-03",
                                    "Age": "37",
                                    "HireDate": "2007-01-26",
                                    "EmploymentYears": "18"
                                },
                                {
                                    "BirthDate": "1988-03-13",
                                    "Age": "37",
                                    "HireDate": "2006-06-30",
                                    "EmploymentYears": "18"
                                },
                                {
                                    "BirthDate": "1956-01-16",
                                    "Age": "69",
                                    "HireDate": "2007-12-26",
                                    "EmploymentYears": "17"
                                },
                                {
                                    "BirthDate": "1959-07-29",
                                    "Age": "65",
                                    "HireDate": "2007-12-11",
                                    "EmploymentYears": "17"
                                },
                                {
                                    "BirthDate": "1971-08-01",
                                    "Age": "53",
                                    "HireDate": "2008-01-31",
                                    "EmploymentYears": "17"
                                },
                                {
                                    "BirthDate": "1974-11-12",
                                    "Age": "50",
                                    "HireDate": "2007-11-11",
                                    "EmploymentYears": "17"
                                },
                                {
                                    "BirthDate": "1974-12-23",
                                    "Age": "50",
                                    "HireDate": "2007-12-05",
                                    "EmploymentYears": "17"
                                },
                                {
                                    "BirthDate": "1952-09-27",
                                    "Age": "72",
                                    "HireDate": "2008-01-06",
                                    "EmploymentYears": "17"
                                },
                                {
                                    "BirthDate": "1959-03-11",
                                    "Age": "66",
                                    "HireDate": "2008-01-24",
                                    "EmploymentYears": "17"
                                },
                                {
                                    "BirthDate": "1956-06-04",
                                    "Age": "68",
                                    "HireDate": "2008-01-06",
                                    "EmploymentYears": "17"
                                },
                                {
                                    "BirthDate": "1956-03-26",
                                    "Age": "69",
                                    "HireDate": "2008-01-07",
                                    "EmploymentYears": "17"
                                },
                                {
                                    "BirthDate": "1956-08-30",
                                    "Age": "68",
                                    "HireDate": "2008-02-02",
                                    "EmploymentYears": "17"
                                },
                                {
                                    "BirthDate": "1956-07-11",
                                    "Age": "68",
                                    "HireDate": "2008-02-20",
                                    "EmploymentYears": "17"
                                },
                                {
                                    "BirthDate": "1956-04-04",
                                    "Age": "69",
                                    "HireDate": "2008-03-10",
                                    "EmploymentYears": "17"
                                },
                                {
                                    "BirthDate": "1956-04-01",
                                    "Age": "69",
                                    "HireDate": "2008-02-08",
                                    "EmploymentYears": "17"
                                },
                                {
                                    "BirthDate": "1956-08-07",
                                    "Age": "68",
                                    "HireDate": "2008-03-17",
                                    "EmploymentYears": "17"
                                },
                                {
                                    "BirthDate": "1975-03-19",
                                    "Age": "50",
                                    "HireDate": "2007-12-20",
                                    "EmploymentYears": "17"
                                },
                                {
                                    "BirthDate": "1956-10-08",
                                    "Age": "68",
                                    "HireDate": "2008-02-27",
                                    "EmploymentYears": "17"
                                },
                                {
                                    "BirthDate": "1984-08-17",
                                    "Age": "40",
                                    "HireDate": "2009-02-10",
                                    "EmploymentYears": "16"
                                },
                                {
                                    "BirthDate": "1974-08-21",
                                    "Age": "50",
                                    "HireDate": "2009-02-28",
                                    "EmploymentYears": "16"
                                },
                                {
                                    "BirthDate": "1964-06-21",
                                    "Age": "60",
                                    "HireDate": "2009-01-12",
                                    "EmploymentYears": "16"
                                },
                                {
                                    "BirthDate": "1975-12-13",
                                    "Age": "49",
                                    "HireDate": "2008-12-11",
                                    "EmploymentYears": "16"
                                },
                                {
                                    "BirthDate": "1984-03-25",
                                    "Age": "41",
                                    "HireDate": "2009-02-04",
                                    "EmploymentYears": "16"
                                },
                                {
                                    "BirthDate": "1977-03-27",
                                    "Age": "48",
                                    "HireDate": "2008-12-04",
                                    "EmploymentYears": "16"
                                },
                                {
                                    "BirthDate": "1980-05-28",
                                    "Age": "44",
                                    "HireDate": "2009-02-23",
                                    "EmploymentYears": "16"
                                },
                                {
                                    "BirthDate": "1978-05-19",
                                    "Age": "46",
                                    "HireDate": "2009-02-16",
                                    "EmploymentYears": "16"
                                },
                                {
                                    "BirthDate": "1988-03-13",
                                    "Age": "37",
                                    "HireDate": "2009-02-03",
                                    "EmploymentYears": "16"
                                },
                                {
                                    "BirthDate": "1987-05-26",
                                    "Age": "37",
                                    "HireDate": "2009-01-11",
                                    "EmploymentYears": "16"
                                },
                                {
                                    "BirthDate": "1975-05-17",
                                    "Age": "49",
                                    "HireDate": "2009-01-17",
                                    "EmploymentYears": "16"
                                },
                                {
                                    "BirthDate": "1976-01-06",
                                    "Age": "49",
                                    "HireDate": "2009-01-22",
                                    "EmploymentYears": "16"
                                },
                                {
                                    "BirthDate": "1985-01-30",
                                    "Age": "40",
                                    "HireDate": "2008-12-23",
                                    "EmploymentYears": "16"
                                },
                                {
                                    "BirthDate": "1969-01-29",
                                    "Age": "56",
                                    "HireDate": "2009-01-14",
                                    "EmploymentYears": "16"
                                },
                                {
                                    "BirthDate": "1976-02-11",
                                    "Age": "49",
                                    "HireDate": "2009-03-05",
                                    "EmploymentYears": "16"
                                },
                                {
                                    "BirthDate": "1972-06-13",
                                    "Age": "52",
                                    "HireDate": "2009-01-05",
                                    "EmploymentYears": "16"
                                },
                                {
                                    "BirthDate": "1984-04-11",
                                    "Age": "40",
                                    "HireDate": "2008-12-22",
                                    "EmploymentYears": "16"
                                },
                                {
                                    "BirthDate": "1980-04-28",
                                    "Age": "44",
                                    "HireDate": "2008-12-27",
                                    "EmploymentYears": "16"
                                },
                                {
                                    "BirthDate": "1972-11-25",
                                    "Age": "52",
                                    "HireDate": "2008-12-12",
                                    "EmploymentYears": "16"
                                },
                                {
                                    "BirthDate": "1986-09-08",
                                    "Age": "38",
                                    "HireDate": "2008-12-19",
                                    "EmploymentYears": "16"
                                },
                                {
                                    "BirthDate": "1990-01-25",
                                    "Age": "35",
                                    "HireDate": "2009-03-02",
                                    "EmploymentYears": "16"
                                },
                                {
                                    "BirthDate": "1986-03-21",
                                    "Age": "39",
                                    "HireDate": "2009-02-10",
                                    "EmploymentYears": "16"
                                },
                                {
                                    "BirthDate": "1978-06-26",
                                    "Age": "46",
                                    "HireDate": "2009-02-11",
                                    "EmploymentYears": "16"
                                },
                                {
                                    "BirthDate": "1979-03-29",
                                    "Age": "46",
                                    "HireDate": "2009-01-06",
                                    "EmploymentYears": "16"
                                },
                                {
                                    "BirthDate": "1973-01-24",
                                    "Age": "52",
                                    "HireDate": "2009-01-12",
                                    "EmploymentYears": "16"
                                },
                                {
                                    "BirthDate": "1971-08-30",
                                    "Age": "53",
                                    "HireDate": "2009-01-25",
                                    "EmploymentYears": "16"
                                },
                                {
                                    "BirthDate": "1983-10-26",
                                    "Age": "41",
                                    "HireDate": "2008-12-03",
                                    "EmploymentYears": "16"
                                },
                                {
                                    "BirthDate": "1989-02-05",
                                    "Age": "36",
                                    "HireDate": "2008-12-08",
                                    "EmploymentYears": "16"
                                },
                                {
                                    "BirthDate": "1978-01-26",
                                    "Age": "47",
                                    "HireDate": "2008-12-07",
                                    "EmploymentYears": "16"
                                },
                                {
                                    "BirthDate": "1979-07-06",
                                    "Age": "45",
                                    "HireDate": "2008-12-14",
                                    "EmploymentYears": "16"
                                },
                                {
                                    "BirthDate": "1978-02-25",
                                    "Age": "47",
                                    "HireDate": "2008-12-17",
                                    "EmploymentYears": "16"
                                },
                                {
                                    "BirthDate": "1978-05-31",
                                    "Age": "46",
                                    "HireDate": "2009-01-01",
                                    "EmploymentYears": "16"
                                },
                                {
                                    "BirthDate": "1987-07-17",
                                    "Age": "37",
                                    "HireDate": "2008-12-25",
                                    "EmploymentYears": "16"
                                },
                                {
                                    "BirthDate": "1978-05-07",
                                    "Age": "46",
                                    "HireDate": "2009-01-13",
                                    "EmploymentYears": "16"
                                },
                                {
                                    "BirthDate": "1991-05-31",
                                    "Age": "33",
                                    "HireDate": "2009-01-20",
                                    "EmploymentYears": "16"
                                },
                                {
                                    "BirthDate": "1974-05-03",
                                    "Age": "50",
                                    "HireDate": "2009-01-31",
                                    "EmploymentYears": "16"
                                },
                                {
                                    "BirthDate": "1990-08-04",
                                    "Age": "34",
                                    "HireDate": "2009-02-18",
                                    "EmploymentYears": "16"
                                },
                                {
                                    "BirthDate": "1971-06-13",
                                    "Age": "53",
                                    "HireDate": "2009-02-13",
                                    "EmploymentYears": "16"
                                },
                                {
                                    "BirthDate": "1989-06-15",
                                    "Age": "35",
                                    "HireDate": "2009-02-25",
                                    "EmploymentYears": "16"
                                },
                                {
                                    "BirthDate": "1987-06-06",
                                    "Age": "37",
                                    "HireDate": "2009-03-04",
                                    "EmploymentYears": "16"
                                },
                                {
                                    "BirthDate": "1972-09-09",
                                    "Age": "52",
                                    "HireDate": "2009-01-02",
                                    "EmploymentYears": "16"
                                },
                                {
                                    "BirthDate": "1978-02-17",
                                    "Age": "47",
                                    "HireDate": "2008-12-07",
                                    "EmploymentYears": "16"
                                },
                                {
                                    "BirthDate": "1977-03-18",
                                    "Age": "48",
                                    "HireDate": "2008-12-07",
                                    "EmploymentYears": "16"
                                },
                                {
                                    "BirthDate": "1984-04-30",
                                    "Age": "40",
                                    "HireDate": "2008-12-26",
                                    "EmploymentYears": "16"
                                },
                                {
                                    "BirthDate": "1973-11-11",
                                    "Age": "51",
                                    "HireDate": "2009-01-20",
                                    "EmploymentYears": "16"
                                },
                                {
                                    "BirthDate": "1985-05-04",
                                    "Age": "39",
                                    "HireDate": "2009-02-26",
                                    "EmploymentYears": "16"
                                },
                                {
                                    "BirthDate": "1983-07-02",
                                    "Age": "41",
                                    "HireDate": "2009-01-03",
                                    "EmploymentYears": "16"
                                },
                                {
                                    "BirthDate": "1980-11-13",
                                    "Age": "44",
                                    "HireDate": "2008-12-04",
                                    "EmploymentYears": "16"
                                },
                                {
                                    "BirthDate": "1988-05-16",
                                    "Age": "36",
                                    "HireDate": "2008-12-22",
                                    "EmploymentYears": "16"
                                },
                                {
                                    "BirthDate": "1973-08-04",
                                    "Age": "51",
                                    "HireDate": "2009-02-13",
                                    "EmploymentYears": "16"
                                },
                                {
                                    "BirthDate": "1990-10-07",
                                    "Age": "34",
                                    "HireDate": "2009-02-15",
                                    "EmploymentYears": "16"
                                },
                                {
                                    "BirthDate": "1986-04-09",
                                    "Age": "38",
                                    "HireDate": "2009-02-22",
                                    "EmploymentYears": "16"
                                },
                                {
                                    "BirthDate": "1991-01-04",
                                    "Age": "34",
                                    "HireDate": "2009-01-10",
                                    "EmploymentYears": "16"
                                },
                                {
                                    "BirthDate": "1985-01-19",
                                    "Age": "40",
                                    "HireDate": "2009-01-14",
                                    "EmploymentYears": "16"
                                },
                                {
                                    "BirthDate": "1982-01-03",
                                    "Age": "43",
                                    "HireDate": "2008-12-04",
                                    "EmploymentYears": "16"
                                },
                                {
                                    "BirthDate": "1989-03-28",
                                    "Age": "36",
                                    "HireDate": "2009-02-02",
                                    "EmploymentYears": "16"
                                },
                                {
                                    "BirthDate": "1986-04-30",
                                    "Age": "38",
                                    "HireDate": "2009-01-15",
                                    "EmploymentYears": "16"
                                },
                                {
                                    "BirthDate": "1976-03-06",
                                    "Age": "49",
                                    "HireDate": "2008-12-28",
                                    "EmploymentYears": "16"
                                },
                                {
                                    "BirthDate": "1976-01-30",
                                    "Age": "49",
                                    "HireDate": "2009-01-04",
                                    "EmploymentYears": "16"
                                },
                                {
                                    "BirthDate": "1990-04-28",
                                    "Age": "34",
                                    "HireDate": "2008-12-16",
                                    "EmploymentYears": "16"
                                },
                                {
                                    "BirthDate": "1987-03-12",
                                    "Age": "38",
                                    "HireDate": "2009-01-22",
                                    "EmploymentYears": "16"
                                },
                                {
                                    "BirthDate": "1975-12-25",
                                    "Age": "49",
                                    "HireDate": "2009-02-09",
                                    "EmploymentYears": "16"
                                },
                                {
                                    "BirthDate": "1987-05-26",
                                    "Age": "37",
                                    "HireDate": "2009-03-06",
                                    "EmploymentYears": "16"
                                },
                                {
                                    "BirthDate": "1968-09-17",
                                    "Age": "56",
                                    "HireDate": "2008-12-12",
                                    "EmploymentYears": "16"
                                },
                                {
                                    "BirthDate": "1987-12-22",
                                    "Age": "37",
                                    "HireDate": "2009-01-26",
                                    "EmploymentYears": "16"
                                },
                                {
                                    "BirthDate": "1981-11-06",
                                    "Age": "43",
                                    "HireDate": "2009-01-07",
                                    "EmploymentYears": "16"
                                },
                                {
                                    "BirthDate": "1984-03-29",
                                    "Age": "41",
                                    "HireDate": "2009-02-13",
                                    "EmploymentYears": "16"
                                },
                                {
                                    "BirthDate": "1984-08-11",
                                    "Age": "40",
                                    "HireDate": "2009-03-03",
                                    "EmploymentYears": "16"
                                },
                                {
                                    "BirthDate": "1974-09-05",
                                    "Age": "50",
                                    "HireDate": "2009-02-23",
                                    "EmploymentYears": "16"
                                },
                                {
                                    "BirthDate": "1987-11-22",
                                    "Age": "37",
                                    "HireDate": "2009-02-04",
                                    "EmploymentYears": "16"
                                },
                                {
                                    "BirthDate": "1976-01-18",
                                    "Age": "49",
                                    "HireDate": "2008-12-14",
                                    "EmploymentYears": "16"
                                },
                                {
                                    "BirthDate": "1976-01-06",
                                    "Age": "49",
                                    "HireDate": "2009-01-31",
                                    "EmploymentYears": "16"
                                },
                                {
                                    "BirthDate": "1976-02-11",
                                    "Age": "49",
                                    "HireDate": "2008-12-06",
                                    "EmploymentYears": "16"
                                },
                                {
                                    "BirthDate": "1976-04-16",
                                    "Age": "48",
                                    "HireDate": "2009-02-25",
                                    "EmploymentYears": "16"
                                },
                                {
                                    "BirthDate": "1977-04-17",
                                    "Age": "47",
                                    "HireDate": "2009-02-06",
                                    "EmploymentYears": "16"
                                },
                                {
                                    "BirthDate": "1984-08-01",
                                    "Age": "40",
                                    "HireDate": "2009-01-01",
                                    "EmploymentYears": "16"
                                },
                                {
                                    "BirthDate": "1984-11-20",
                                    "Age": "40",
                                    "HireDate": "2008-12-25",
                                    "EmploymentYears": "16"
                                },
                                {
                                    "BirthDate": "1978-07-18",
                                    "Age": "46",
                                    "HireDate": "2008-12-13",
                                    "EmploymentYears": "16"
                                },
                                {
                                    "BirthDate": "1983-07-08",
                                    "Age": "41",
                                    "HireDate": "2009-01-30",
                                    "EmploymentYears": "16"
                                },
                                {
                                    "BirthDate": "1976-03-06",
                                    "Age": "49",
                                    "HireDate": "2008-12-18",
                                    "EmploymentYears": "16"
                                },
                                {
                                    "BirthDate": "1976-02-23",
                                    "Age": "49",
                                    "HireDate": "2009-01-06",
                                    "EmploymentYears": "16"
                                },
                                {
                                    "BirthDate": "1984-09-20",
                                    "Age": "40",
                                    "HireDate": "2009-01-24",
                                    "EmploymentYears": "16"
                                },
                                {
                                    "BirthDate": "1976-01-04",
                                    "Age": "49",
                                    "HireDate": "2009-02-18",
                                    "EmploymentYears": "16"
                                },
                                {
                                    "BirthDate": "1977-02-14",
                                    "Age": "48",
                                    "HireDate": "2009-02-11",
                                    "EmploymentYears": "16"
                                },
                                {
                                    "BirthDate": "1979-03-09",
                                    "Age": "46",
                                    "HireDate": "2009-03-01",
                                    "EmploymentYears": "16"
                                },
                                {
                                    "BirthDate": "1979-07-01",
                                    "Age": "45",
                                    "HireDate": "2009-03-08",
                                    "EmploymentYears": "16"
                                },
                                {
                                    "BirthDate": "1984-10-11",
                                    "Age": "40",
                                    "HireDate": "2008-12-25",
                                    "EmploymentYears": "16"
                                },
                                {
                                    "BirthDate": "1988-07-06",
                                    "Age": "36",
                                    "HireDate": "2009-02-05",
                                    "EmploymentYears": "16"
                                },
                                {
                                    "BirthDate": "1971-07-24",
                                    "Age": "53",
                                    "HireDate": "2009-02-23",
                                    "EmploymentYears": "16"
                                },
                                {
                                    "BirthDate": "1986-05-30",
                                    "Age": "38",
                                    "HireDate": "2008-12-05",
                                    "EmploymentYears": "16"
                                },
                                {
                                    "BirthDate": "1979-08-16",
                                    "Age": "45",
                                    "HireDate": "2008-12-24",
                                    "EmploymentYears": "16"
                                },
                                {
                                    "BirthDate": "1977-02-03",
                                    "Age": "48",
                                    "HireDate": "2009-01-11",
                                    "EmploymentYears": "16"
                                },
                                {
                                    "BirthDate": "1989-08-09",
                                    "Age": "35",
                                    "HireDate": "2009-01-18",
                                    "EmploymentYears": "16"
                                },
                                {
                                    "BirthDate": "1956-03-29",
                                    "Age": "69",
                                    "HireDate": "2008-03-28",
                                    "EmploymentYears": "16"
                                },
                                {
                                    "BirthDate": "1986-02-04",
                                    "Age": "39",
                                    "HireDate": "2009-03-02",
                                    "EmploymentYears": "16"
                                },
                                {
                                    "BirthDate": "1987-05-21",
                                    "Age": "37",
                                    "HireDate": "2008-12-12",
                                    "EmploymentYears": "16"
                                },
                                {
                                    "BirthDate": "1962-09-13",
                                    "Age": "62",
                                    "HireDate": "2009-01-12",
                                    "EmploymentYears": "16"
                                },
                                {
                                    "BirthDate": "1979-06-18",
                                    "Age": "45",
                                    "HireDate": "2009-01-18",
                                    "EmploymentYears": "16"
                                },
                                {
                                    "BirthDate": "1983-01-07",
                                    "Age": "42",
                                    "HireDate": "2009-02-03",
                                    "EmploymentYears": "16"
                                },
                                {
                                    "BirthDate": "1982-11-03",
                                    "Age": "42",
                                    "HireDate": "2008-12-01",
                                    "EmploymentYears": "16"
                                },
                                {
                                    "BirthDate": "1991-04-06",
                                    "Age": "33",
                                    "HireDate": "2009-02-15",
                                    "EmploymentYears": "16"
                                },
                                {
                                    "BirthDate": "1984-12-29",
                                    "Age": "40",
                                    "HireDate": "2008-12-15",
                                    "EmploymentYears": "16"
                                },
                                {
                                    "BirthDate": "1989-01-29",
                                    "Age": "36",
                                    "HireDate": "2009-02-15",
                                    "EmploymentYears": "16"
                                },
                                {
                                    "BirthDate": "1977-05-14",
                                    "Age": "47",
                                    "HireDate": "2008-12-01",
                                    "EmploymentYears": "16"
                                },
                                {
                                    "BirthDate": "1983-10-19",
                                    "Age": "41",
                                    "HireDate": "2008-12-19",
                                    "EmploymentYears": "16"
                                },
                                {
                                    "BirthDate": "1989-11-06",
                                    "Age": "35",
                                    "HireDate": "2009-01-07",
                                    "EmploymentYears": "16"
                                },
                                {
                                    "BirthDate": "1982-06-27",
                                    "Age": "42",
                                    "HireDate": "2009-01-26",
                                    "EmploymentYears": "16"
                                },
                                {
                                    "BirthDate": "1988-10-17",
                                    "Age": "36",
                                    "HireDate": "2009-02-12",
                                    "EmploymentYears": "16"
                                },
                                {
                                    "BirthDate": "1983-05-13",
                                    "Age": "41",
                                    "HireDate": "2009-03-03",
                                    "EmploymentYears": "16"
                                },
                                {
                                    "BirthDate": "1987-08-27",
                                    "Age": "37",
                                    "HireDate": "2008-12-15",
                                    "EmploymentYears": "16"
                                },
                                {
                                    "BirthDate": "1987-02-24",
                                    "Age": "38",
                                    "HireDate": "2009-02-08",
                                    "EmploymentYears": "16"
                                },
                                {
                                    "BirthDate": "1986-06-05",
                                    "Age": "38",
                                    "HireDate": "2008-12-29",
                                    "EmploymentYears": "16"
                                },
                                {
                                    "BirthDate": "1979-01-21",
                                    "Age": "46",
                                    "HireDate": "2009-01-16",
                                    "EmploymentYears": "16"
                                },
                                {
                                    "BirthDate": "1973-08-27",
                                    "Age": "51",
                                    "HireDate": "2009-01-21",
                                    "EmploymentYears": "16"
                                },
                                {
                                    "BirthDate": "1984-07-25",
                                    "Age": "40",
                                    "HireDate": "2008-12-27",
                                    "EmploymentYears": "16"
                                },
                                {
                                    "BirthDate": "1988-11-19",
                                    "Age": "36",
                                    "HireDate": "2009-01-02",
                                    "EmploymentYears": "16"
                                },
                                {
                                    "BirthDate": "1990-05-17",
                                    "Age": "34",
                                    "HireDate": "2008-12-08",
                                    "EmploymentYears": "16"
                                },
                                {
                                    "BirthDate": "1986-01-10",
                                    "Age": "39",
                                    "HireDate": "2009-02-26",
                                    "EmploymentYears": "16"
                                },
                                {
                                    "BirthDate": "1976-02-10",
                                    "Age": "49",
                                    "HireDate": "2009-02-08",
                                    "EmploymentYears": "16"
                                },
                                {
                                    "BirthDate": "1988-09-06",
                                    "Age": "36",
                                    "HireDate": "2009-02-22",
                                    "EmploymentYears": "16"
                                },
                                {
                                    "BirthDate": "1979-09-25",
                                    "Age": "45",
                                    "HireDate": "2009-01-23",
                                    "EmploymentYears": "16"
                                },
                                {
                                    "BirthDate": "1989-09-28",
                                    "Age": "35",
                                    "HireDate": "2009-01-29",
                                    "EmploymentYears": "16"
                                },
                                {
                                    "BirthDate": "1986-05-20",
                                    "Age": "38",
                                    "HireDate": "2009-01-04",
                                    "EmploymentYears": "16"
                                },
                                {
                                    "BirthDate": "1977-07-10",
                                    "Age": "47",
                                    "HireDate": "2008-12-29",
                                    "EmploymentYears": "16"
                                },
                                {
                                    "BirthDate": "1976-12-26",
                                    "Age": "48",
                                    "HireDate": "2008-12-17",
                                    "EmploymentYears": "16"
                                },
                                {
                                    "BirthDate": "1987-06-10",
                                    "Age": "37",
                                    "HireDate": "2009-02-16",
                                    "EmploymentYears": "16"
                                },
                                {
                                    "BirthDate": "1977-01-10",
                                    "Age": "48",
                                    "HireDate": "2009-02-08",
                                    "EmploymentYears": "16"
                                },
                                {
                                    "BirthDate": "1984-07-31",
                                    "Age": "40",
                                    "HireDate": "2009-02-10",
                                    "EmploymentYears": "16"
                                },
                                {
                                    "BirthDate": "1986-08-07",
                                    "Age": "38",
                                    "HireDate": "2009-03-07",
                                    "EmploymentYears": "16"
                                },
                                {
                                    "BirthDate": "1990-11-04",
                                    "Age": "34",
                                    "HireDate": "2009-01-17",
                                    "EmploymentYears": "16"
                                },
                                {
                                    "BirthDate": "1981-08-18",
                                    "Age": "43",
                                    "HireDate": "2009-01-27",
                                    "EmploymentYears": "16"
                                },
                                {
                                    "BirthDate": "1989-06-25",
                                    "Age": "35",
                                    "HireDate": "2008-12-07",
                                    "EmploymentYears": "16"
                                },
                                {
                                    "BirthDate": "1975-11-05",
                                    "Age": "49",
                                    "HireDate": "2008-12-26",
                                    "EmploymentYears": "16"
                                },
                                {
                                    "BirthDate": "1988-12-07",
                                    "Age": "36",
                                    "HireDate": "2009-01-14",
                                    "EmploymentYears": "16"
                                },
                                {
                                    "BirthDate": "1983-10-20",
                                    "Age": "41",
                                    "HireDate": "2009-01-31",
                                    "EmploymentYears": "16"
                                },
                                {
                                    "BirthDate": "1982-09-18",
                                    "Age": "42",
                                    "HireDate": "2009-02-26",
                                    "EmploymentYears": "16"
                                },
                                {
                                    "BirthDate": "1977-09-13",
                                    "Age": "47",
                                    "HireDate": "2009-02-19",
                                    "EmploymentYears": "16"
                                },
                                {
                                    "BirthDate": "1977-04-06",
                                    "Age": "47",
                                    "HireDate": "2009-02-01",
                                    "EmploymentYears": "16"
                                },
                                {
                                    "BirthDate": "1974-10-16",
                                    "Age": "50",
                                    "HireDate": "2008-12-16",
                                    "EmploymentYears": "16"
                                },
                                {
                                    "BirthDate": "1967-03-02",
                                    "Age": "58",
                                    "HireDate": "2008-12-23",
                                    "EmploymentYears": "16"
                                },
                                {
                                    "BirthDate": "1989-02-15",
                                    "Age": "36",
                                    "HireDate": "2009-01-04",
                                    "EmploymentYears": "16"
                                },
                                {
                                    "BirthDate": "1974-09-23",
                                    "Age": "50",
                                    "HireDate": "2009-01-11",
                                    "EmploymentYears": "16"
                                },
                                {
                                    "BirthDate": "1977-10-05",
                                    "Age": "47",
                                    "HireDate": "2009-02-03",
                                    "EmploymentYears": "16"
                                },
                                {
                                    "BirthDate": "1986-12-08",
                                    "Age": "38",
                                    "HireDate": "2009-03-07",
                                    "EmploymentYears": "16"
                                },
                                {
                                    "BirthDate": "1984-12-08",
                                    "Age": "40",
                                    "HireDate": "2009-02-16",
                                    "EmploymentYears": "16"
                                },
                                {
                                    "BirthDate": "1977-01-15",
                                    "Age": "48",
                                    "HireDate": "2009-01-21",
                                    "EmploymentYears": "16"
                                },
                                {
                                    "BirthDate": "1985-02-06",
                                    "Age": "40",
                                    "HireDate": "2008-12-15",
                                    "EmploymentYears": "16"
                                },
                                {
                                    "BirthDate": "1980-12-25",
                                    "Age": "44",
                                    "HireDate": "2009-01-03",
                                    "EmploymentYears": "16"
                                },
                                {
                                    "BirthDate": "1990-04-13",
                                    "Age": "34",
                                    "HireDate": "2009-02-08",
                                    "EmploymentYears": "16"
                                },
                                {
                                    "BirthDate": "1988-09-24",
                                    "Age": "36",
                                    "HireDate": "2009-03-06",
                                    "EmploymentYears": "16"
                                },
                                {
                                    "BirthDate": "1988-12-16",
                                    "Age": "36",
                                    "HireDate": "2009-01-22",
                                    "EmploymentYears": "16"
                                },
                                {
                                    "BirthDate": "1983-06-22",
                                    "Age": "41",
                                    "HireDate": "2009-02-21",
                                    "EmploymentYears": "16"
                                },
                                {
                                    "BirthDate": "1979-11-02",
                                    "Age": "45",
                                    "HireDate": "2008-12-02",
                                    "EmploymentYears": "16"
                                },
                                {
                                    "BirthDate": "1984-08-25",
                                    "Age": "40",
                                    "HireDate": "2008-12-07",
                                    "EmploymentYears": "16"
                                },
                                {
                                    "BirthDate": "1983-04-02",
                                    "Age": "41",
                                    "HireDate": "2008-12-14",
                                    "EmploymentYears": "16"
                                },
                                {
                                    "BirthDate": "1977-04-16",
                                    "Age": "47",
                                    "HireDate": "2008-12-21",
                                    "EmploymentYears": "16"
                                },
                                {
                                    "BirthDate": "1981-08-03",
                                    "Age": "43",
                                    "HireDate": "2009-01-02",
                                    "EmploymentYears": "16"
                                },
                                {
                                    "BirthDate": "1986-10-24",
                                    "Age": "38",
                                    "HireDate": "2009-01-16",
                                    "EmploymentYears": "16"
                                },
                                {
                                    "BirthDate": "1987-07-15",
                                    "Age": "37",
                                    "HireDate": "2009-01-21",
                                    "EmploymentYears": "16"
                                },
                                {
                                    "BirthDate": "1986-01-05",
                                    "Age": "39",
                                    "HireDate": "2009-01-27",
                                    "EmploymentYears": "16"
                                },
                                {
                                    "BirthDate": "1989-01-08",
                                    "Age": "36",
                                    "HireDate": "2009-02-02",
                                    "EmploymentYears": "16"
                                },
                                {
                                    "BirthDate": "1985-09-23",
                                    "Age": "39",
                                    "HireDate": "2009-02-14",
                                    "EmploymentYears": "16"
                                },
                                {
                                    "BirthDate": "1982-02-11",
                                    "Age": "43",
                                    "HireDate": "2009-02-21",
                                    "EmploymentYears": "16"
                                },
                                {
                                    "BirthDate": "1982-03-24",
                                    "Age": "43",
                                    "HireDate": "2009-03-03",
                                    "EmploymentYears": "16"
                                },
                                {
                                    "BirthDate": "1974-11-15",
                                    "Age": "50",
                                    "HireDate": "2009-03-05",
                                    "EmploymentYears": "16"
                                },
                                {
                                    "BirthDate": "1984-11-18",
                                    "Age": "40",
                                    "HireDate": "2009-02-20",
                                    "EmploymentYears": "16"
                                },
                                {
                                    "BirthDate": "1984-11-17",
                                    "Age": "40",
                                    "HireDate": "2008-12-09",
                                    "EmploymentYears": "16"
                                },
                                {
                                    "BirthDate": "1986-12-01",
                                    "Age": "38",
                                    "HireDate": "2008-12-28",
                                    "EmploymentYears": "16"
                                },
                                {
                                    "BirthDate": "1979-07-02",
                                    "Age": "45",
                                    "HireDate": "2009-01-22",
                                    "EmploymentYears": "16"
                                },
                                {
                                    "BirthDate": "1986-04-05",
                                    "Age": "38",
                                    "HireDate": "2009-02-09",
                                    "EmploymentYears": "16"
                                },
                                {
                                    "BirthDate": "1975-12-21",
                                    "Age": "49",
                                    "HireDate": "2009-02-28",
                                    "EmploymentYears": "16"
                                },
                                {
                                    "BirthDate": "1990-05-24",
                                    "Age": "34",
                                    "HireDate": "2009-02-08",
                                    "EmploymentYears": "16"
                                },
                                {
                                    "BirthDate": "1989-04-15",
                                    "Age": "35",
                                    "HireDate": "2008-12-09",
                                    "EmploymentYears": "16"
                                },
                                {
                                    "BirthDate": "1985-11-24",
                                    "Age": "39",
                                    "HireDate": "2008-12-27",
                                    "EmploymentYears": "16"
                                },
                                {
                                    "BirthDate": "1972-07-24",
                                    "Age": "52",
                                    "HireDate": "2009-01-15",
                                    "EmploymentYears": "16"
                                },
                                {
                                    "BirthDate": "1985-02-28",
                                    "Age": "40",
                                    "HireDate": "2009-02-02",
                                    "EmploymentYears": "16"
                                },
                                {
                                    "BirthDate": "1988-03-14",
                                    "Age": "37",
                                    "HireDate": "2009-02-26",
                                    "EmploymentYears": "16"
                                },
                                {
                                    "BirthDate": "1983-02-28",
                                    "Age": "42",
                                    "HireDate": "2009-03-05",
                                    "EmploymentYears": "16"
                                },
                                {
                                    "BirthDate": "1988-12-05",
                                    "Age": "36",
                                    "HireDate": "2008-12-06",
                                    "EmploymentYears": "16"
                                },
                                {
                                    "BirthDate": "1989-06-25",
                                    "Age": "35",
                                    "HireDate": "2008-12-12",
                                    "EmploymentYears": "16"
                                },
                                {
                                    "BirthDate": "1985-12-25",
                                    "Age": "39",
                                    "HireDate": "2008-12-17",
                                    "EmploymentYears": "16"
                                },
                                {
                                    "BirthDate": "1980-10-04",
                                    "Age": "44",
                                    "HireDate": "2008-12-24",
                                    "EmploymentYears": "16"
                                },
                                {
                                    "BirthDate": "1977-10-04",
                                    "Age": "47",
                                    "HireDate": "2008-12-31",
                                    "EmploymentYears": "16"
                                },
                                {
                                    "BirthDate": "1988-11-26",
                                    "Age": "36",
                                    "HireDate": "2009-01-04",
                                    "EmploymentYears": "16"
                                },
                                {
                                    "BirthDate": "1987-02-10",
                                    "Age": "38",
                                    "HireDate": "2009-01-12",
                                    "EmploymentYears": "16"
                                },
                                {
                                    "BirthDate": "1987-09-06",
                                    "Age": "37",
                                    "HireDate": "2009-01-17",
                                    "EmploymentYears": "16"
                                },
                                {
                                    "BirthDate": "1977-02-10",
                                    "Age": "48",
                                    "HireDate": "2009-01-29",
                                    "EmploymentYears": "16"
                                },
                                {
                                    "BirthDate": "1989-11-10",
                                    "Age": "35",
                                    "HireDate": "2009-02-05",
                                    "EmploymentYears": "16"
                                },
                                {
                                    "BirthDate": "1981-05-28",
                                    "Age": "43",
                                    "HireDate": "2009-02-24",
                                    "EmploymentYears": "16"
                                },
                                {
                                    "BirthDate": "1988-05-10",
                                    "Age": "36",
                                    "HireDate": "2009-03-08",
                                    "EmploymentYears": "16"
                                },
                                {
                                    "BirthDate": "1980-07-18",
                                    "Age": "44",
                                    "HireDate": "2009-02-26",
                                    "EmploymentYears": "16"
                                },
                                {
                                    "BirthDate": "1962-09-13",
                                    "Age": "62",
                                    "HireDate": "2008-12-02",
                                    "EmploymentYears": "16"
                                },
                                {
                                    "BirthDate": "1970-10-18",
                                    "Age": "54",
                                    "HireDate": "2008-12-02",
                                    "EmploymentYears": "16"
                                },
                                {
                                    "BirthDate": "1987-02-10",
                                    "Age": "38",
                                    "HireDate": "2009-01-08",
                                    "EmploymentYears": "16"
                                },
                                {
                                    "BirthDate": "1990-11-01",
                                    "Age": "34",
                                    "HireDate": "2009-01-27",
                                    "EmploymentYears": "16"
                                },
                                {
                                    "BirthDate": "1969-09-17",
                                    "Age": "55",
                                    "HireDate": "2009-02-20",
                                    "EmploymentYears": "16"
                                },
                                {
                                    "BirthDate": "1977-10-26",
                                    "Age": "47",
                                    "HireDate": "2009-02-28",
                                    "EmploymentYears": "16"
                                },
                                {
                                    "BirthDate": "1976-03-18",
                                    "Age": "49",
                                    "HireDate": "2008-12-09",
                                    "EmploymentYears": "16"
                                },
                                {
                                    "BirthDate": "1966-12-05",
                                    "Age": "58",
                                    "HireDate": "2010-02-23",
                                    "EmploymentYears": "15"
                                },
                                {
                                    "BirthDate": "1966-12-14",
                                    "Age": "58",
                                    "HireDate": "2010-01-16",
                                    "EmploymentYears": "15"
                                },
                                {
                                    "BirthDate": "1971-09-11",
                                    "Age": "53",
                                    "HireDate": "2010-02-05",
                                    "EmploymentYears": "15"
                                },
                                {
                                    "BirthDate": "1984-11-30",
                                    "Age": "40",
                                    "HireDate": "2009-05-03",
                                    "EmploymentYears": "15"
                                },
                                {
                                    "BirthDate": "1966-12-08",
                                    "Age": "58",
                                    "HireDate": "2010-01-24",
                                    "EmploymentYears": "15"
                                },
                                {
                                    "BirthDate": "1970-12-03",
                                    "Age": "54",
                                    "HireDate": "2010-01-17",
                                    "EmploymentYears": "15"
                                },
                                {
                                    "BirthDate": "1971-03-09",
                                    "Age": "54",
                                    "HireDate": "2009-12-29",
                                    "EmploymentYears": "15"
                                },
                                {
                                    "BirthDate": "1973-08-29",
                                    "Age": "51",
                                    "HireDate": "2010-03-03",
                                    "EmploymentYears": "15"
                                },
                                {
                                    "BirthDate": "1973-12-23",
                                    "Age": "51",
                                    "HireDate": "2010-02-12",
                                    "EmploymentYears": "15"
                                },
                                {
                                    "BirthDate": "1952-03-02",
                                    "Age": "73",
                                    "HireDate": "2010-02-05",
                                    "EmploymentYears": "15"
                                },
                                {
                                    "BirthDate": "1970-12-23",
                                    "Age": "54",
                                    "HireDate": "2009-12-11",
                                    "EmploymentYears": "15"
                                },
                                {
                                    "BirthDate": "1986-09-10",
                                    "Age": "38",
                                    "HireDate": "2010-01-01",
                                    "EmploymentYears": "15"
                                },
                                {
                                    "BirthDate": "1955-01-30",
                                    "Age": "70",
                                    "HireDate": "2010-01-29",
                                    "EmploymentYears": "15"
                                },
                                {
                                    "BirthDate": "1973-09-05",
                                    "Age": "51",
                                    "HireDate": "2010-02-23",
                                    "EmploymentYears": "15"
                                },
                                {
                                    "BirthDate": "1970-04-28",
                                    "Age": "54",
                                    "HireDate": "2010-02-23",
                                    "EmploymentYears": "15"
                                },
                                {
                                    "BirthDate": "1970-03-07",
                                    "Age": "55",
                                    "HireDate": "2009-12-22",
                                    "EmploymentYears": "15"
                                },
                                {
                                    "BirthDate": "1970-07-31",
                                    "Age": "54",
                                    "HireDate": "2010-02-16",
                                    "EmploymentYears": "15"
                                },
                                {
                                    "BirthDate": "1971-12-17",
                                    "Age": "53",
                                    "HireDate": "2010-03-05",
                                    "EmploymentYears": "15"
                                },
                                {
                                    "BirthDate": "1954-04-24",
                                    "Age": "70",
                                    "HireDate": "2010-03-07",
                                    "EmploymentYears": "15"
                                },
                                {
                                    "BirthDate": "1970-12-03",
                                    "Age": "54",
                                    "HireDate": "2010-01-27",
                                    "EmploymentYears": "15"
                                },
                                {
                                    "BirthDate": "1971-08-27",
                                    "Age": "53",
                                    "HireDate": "2009-12-21",
                                    "EmploymentYears": "15"
                                },
                                {
                                    "BirthDate": "1971-10-23",
                                    "Age": "53",
                                    "HireDate": "2010-01-06",
                                    "EmploymentYears": "15"
                                },
                                {
                                    "BirthDate": "1953-04-30",
                                    "Age": "71",
                                    "HireDate": "2010-01-22",
                                    "EmploymentYears": "15"
                                },
                                {
                                    "BirthDate": "1974-09-10",
                                    "Age": "50",
                                    "HireDate": "2010-01-24",
                                    "EmploymentYears": "15"
                                },
                                {
                                    "BirthDate": "1970-04-04",
                                    "Age": "54",
                                    "HireDate": "2010-03-04",
                                    "EmploymentYears": "15"
                                },
                                {
                                    "BirthDate": "1971-09-05",
                                    "Age": "53",
                                    "HireDate": "2010-02-13",
                                    "EmploymentYears": "15"
                                },
                                {
                                    "BirthDate": "1971-02-18",
                                    "Age": "54",
                                    "HireDate": "2009-12-02",
                                    "EmploymentYears": "15"
                                },
                                {
                                    "BirthDate": "1970-11-12",
                                    "Age": "54",
                                    "HireDate": "2009-12-11",
                                    "EmploymentYears": "15"
                                },
                                {
                                    "BirthDate": "1986-09-22",
                                    "Age": "38",
                                    "HireDate": "2009-12-06",
                                    "EmploymentYears": "15"
                                },
                                {
                                    "BirthDate": "1986-09-19",
                                    "Age": "38",
                                    "HireDate": "2009-12-25",
                                    "EmploymentYears": "15"
                                },
                                {
                                    "BirthDate": "1986-09-19",
                                    "Age": "38",
                                    "HireDate": "2009-12-25",
                                    "EmploymentYears": "15"
                                },
                                {
                                    "BirthDate": "1986-09-28",
                                    "Age": "38",
                                    "HireDate": "2010-02-27",
                                    "EmploymentYears": "15"
                                },
                                {
                                    "BirthDate": "1986-10-01",
                                    "Age": "38",
                                    "HireDate": "2010-02-08",
                                    "EmploymentYears": "15"
                                },
                                {
                                    "BirthDate": "1966-12-17",
                                    "Age": "58",
                                    "HireDate": "2009-12-18",
                                    "EmploymentYears": "15"
                                },
                                {
                                    "BirthDate": "1986-09-10",
                                    "Age": "38",
                                    "HireDate": "2010-02-01",
                                    "EmploymentYears": "15"
                                },
                                {
                                    "BirthDate": "1986-09-07",
                                    "Age": "38",
                                    "HireDate": "2010-02-20",
                                    "EmploymentYears": "15"
                                },
                                {
                                    "BirthDate": "1986-09-13",
                                    "Age": "38",
                                    "HireDate": "2010-01-12",
                                    "EmploymentYears": "15"
                                },
                                {
                                    "BirthDate": "1986-10-01",
                                    "Age": "38",
                                    "HireDate": "2010-03-10",
                                    "EmploymentYears": "15"
                                },
                                {
                                    "BirthDate": "1971-09-02",
                                    "Age": "53",
                                    "HireDate": "2009-12-03",
                                    "EmploymentYears": "15"
                                },
                                {
                                    "BirthDate": "1970-11-30",
                                    "Age": "54",
                                    "HireDate": "2009-12-17",
                                    "EmploymentYears": "15"
                                },
                                {
                                    "BirthDate": "1970-11-24",
                                    "Age": "54",
                                    "HireDate": "2010-01-04",
                                    "EmploymentYears": "15"
                                },
                                {
                                    "BirthDate": "1966-11-29",
                                    "Age": "58",
                                    "HireDate": "2010-01-11",
                                    "EmploymentYears": "15"
                                },
                                {
                                    "BirthDate": "1952-05-12",
                                    "Age": "72",
                                    "HireDate": "2010-01-23",
                                    "EmploymentYears": "15"
                                },
                                {
                                    "BirthDate": "1972-09-17",
                                    "Age": "52",
                                    "HireDate": "2010-01-27",
                                    "EmploymentYears": "15"
                                },
                                {
                                    "BirthDate": "1971-01-04",
                                    "Age": "54",
                                    "HireDate": "2010-01-31",
                                    "EmploymentYears": "15"
                                },
                                {
                                    "BirthDate": "1973-06-03",
                                    "Age": "51",
                                    "HireDate": "2010-03-09",
                                    "EmploymentYears": "15"
                                },
                                {
                                    "BirthDate": "1978-01-29",
                                    "Age": "47",
                                    "HireDate": "2010-12-06",
                                    "EmploymentYears": "14"
                                },
                                {
                                    "BirthDate": "1978-01-17",
                                    "Age": "47",
                                    "HireDate": "2010-12-25",
                                    "EmploymentYears": "14"
                                },
                                {
                                    "BirthDate": "1977-06-06",
                                    "Age": "47",
                                    "HireDate": "2011-02-15",
                                    "EmploymentYears": "14"
                                },
                                {
                                    "BirthDate": "1951-10-17",
                                    "Age": "73",
                                    "HireDate": "2011-01-04",
                                    "EmploymentYears": "14"
                                },
                                {
                                    "BirthDate": "1978-02-10",
                                    "Age": "47",
                                    "HireDate": "2011-02-25",
                                    "EmploymentYears": "14"
                                },
                                {
                                    "BirthDate": "1978-01-17",
                                    "Age": "47",
                                    "HireDate": "2010-12-05",
                                    "EmploymentYears": "14"
                                },
                                {
                                    "BirthDate": "1989-05-28",
                                    "Age": "35",
                                    "HireDate": "2010-12-23",
                                    "EmploymentYears": "14"
                                },
                                {
                                    "BirthDate": "1979-06-16",
                                    "Age": "45",
                                    "HireDate": "2010-12-30",
                                    "EmploymentYears": "14"
                                },
                                {
                                    "BirthDate": "1961-05-02",
                                    "Age": "63",
                                    "HireDate": "2011-01-18",
                                    "EmploymentYears": "14"
                                },
                                {
                                    "BirthDate": "1978-03-06",
                                    "Age": "47",
                                    "HireDate": "2011-02-07",
                                    "EmploymentYears": "14"
                                },
                                {
                                    "BirthDate": "1978-01-29",
                                    "Age": "47",
                                    "HireDate": "2011-02-14",
                                    "EmploymentYears": "14"
                                },
                                {
                                    "BirthDate": "1975-03-17",
                                    "Age": "50",
                                    "HireDate": "2011-01-07",
                                    "EmploymentYears": "14"
                                },
                                {
                                    "BirthDate": "1968-12-25",
                                    "Age": "56",
                                    "HireDate": "2011-05-31",
                                    "EmploymentYears": "13"
                                },
                                {
                                    "BirthDate": "1980-02-27",
                                    "Age": "45",
                                    "HireDate": "2011-05-31",
                                    "EmploymentYears": "13"
                                },
                                {
                                    "BirthDate": "1962-08-29",
                                    "Age": "62",
                                    "HireDate": "2011-05-31",
                                    "EmploymentYears": "13"
                                },
                                {
                                    "BirthDate": "1975-02-04",
                                    "Age": "50",
                                    "HireDate": "2011-05-31",
                                    "EmploymentYears": "13"
                                },
                                {
                                    "BirthDate": "1974-01-18",
                                    "Age": "51",
                                    "HireDate": "2011-05-31",
                                    "EmploymentYears": "13"
                                },
                                {
                                    "BirthDate": "1974-12-06",
                                    "Age": "50",
                                    "HireDate": "2011-05-31",
                                    "EmploymentYears": "13"
                                },
                                {
                                    "BirthDate": "1968-03-09",
                                    "Age": "57",
                                    "HireDate": "2011-05-31",
                                    "EmploymentYears": "13"
                                },
                                {
                                    "BirthDate": "1963-12-11",
                                    "Age": "61",
                                    "HireDate": "2011-05-31",
                                    "EmploymentYears": "13"
                                },
                                {
                                    "BirthDate": "1974-02-11",
                                    "Age": "51",
                                    "HireDate": "2011-05-31",
                                    "EmploymentYears": "13"
                                },
                                {
                                    "BirthDate": "1978-01-05",
                                    "Age": "47",
                                    "HireDate": "2012-09-30",
                                    "EmploymentYears": "12"
                                },
                                {
                                    "BirthDate": "1975-01-11",
                                    "Age": "50",
                                    "HireDate": "2013-03-14",
                                    "EmploymentYears": "12"
                                },
                                {
                                    "BirthDate": "1957-09-20",
                                    "Age": "67",
                                    "HireDate": "2012-04-16",
                                    "EmploymentYears": "12"
                                },
                                {
                                    "BirthDate": "1968-03-17",
                                    "Age": "57",
                                    "HireDate": "2012-05-30",
                                    "EmploymentYears": "12"
                                },
                                {
                                    "BirthDate": "1975-09-30",
                                    "Age": "49",
                                    "HireDate": "2012-05-30",
                                    "EmploymentYears": "12"
                                },
                                {
                                    "BirthDate": "1975-07-09",
                                    "Age": "49",
                                    "HireDate": "2013-05-30",
                                    "EmploymentYears": "11"
                                },
                                {
                                    "BirthDate": "1977-02-14",
                                    "Age": "48",
                                    "HireDate": "2013-05-30",
                                    "EmploymentYears": "11"
                                }
                            ]
                        },
                        "text/html": "<table><tr><th>BirthDate</th><th>Age</th><th>HireDate</th><th>EmploymentYears</th></tr><tr><td>1987-05-03</td><td>37</td><td>2007-01-26</td><td>18</td></tr><tr><td>1988-03-13</td><td>37</td><td>2006-06-30</td><td>18</td></tr><tr><td>1956-01-16</td><td>69</td><td>2007-12-26</td><td>17</td></tr><tr><td>1959-07-29</td><td>65</td><td>2007-12-11</td><td>17</td></tr><tr><td>1971-08-01</td><td>53</td><td>2008-01-31</td><td>17</td></tr><tr><td>1974-11-12</td><td>50</td><td>2007-11-11</td><td>17</td></tr><tr><td>1974-12-23</td><td>50</td><td>2007-12-05</td><td>17</td></tr><tr><td>1952-09-27</td><td>72</td><td>2008-01-06</td><td>17</td></tr><tr><td>1959-03-11</td><td>66</td><td>2008-01-24</td><td>17</td></tr><tr><td>1956-06-04</td><td>68</td><td>2008-01-06</td><td>17</td></tr><tr><td>1956-03-26</td><td>69</td><td>2008-01-07</td><td>17</td></tr><tr><td>1956-08-30</td><td>68</td><td>2008-02-02</td><td>17</td></tr><tr><td>1956-07-11</td><td>68</td><td>2008-02-20</td><td>17</td></tr><tr><td>1956-04-04</td><td>69</td><td>2008-03-10</td><td>17</td></tr><tr><td>1956-04-01</td><td>69</td><td>2008-02-08</td><td>17</td></tr><tr><td>1956-08-07</td><td>68</td><td>2008-03-17</td><td>17</td></tr><tr><td>1975-03-19</td><td>50</td><td>2007-12-20</td><td>17</td></tr><tr><td>1956-10-08</td><td>68</td><td>2008-02-27</td><td>17</td></tr><tr><td>1984-08-17</td><td>40</td><td>2009-02-10</td><td>16</td></tr><tr><td>1974-08-21</td><td>50</td><td>2009-02-28</td><td>16</td></tr><tr><td>1964-06-21</td><td>60</td><td>2009-01-12</td><td>16</td></tr><tr><td>1975-12-13</td><td>49</td><td>2008-12-11</td><td>16</td></tr><tr><td>1984-03-25</td><td>41</td><td>2009-02-04</td><td>16</td></tr><tr><td>1977-03-27</td><td>48</td><td>2008-12-04</td><td>16</td></tr><tr><td>1980-05-28</td><td>44</td><td>2009-02-23</td><td>16</td></tr><tr><td>1978-05-19</td><td>46</td><td>2009-02-16</td><td>16</td></tr><tr><td>1988-03-13</td><td>37</td><td>2009-02-03</td><td>16</td></tr><tr><td>1987-05-26</td><td>37</td><td>2009-01-11</td><td>16</td></tr><tr><td>1975-05-17</td><td>49</td><td>2009-01-17</td><td>16</td></tr><tr><td>1976-01-06</td><td>49</td><td>2009-01-22</td><td>16</td></tr><tr><td>1985-01-30</td><td>40</td><td>2008-12-23</td><td>16</td></tr><tr><td>1969-01-29</td><td>56</td><td>2009-01-14</td><td>16</td></tr><tr><td>1976-02-11</td><td>49</td><td>2009-03-05</td><td>16</td></tr><tr><td>1972-06-13</td><td>52</td><td>2009-01-05</td><td>16</td></tr><tr><td>1984-04-11</td><td>40</td><td>2008-12-22</td><td>16</td></tr><tr><td>1980-04-28</td><td>44</td><td>2008-12-27</td><td>16</td></tr><tr><td>1972-11-25</td><td>52</td><td>2008-12-12</td><td>16</td></tr><tr><td>1986-09-08</td><td>38</td><td>2008-12-19</td><td>16</td></tr><tr><td>1990-01-25</td><td>35</td><td>2009-03-02</td><td>16</td></tr><tr><td>1986-03-21</td><td>39</td><td>2009-02-10</td><td>16</td></tr><tr><td>1978-06-26</td><td>46</td><td>2009-02-11</td><td>16</td></tr><tr><td>1979-03-29</td><td>46</td><td>2009-01-06</td><td>16</td></tr><tr><td>1973-01-24</td><td>52</td><td>2009-01-12</td><td>16</td></tr><tr><td>1971-08-30</td><td>53</td><td>2009-01-25</td><td>16</td></tr><tr><td>1983-10-26</td><td>41</td><td>2008-12-03</td><td>16</td></tr><tr><td>1989-02-05</td><td>36</td><td>2008-12-08</td><td>16</td></tr><tr><td>1978-01-26</td><td>47</td><td>2008-12-07</td><td>16</td></tr><tr><td>1979-07-06</td><td>45</td><td>2008-12-14</td><td>16</td></tr><tr><td>1978-02-25</td><td>47</td><td>2008-12-17</td><td>16</td></tr><tr><td>1978-05-31</td><td>46</td><td>2009-01-01</td><td>16</td></tr><tr><td>1987-07-17</td><td>37</td><td>2008-12-25</td><td>16</td></tr><tr><td>1978-05-07</td><td>46</td><td>2009-01-13</td><td>16</td></tr><tr><td>1991-05-31</td><td>33</td><td>2009-01-20</td><td>16</td></tr><tr><td>1974-05-03</td><td>50</td><td>2009-01-31</td><td>16</td></tr><tr><td>1990-08-04</td><td>34</td><td>2009-02-18</td><td>16</td></tr><tr><td>1971-06-13</td><td>53</td><td>2009-02-13</td><td>16</td></tr><tr><td>1989-06-15</td><td>35</td><td>2009-02-25</td><td>16</td></tr><tr><td>1987-06-06</td><td>37</td><td>2009-03-04</td><td>16</td></tr><tr><td>1972-09-09</td><td>52</td><td>2009-01-02</td><td>16</td></tr><tr><td>1978-02-17</td><td>47</td><td>2008-12-07</td><td>16</td></tr><tr><td>1977-03-18</td><td>48</td><td>2008-12-07</td><td>16</td></tr><tr><td>1984-04-30</td><td>40</td><td>2008-12-26</td><td>16</td></tr><tr><td>1973-11-11</td><td>51</td><td>2009-01-20</td><td>16</td></tr><tr><td>1985-05-04</td><td>39</td><td>2009-02-26</td><td>16</td></tr><tr><td>1983-07-02</td><td>41</td><td>2009-01-03</td><td>16</td></tr><tr><td>1980-11-13</td><td>44</td><td>2008-12-04</td><td>16</td></tr><tr><td>1988-05-16</td><td>36</td><td>2008-12-22</td><td>16</td></tr><tr><td>1973-08-04</td><td>51</td><td>2009-02-13</td><td>16</td></tr><tr><td>1990-10-07</td><td>34</td><td>2009-02-15</td><td>16</td></tr><tr><td>1986-04-09</td><td>38</td><td>2009-02-22</td><td>16</td></tr><tr><td>1991-01-04</td><td>34</td><td>2009-01-10</td><td>16</td></tr><tr><td>1985-01-19</td><td>40</td><td>2009-01-14</td><td>16</td></tr><tr><td>1982-01-03</td><td>43</td><td>2008-12-04</td><td>16</td></tr><tr><td>1989-03-28</td><td>36</td><td>2009-02-02</td><td>16</td></tr><tr><td>1986-04-30</td><td>38</td><td>2009-01-15</td><td>16</td></tr><tr><td>1976-03-06</td><td>49</td><td>2008-12-28</td><td>16</td></tr><tr><td>1976-01-30</td><td>49</td><td>2009-01-04</td><td>16</td></tr><tr><td>1990-04-28</td><td>34</td><td>2008-12-16</td><td>16</td></tr><tr><td>1987-03-12</td><td>38</td><td>2009-01-22</td><td>16</td></tr><tr><td>1975-12-25</td><td>49</td><td>2009-02-09</td><td>16</td></tr><tr><td>1987-05-26</td><td>37</td><td>2009-03-06</td><td>16</td></tr><tr><td>1968-09-17</td><td>56</td><td>2008-12-12</td><td>16</td></tr><tr><td>1987-12-22</td><td>37</td><td>2009-01-26</td><td>16</td></tr><tr><td>1981-11-06</td><td>43</td><td>2009-01-07</td><td>16</td></tr><tr><td>1984-03-29</td><td>41</td><td>2009-02-13</td><td>16</td></tr><tr><td>1984-08-11</td><td>40</td><td>2009-03-03</td><td>16</td></tr><tr><td>1974-09-05</td><td>50</td><td>2009-02-23</td><td>16</td></tr><tr><td>1987-11-22</td><td>37</td><td>2009-02-04</td><td>16</td></tr><tr><td>1976-01-18</td><td>49</td><td>2008-12-14</td><td>16</td></tr><tr><td>1976-01-06</td><td>49</td><td>2009-01-31</td><td>16</td></tr><tr><td>1976-02-11</td><td>49</td><td>2008-12-06</td><td>16</td></tr><tr><td>1976-04-16</td><td>48</td><td>2009-02-25</td><td>16</td></tr><tr><td>1977-04-17</td><td>47</td><td>2009-02-06</td><td>16</td></tr><tr><td>1984-08-01</td><td>40</td><td>2009-01-01</td><td>16</td></tr><tr><td>1984-11-20</td><td>40</td><td>2008-12-25</td><td>16</td></tr><tr><td>1978-07-18</td><td>46</td><td>2008-12-13</td><td>16</td></tr><tr><td>1983-07-08</td><td>41</td><td>2009-01-30</td><td>16</td></tr><tr><td>1976-03-06</td><td>49</td><td>2008-12-18</td><td>16</td></tr><tr><td>1976-02-23</td><td>49</td><td>2009-01-06</td><td>16</td></tr><tr><td>1984-09-20</td><td>40</td><td>2009-01-24</td><td>16</td></tr><tr><td>1976-01-04</td><td>49</td><td>2009-02-18</td><td>16</td></tr><tr><td>1977-02-14</td><td>48</td><td>2009-02-11</td><td>16</td></tr><tr><td>1979-03-09</td><td>46</td><td>2009-03-01</td><td>16</td></tr><tr><td>1979-07-01</td><td>45</td><td>2009-03-08</td><td>16</td></tr><tr><td>1984-10-11</td><td>40</td><td>2008-12-25</td><td>16</td></tr><tr><td>1988-07-06</td><td>36</td><td>2009-02-05</td><td>16</td></tr><tr><td>1971-07-24</td><td>53</td><td>2009-02-23</td><td>16</td></tr><tr><td>1986-05-30</td><td>38</td><td>2008-12-05</td><td>16</td></tr><tr><td>1979-08-16</td><td>45</td><td>2008-12-24</td><td>16</td></tr><tr><td>1977-02-03</td><td>48</td><td>2009-01-11</td><td>16</td></tr><tr><td>1989-08-09</td><td>35</td><td>2009-01-18</td><td>16</td></tr><tr><td>1956-03-29</td><td>69</td><td>2008-03-28</td><td>16</td></tr><tr><td>1986-02-04</td><td>39</td><td>2009-03-02</td><td>16</td></tr><tr><td>1987-05-21</td><td>37</td><td>2008-12-12</td><td>16</td></tr><tr><td>1962-09-13</td><td>62</td><td>2009-01-12</td><td>16</td></tr><tr><td>1979-06-18</td><td>45</td><td>2009-01-18</td><td>16</td></tr><tr><td>1983-01-07</td><td>42</td><td>2009-02-03</td><td>16</td></tr><tr><td>1982-11-03</td><td>42</td><td>2008-12-01</td><td>16</td></tr><tr><td>1991-04-06</td><td>33</td><td>2009-02-15</td><td>16</td></tr><tr><td>1984-12-29</td><td>40</td><td>2008-12-15</td><td>16</td></tr><tr><td>1989-01-29</td><td>36</td><td>2009-02-15</td><td>16</td></tr><tr><td>1977-05-14</td><td>47</td><td>2008-12-01</td><td>16</td></tr><tr><td>1983-10-19</td><td>41</td><td>2008-12-19</td><td>16</td></tr><tr><td>1989-11-06</td><td>35</td><td>2009-01-07</td><td>16</td></tr><tr><td>1982-06-27</td><td>42</td><td>2009-01-26</td><td>16</td></tr><tr><td>1988-10-17</td><td>36</td><td>2009-02-12</td><td>16</td></tr><tr><td>1983-05-13</td><td>41</td><td>2009-03-03</td><td>16</td></tr><tr><td>1987-08-27</td><td>37</td><td>2008-12-15</td><td>16</td></tr><tr><td>1987-02-24</td><td>38</td><td>2009-02-08</td><td>16</td></tr><tr><td>1986-06-05</td><td>38</td><td>2008-12-29</td><td>16</td></tr><tr><td>1979-01-21</td><td>46</td><td>2009-01-16</td><td>16</td></tr><tr><td>1973-08-27</td><td>51</td><td>2009-01-21</td><td>16</td></tr><tr><td>1984-07-25</td><td>40</td><td>2008-12-27</td><td>16</td></tr><tr><td>1988-11-19</td><td>36</td><td>2009-01-02</td><td>16</td></tr><tr><td>1990-05-17</td><td>34</td><td>2008-12-08</td><td>16</td></tr><tr><td>1986-01-10</td><td>39</td><td>2009-02-26</td><td>16</td></tr><tr><td>1976-02-10</td><td>49</td><td>2009-02-08</td><td>16</td></tr><tr><td>1988-09-06</td><td>36</td><td>2009-02-22</td><td>16</td></tr><tr><td>1979-09-25</td><td>45</td><td>2009-01-23</td><td>16</td></tr><tr><td>1989-09-28</td><td>35</td><td>2009-01-29</td><td>16</td></tr><tr><td>1986-05-20</td><td>38</td><td>2009-01-04</td><td>16</td></tr><tr><td>1977-07-10</td><td>47</td><td>2008-12-29</td><td>16</td></tr><tr><td>1976-12-26</td><td>48</td><td>2008-12-17</td><td>16</td></tr><tr><td>1987-06-10</td><td>37</td><td>2009-02-16</td><td>16</td></tr><tr><td>1977-01-10</td><td>48</td><td>2009-02-08</td><td>16</td></tr><tr><td>1984-07-31</td><td>40</td><td>2009-02-10</td><td>16</td></tr><tr><td>1986-08-07</td><td>38</td><td>2009-03-07</td><td>16</td></tr><tr><td>1990-11-04</td><td>34</td><td>2009-01-17</td><td>16</td></tr><tr><td>1981-08-18</td><td>43</td><td>2009-01-27</td><td>16</td></tr><tr><td>1989-06-25</td><td>35</td><td>2008-12-07</td><td>16</td></tr><tr><td>1975-11-05</td><td>49</td><td>2008-12-26</td><td>16</td></tr><tr><td>1988-12-07</td><td>36</td><td>2009-01-14</td><td>16</td></tr><tr><td>1983-10-20</td><td>41</td><td>2009-01-31</td><td>16</td></tr><tr><td>1982-09-18</td><td>42</td><td>2009-02-26</td><td>16</td></tr><tr><td>1977-09-13</td><td>47</td><td>2009-02-19</td><td>16</td></tr><tr><td>1977-04-06</td><td>47</td><td>2009-02-01</td><td>16</td></tr><tr><td>1974-10-16</td><td>50</td><td>2008-12-16</td><td>16</td></tr><tr><td>1967-03-02</td><td>58</td><td>2008-12-23</td><td>16</td></tr><tr><td>1989-02-15</td><td>36</td><td>2009-01-04</td><td>16</td></tr><tr><td>1974-09-23</td><td>50</td><td>2009-01-11</td><td>16</td></tr><tr><td>1977-10-05</td><td>47</td><td>2009-02-03</td><td>16</td></tr><tr><td>1986-12-08</td><td>38</td><td>2009-03-07</td><td>16</td></tr><tr><td>1984-12-08</td><td>40</td><td>2009-02-16</td><td>16</td></tr><tr><td>1977-01-15</td><td>48</td><td>2009-01-21</td><td>16</td></tr><tr><td>1985-02-06</td><td>40</td><td>2008-12-15</td><td>16</td></tr><tr><td>1980-12-25</td><td>44</td><td>2009-01-03</td><td>16</td></tr><tr><td>1990-04-13</td><td>34</td><td>2009-02-08</td><td>16</td></tr><tr><td>1988-09-24</td><td>36</td><td>2009-03-06</td><td>16</td></tr><tr><td>1988-12-16</td><td>36</td><td>2009-01-22</td><td>16</td></tr><tr><td>1983-06-22</td><td>41</td><td>2009-02-21</td><td>16</td></tr><tr><td>1979-11-02</td><td>45</td><td>2008-12-02</td><td>16</td></tr><tr><td>1984-08-25</td><td>40</td><td>2008-12-07</td><td>16</td></tr><tr><td>1983-04-02</td><td>41</td><td>2008-12-14</td><td>16</td></tr><tr><td>1977-04-16</td><td>47</td><td>2008-12-21</td><td>16</td></tr><tr><td>1981-08-03</td><td>43</td><td>2009-01-02</td><td>16</td></tr><tr><td>1986-10-24</td><td>38</td><td>2009-01-16</td><td>16</td></tr><tr><td>1987-07-15</td><td>37</td><td>2009-01-21</td><td>16</td></tr><tr><td>1986-01-05</td><td>39</td><td>2009-01-27</td><td>16</td></tr><tr><td>1989-01-08</td><td>36</td><td>2009-02-02</td><td>16</td></tr><tr><td>1985-09-23</td><td>39</td><td>2009-02-14</td><td>16</td></tr><tr><td>1982-02-11</td><td>43</td><td>2009-02-21</td><td>16</td></tr><tr><td>1982-03-24</td><td>43</td><td>2009-03-03</td><td>16</td></tr><tr><td>1974-11-15</td><td>50</td><td>2009-03-05</td><td>16</td></tr><tr><td>1984-11-18</td><td>40</td><td>2009-02-20</td><td>16</td></tr><tr><td>1984-11-17</td><td>40</td><td>2008-12-09</td><td>16</td></tr><tr><td>1986-12-01</td><td>38</td><td>2008-12-28</td><td>16</td></tr><tr><td>1979-07-02</td><td>45</td><td>2009-01-22</td><td>16</td></tr><tr><td>1986-04-05</td><td>38</td><td>2009-02-09</td><td>16</td></tr><tr><td>1975-12-21</td><td>49</td><td>2009-02-28</td><td>16</td></tr><tr><td>1990-05-24</td><td>34</td><td>2009-02-08</td><td>16</td></tr><tr><td>1989-04-15</td><td>35</td><td>2008-12-09</td><td>16</td></tr><tr><td>1985-11-24</td><td>39</td><td>2008-12-27</td><td>16</td></tr><tr><td>1972-07-24</td><td>52</td><td>2009-01-15</td><td>16</td></tr><tr><td>1985-02-28</td><td>40</td><td>2009-02-02</td><td>16</td></tr><tr><td>1988-03-14</td><td>37</td><td>2009-02-26</td><td>16</td></tr><tr><td>1983-02-28</td><td>42</td><td>2009-03-05</td><td>16</td></tr><tr><td>1988-12-05</td><td>36</td><td>2008-12-06</td><td>16</td></tr><tr><td>1989-06-25</td><td>35</td><td>2008-12-12</td><td>16</td></tr><tr><td>1985-12-25</td><td>39</td><td>2008-12-17</td><td>16</td></tr><tr><td>1980-10-04</td><td>44</td><td>2008-12-24</td><td>16</td></tr><tr><td>1977-10-04</td><td>47</td><td>2008-12-31</td><td>16</td></tr><tr><td>1988-11-26</td><td>36</td><td>2009-01-04</td><td>16</td></tr><tr><td>1987-02-10</td><td>38</td><td>2009-01-12</td><td>16</td></tr><tr><td>1987-09-06</td><td>37</td><td>2009-01-17</td><td>16</td></tr><tr><td>1977-02-10</td><td>48</td><td>2009-01-29</td><td>16</td></tr><tr><td>1989-11-10</td><td>35</td><td>2009-02-05</td><td>16</td></tr><tr><td>1981-05-28</td><td>43</td><td>2009-02-24</td><td>16</td></tr><tr><td>1988-05-10</td><td>36</td><td>2009-03-08</td><td>16</td></tr><tr><td>1980-07-18</td><td>44</td><td>2009-02-26</td><td>16</td></tr><tr><td>1962-09-13</td><td>62</td><td>2008-12-02</td><td>16</td></tr><tr><td>1970-10-18</td><td>54</td><td>2008-12-02</td><td>16</td></tr><tr><td>1987-02-10</td><td>38</td><td>2009-01-08</td><td>16</td></tr><tr><td>1990-11-01</td><td>34</td><td>2009-01-27</td><td>16</td></tr><tr><td>1969-09-17</td><td>55</td><td>2009-02-20</td><td>16</td></tr><tr><td>1977-10-26</td><td>47</td><td>2009-02-28</td><td>16</td></tr><tr><td>1976-03-18</td><td>49</td><td>2008-12-09</td><td>16</td></tr><tr><td>1966-12-05</td><td>58</td><td>2010-02-23</td><td>15</td></tr><tr><td>1966-12-14</td><td>58</td><td>2010-01-16</td><td>15</td></tr><tr><td>1971-09-11</td><td>53</td><td>2010-02-05</td><td>15</td></tr><tr><td>1984-11-30</td><td>40</td><td>2009-05-03</td><td>15</td></tr><tr><td>1966-12-08</td><td>58</td><td>2010-01-24</td><td>15</td></tr><tr><td>1970-12-03</td><td>54</td><td>2010-01-17</td><td>15</td></tr><tr><td>1971-03-09</td><td>54</td><td>2009-12-29</td><td>15</td></tr><tr><td>1973-08-29</td><td>51</td><td>2010-03-03</td><td>15</td></tr><tr><td>1973-12-23</td><td>51</td><td>2010-02-12</td><td>15</td></tr><tr><td>1952-03-02</td><td>73</td><td>2010-02-05</td><td>15</td></tr><tr><td>1970-12-23</td><td>54</td><td>2009-12-11</td><td>15</td></tr><tr><td>1986-09-10</td><td>38</td><td>2010-01-01</td><td>15</td></tr><tr><td>1955-01-30</td><td>70</td><td>2010-01-29</td><td>15</td></tr><tr><td>1973-09-05</td><td>51</td><td>2010-02-23</td><td>15</td></tr><tr><td>1970-04-28</td><td>54</td><td>2010-02-23</td><td>15</td></tr><tr><td>1970-03-07</td><td>55</td><td>2009-12-22</td><td>15</td></tr><tr><td>1970-07-31</td><td>54</td><td>2010-02-16</td><td>15</td></tr><tr><td>1971-12-17</td><td>53</td><td>2010-03-05</td><td>15</td></tr><tr><td>1954-04-24</td><td>70</td><td>2010-03-07</td><td>15</td></tr><tr><td>1970-12-03</td><td>54</td><td>2010-01-27</td><td>15</td></tr><tr><td>1971-08-27</td><td>53</td><td>2009-12-21</td><td>15</td></tr><tr><td>1971-10-23</td><td>53</td><td>2010-01-06</td><td>15</td></tr><tr><td>1953-04-30</td><td>71</td><td>2010-01-22</td><td>15</td></tr><tr><td>1974-09-10</td><td>50</td><td>2010-01-24</td><td>15</td></tr><tr><td>1970-04-04</td><td>54</td><td>2010-03-04</td><td>15</td></tr><tr><td>1971-09-05</td><td>53</td><td>2010-02-13</td><td>15</td></tr><tr><td>1971-02-18</td><td>54</td><td>2009-12-02</td><td>15</td></tr><tr><td>1970-11-12</td><td>54</td><td>2009-12-11</td><td>15</td></tr><tr><td>1986-09-22</td><td>38</td><td>2009-12-06</td><td>15</td></tr><tr><td>1986-09-19</td><td>38</td><td>2009-12-25</td><td>15</td></tr><tr><td>1986-09-19</td><td>38</td><td>2009-12-25</td><td>15</td></tr><tr><td>1986-09-28</td><td>38</td><td>2010-02-27</td><td>15</td></tr><tr><td>1986-10-01</td><td>38</td><td>2010-02-08</td><td>15</td></tr><tr><td>1966-12-17</td><td>58</td><td>2009-12-18</td><td>15</td></tr><tr><td>1986-09-10</td><td>38</td><td>2010-02-01</td><td>15</td></tr><tr><td>1986-09-07</td><td>38</td><td>2010-02-20</td><td>15</td></tr><tr><td>1986-09-13</td><td>38</td><td>2010-01-12</td><td>15</td></tr><tr><td>1986-10-01</td><td>38</td><td>2010-03-10</td><td>15</td></tr><tr><td>1971-09-02</td><td>53</td><td>2009-12-03</td><td>15</td></tr><tr><td>1970-11-30</td><td>54</td><td>2009-12-17</td><td>15</td></tr><tr><td>1970-11-24</td><td>54</td><td>2010-01-04</td><td>15</td></tr><tr><td>1966-11-29</td><td>58</td><td>2010-01-11</td><td>15</td></tr><tr><td>1952-05-12</td><td>72</td><td>2010-01-23</td><td>15</td></tr><tr><td>1972-09-17</td><td>52</td><td>2010-01-27</td><td>15</td></tr><tr><td>1971-01-04</td><td>54</td><td>2010-01-31</td><td>15</td></tr><tr><td>1973-06-03</td><td>51</td><td>2010-03-09</td><td>15</td></tr><tr><td>1978-01-29</td><td>47</td><td>2010-12-06</td><td>14</td></tr><tr><td>1978-01-17</td><td>47</td><td>2010-12-25</td><td>14</td></tr><tr><td>1977-06-06</td><td>47</td><td>2011-02-15</td><td>14</td></tr><tr><td>1951-10-17</td><td>73</td><td>2011-01-04</td><td>14</td></tr><tr><td>1978-02-10</td><td>47</td><td>2011-02-25</td><td>14</td></tr><tr><td>1978-01-17</td><td>47</td><td>2010-12-05</td><td>14</td></tr><tr><td>1989-05-28</td><td>35</td><td>2010-12-23</td><td>14</td></tr><tr><td>1979-06-16</td><td>45</td><td>2010-12-30</td><td>14</td></tr><tr><td>1961-05-02</td><td>63</td><td>2011-01-18</td><td>14</td></tr><tr><td>1978-03-06</td><td>47</td><td>2011-02-07</td><td>14</td></tr><tr><td>1978-01-29</td><td>47</td><td>2011-02-14</td><td>14</td></tr><tr><td>1975-03-17</td><td>50</td><td>2011-01-07</td><td>14</td></tr><tr><td>1968-12-25</td><td>56</td><td>2011-05-31</td><td>13</td></tr><tr><td>1980-02-27</td><td>45</td><td>2011-05-31</td><td>13</td></tr><tr><td>1962-08-29</td><td>62</td><td>2011-05-31</td><td>13</td></tr><tr><td>1975-02-04</td><td>50</td><td>2011-05-31</td><td>13</td></tr><tr><td>1974-01-18</td><td>51</td><td>2011-05-31</td><td>13</td></tr><tr><td>1974-12-06</td><td>50</td><td>2011-05-31</td><td>13</td></tr><tr><td>1968-03-09</td><td>57</td><td>2011-05-31</td><td>13</td></tr><tr><td>1963-12-11</td><td>61</td><td>2011-05-31</td><td>13</td></tr><tr><td>1974-02-11</td><td>51</td><td>2011-05-31</td><td>13</td></tr><tr><td>1978-01-05</td><td>47</td><td>2012-09-30</td><td>12</td></tr><tr><td>1975-01-11</td><td>50</td><td>2013-03-14</td><td>12</td></tr><tr><td>1957-09-20</td><td>67</td><td>2012-04-16</td><td>12</td></tr><tr><td>1968-03-17</td><td>57</td><td>2012-05-30</td><td>12</td></tr><tr><td>1975-09-30</td><td>49</td><td>2012-05-30</td><td>12</td></tr><tr><td>1975-07-09</td><td>49</td><td>2013-05-30</td><td>11</td></tr><tr><td>1977-02-14</td><td>48</td><td>2013-05-30</td><td>11</td></tr></table>"
                    },
                    "metadata": {}
                }
            ],
            "execution_count": 9
        }
    ]
}