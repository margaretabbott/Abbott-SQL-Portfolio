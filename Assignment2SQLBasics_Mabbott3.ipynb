{
    "metadata": {
        "kernelspec": {
            "name": "SQL",
            "display_name": "SQL",
            "language": "sql"
        },
        "language_info": {
            "name": "sql",
            "version": ""
        },
        "colab": {
            "provenance": []
        }
    },
    "nbformat_minor": 2,
    "nbformat": 4,
    "cells": [
        {
            "cell_type": "markdown",
            "source": [
                "# Data Management Assignment 2 SQL Basics"
            ],
            "metadata": {
                "azdata_cell_guid": "4a8ecfae-e644-415e-b092-c21f2963b15f",
                "id": "ciKUlW25q2rd"
            }
        },
        {
            "cell_type": "markdown",
            "source": [
                "**This assignment consists of** **6 problems. You are expected to complete all of them on your own. To submit you work, save your completed assignment as \"<mark>Assignment2SQLBasics\\_NetID.ipynb</mark>\" (replacing NetID with your actual NetID) and upload it to Canvas.**"
            ],
            "metadata": {
                "azdata_cell_guid": "c2999869-d2d2-4194-a8ad-6f9bb48cbf75",
                "id": "84N1tlfmq2re"
            }
        },
        {
            "cell_type": "markdown",
            "source": [
                "## Part 1\n",
                "\n",
                "As a business analyst at AdventureWorks, you first task is to support the Human Resources team in a succession planning exercise. <span style=\"font-family: -apple-system, BlinkMacSystemFont, sans-serif; color: var(--vscode-foreground);\">They want to project upcoming retirements to understand how many positions will need to be filled in the coming years. You should be able to complete this task using the data&nbsp;in the </span> **`Employee`** <span style=\"font-family: -apple-system, BlinkMacSystemFont, sans-serif; color: var(--vscode-foreground);\"> table.</span>"
            ],
            "metadata": {
                "azdata_cell_guid": "0164c831-dbe9-41a1-8c85-b1ebe83d6450",
                "id": "WRiTJkeQq2re"
            }
        },
        {
            "cell_type": "markdown",
            "source": [
                "### Problem 1 (2 points)\n",
                "\n",
                "The first step in the succession planning exercise is to compile a list of all **unique job titles** within the company. Write a SQL query to produce a list of unique job titles sorted in **ascending alphabetical** order."
            ],
            "metadata": {
                "azdata_cell_guid": "40f8accd-89ae-4781-aa59-df4a93a7b76d",
                "id": "4PXAOCAxq2rf"
            }
        },
        {
            "cell_type": "code",
            "source": [
                "-- Your code here\n",
                "SELECT DISTINCT JobTitle\n",
                "FROM HumanResources.Employee\n",
                "ORDER BY JobTitle;"
            ],
            "metadata": {
                "azdata_cell_guid": "bf056479-2aa8-48dd-ba4e-62bdba18f7fb",
                "language": "sql",
                "id": "Q17HdEvEq2rf"
            },
            "outputs": [
                {
                    "output_type": "display_data",
                    "data": {
                        "text/html": "(67 rows affected)"
                    },
                    "metadata": {}
                },
                {
                    "output_type": "display_data",
                    "data": {
                        "text/html": "Total execution time: 00:00:00.117"
                    },
                    "metadata": {}
                },
                {
                    "output_type": "execute_result",
                    "execution_count": 1,
                    "data": {
                        "application/vnd.dataresource+json": {
                            "schema": {
                                "fields": [
                                    {
                                        "name": "JobTitle"
                                    }
                                ]
                            },
                            "data": [
                                {
                                    "JobTitle": "Accountant"
                                },
                                {
                                    "JobTitle": "Accounts Manager"
                                },
                                {
                                    "JobTitle": "Accounts Payable Specialist"
                                },
                                {
                                    "JobTitle": "Accounts Receivable Specialist"
                                },
                                {
                                    "JobTitle": "Application Specialist"
                                },
                                {
                                    "JobTitle": "Assistant to the Chief Financial Officer"
                                },
                                {
                                    "JobTitle": "Benefits Specialist"
                                },
                                {
                                    "JobTitle": "Buyer"
                                },
                                {
                                    "JobTitle": "Chief Executive Officer"
                                },
                                {
                                    "JobTitle": "Chief Financial Officer"
                                },
                                {
                                    "JobTitle": "Control Specialist"
                                },
                                {
                                    "JobTitle": "Database Administrator"
                                },
                                {
                                    "JobTitle": "Design Engineer"
                                },
                                {
                                    "JobTitle": "Document Control Assistant"
                                },
                                {
                                    "JobTitle": "Document Control Manager"
                                },
                                {
                                    "JobTitle": "Engineering Manager"
                                },
                                {
                                    "JobTitle": "European Sales Manager"
                                },
                                {
                                    "JobTitle": "Facilities Administrative Assistant"
                                },
                                {
                                    "JobTitle": "Facilities Manager"
                                },
                                {
                                    "JobTitle": "Finance Manager"
                                },
                                {
                                    "JobTitle": "Human Resources Administrative Assistant"
                                },
                                {
                                    "JobTitle": "Human Resources Manager"
                                },
                                {
                                    "JobTitle": "Information Services Manager"
                                },
                                {
                                    "JobTitle": "Janitor"
                                },
                                {
                                    "JobTitle": "Maintenance Supervisor"
                                },
                                {
                                    "JobTitle": "Marketing Assistant"
                                },
                                {
                                    "JobTitle": "Marketing Manager"
                                },
                                {
                                    "JobTitle": "Marketing Specialist"
                                },
                                {
                                    "JobTitle": "Master Scheduler"
                                },
                                {
                                    "JobTitle": "Network Administrator"
                                },
                                {
                                    "JobTitle": "Network Manager"
                                },
                                {
                                    "JobTitle": "North American Sales Manager"
                                },
                                {
                                    "JobTitle": "Pacific Sales Manager"
                                },
                                {
                                    "JobTitle": "Production Control Manager"
                                },
                                {
                                    "JobTitle": "Production Supervisor - WC10"
                                },
                                {
                                    "JobTitle": "Production Supervisor - WC20"
                                },
                                {
                                    "JobTitle": "Production Supervisor - WC30"
                                },
                                {
                                    "JobTitle": "Production Supervisor - WC40"
                                },
                                {
                                    "JobTitle": "Production Supervisor - WC45"
                                },
                                {
                                    "JobTitle": "Production Supervisor - WC50"
                                },
                                {
                                    "JobTitle": "Production Supervisor - WC60"
                                },
                                {
                                    "JobTitle": "Production Technician - WC10"
                                },
                                {
                                    "JobTitle": "Production Technician - WC20"
                                },
                                {
                                    "JobTitle": "Production Technician - WC30"
                                },
                                {
                                    "JobTitle": "Production Technician - WC40"
                                },
                                {
                                    "JobTitle": "Production Technician - WC45"
                                },
                                {
                                    "JobTitle": "Production Technician - WC50"
                                },
                                {
                                    "JobTitle": "Production Technician - WC60"
                                },
                                {
                                    "JobTitle": "Purchasing Assistant"
                                },
                                {
                                    "JobTitle": "Purchasing Manager"
                                },
                                {
                                    "JobTitle": "Quality Assurance Manager"
                                },
                                {
                                    "JobTitle": "Quality Assurance Supervisor"
                                },
                                {
                                    "JobTitle": "Quality Assurance Technician"
                                },
                                {
                                    "JobTitle": "Recruiter"
                                },
                                {
                                    "JobTitle": "Research and Development Engineer"
                                },
                                {
                                    "JobTitle": "Research and Development Manager"
                                },
                                {
                                    "JobTitle": "Sales Representative"
                                },
                                {
                                    "JobTitle": "Scheduling Assistant"
                                },
                                {
                                    "JobTitle": "Senior Design Engineer"
                                },
                                {
                                    "JobTitle": "Senior Tool Designer"
                                },
                                {
                                    "JobTitle": "Shipping and Receiving Clerk"
                                },
                                {
                                    "JobTitle": "Shipping and Receiving Supervisor"
                                },
                                {
                                    "JobTitle": "Stocker"
                                },
                                {
                                    "JobTitle": "Tool Designer"
                                },
                                {
                                    "JobTitle": "Vice President of Engineering"
                                },
                                {
                                    "JobTitle": "Vice President of Production"
                                },
                                {
                                    "JobTitle": "Vice President of Sales"
                                }
                            ]
                        },
                        "text/html": "<table><tr><th>JobTitle</th></tr><tr><td>Accountant</td></tr><tr><td>Accounts Manager</td></tr><tr><td>Accounts Payable Specialist</td></tr><tr><td>Accounts Receivable Specialist</td></tr><tr><td>Application Specialist</td></tr><tr><td>Assistant to the Chief Financial Officer</td></tr><tr><td>Benefits Specialist</td></tr><tr><td>Buyer</td></tr><tr><td>Chief Executive Officer</td></tr><tr><td>Chief Financial Officer</td></tr><tr><td>Control Specialist</td></tr><tr><td>Database Administrator</td></tr><tr><td>Design Engineer</td></tr><tr><td>Document Control Assistant</td></tr><tr><td>Document Control Manager</td></tr><tr><td>Engineering Manager</td></tr><tr><td>European Sales Manager</td></tr><tr><td>Facilities Administrative Assistant</td></tr><tr><td>Facilities Manager</td></tr><tr><td>Finance Manager</td></tr><tr><td>Human Resources Administrative Assistant</td></tr><tr><td>Human Resources Manager</td></tr><tr><td>Information Services Manager</td></tr><tr><td>Janitor</td></tr><tr><td>Maintenance Supervisor</td></tr><tr><td>Marketing Assistant</td></tr><tr><td>Marketing Manager</td></tr><tr><td>Marketing Specialist</td></tr><tr><td>Master Scheduler</td></tr><tr><td>Network Administrator</td></tr><tr><td>Network Manager</td></tr><tr><td>North American Sales Manager</td></tr><tr><td>Pacific Sales Manager</td></tr><tr><td>Production Control Manager</td></tr><tr><td>Production Supervisor - WC10</td></tr><tr><td>Production Supervisor - WC20</td></tr><tr><td>Production Supervisor - WC30</td></tr><tr><td>Production Supervisor - WC40</td></tr><tr><td>Production Supervisor - WC45</td></tr><tr><td>Production Supervisor - WC50</td></tr><tr><td>Production Supervisor - WC60</td></tr><tr><td>Production Technician - WC10</td></tr><tr><td>Production Technician - WC20</td></tr><tr><td>Production Technician - WC30</td></tr><tr><td>Production Technician - WC40</td></tr><tr><td>Production Technician - WC45</td></tr><tr><td>Production Technician - WC50</td></tr><tr><td>Production Technician - WC60</td></tr><tr><td>Purchasing Assistant</td></tr><tr><td>Purchasing Manager</td></tr><tr><td>Quality Assurance Manager</td></tr><tr><td>Quality Assurance Supervisor</td></tr><tr><td>Quality Assurance Technician</td></tr><tr><td>Recruiter</td></tr><tr><td>Research and Development Engineer</td></tr><tr><td>Research and Development Manager</td></tr><tr><td>Sales Representative</td></tr><tr><td>Scheduling Assistant</td></tr><tr><td>Senior Design Engineer</td></tr><tr><td>Senior Tool Designer</td></tr><tr><td>Shipping and Receiving Clerk</td></tr><tr><td>Shipping and Receiving Supervisor</td></tr><tr><td>Stocker</td></tr><tr><td>Tool Designer</td></tr><tr><td>Vice President of Engineering</td></tr><tr><td>Vice President of Production</td></tr><tr><td>Vice President of Sales</td></tr></table>"
                    },
                    "metadata": {}
                }
            ],
            "execution_count": 1
        },
        {
            "cell_type": "markdown",
            "source": [
                "### Problem 2 (5 points)\n",
                "\n",
                "The Human Resources team wants to identify the job titles of employees in management positions. Modify your query from the previous problem to filter the results to include only employees whose job titles contain the word **Manager**, **Supervisor**, **Chief**, or **Vice President**. Ensure your query results include only the **unique job titles** <span style=\"font-family: -apple-system, BlinkMacSystemFont, sans-serif; color: var(--vscode-foreground);\">for management roles&nbsp;</span> <span style=\"font-family: -apple-system, BlinkMacSystemFont, sans-serif; color: var(--vscode-foreground);\">sorted in <b>ascending alphabetical</b> order.</span>"
            ],
            "metadata": {
                "azdata_cell_guid": "a9669eb8-361f-42d0-a3cd-6c731ff1635e",
                "language": "sql",
                "id": "u8pf2xULq2rg"
            }
        },
        {
            "cell_type": "code",
            "source": [
                "-- Your code here\n",
                "SELECT DISTINCT JobTitle\n",
                "FROM HumanResources.Employee\n",
                "WHERE JobTitle LIKE '%manger%' OR JobTitle LIKE '%supervisor%'OR JobTitle LIKE '%chief%' OR JobTitle LIKE '%vice president%'\n",
                "ORDER BY JobTitle;"
            ],
            "metadata": {
                "azdata_cell_guid": "c51d5214-54ed-48f8-ae5f-5a60211c1084",
                "language": "sql",
                "scrolled": true,
                "id": "iUkAL8--q2rh",
                "tags": []
            },
            "outputs": [
                {
                    "output_type": "display_data",
                    "data": {
                        "text/html": "(16 rows affected)"
                    },
                    "metadata": {}
                },
                {
                    "output_type": "display_data",
                    "data": {
                        "text/html": "Total execution time: 00:00:00.079"
                    },
                    "metadata": {}
                },
                {
                    "output_type": "execute_result",
                    "execution_count": 2,
                    "data": {
                        "application/vnd.dataresource+json": {
                            "schema": {
                                "fields": [
                                    {
                                        "name": "JobTitle"
                                    }
                                ]
                            },
                            "data": [
                                {
                                    "JobTitle": "Assistant to the Chief Financial Officer"
                                },
                                {
                                    "JobTitle": "Chief Executive Officer"
                                },
                                {
                                    "JobTitle": "Chief Financial Officer"
                                },
                                {
                                    "JobTitle": "Maintenance Supervisor"
                                },
                                {
                                    "JobTitle": "Production Supervisor - WC10"
                                },
                                {
                                    "JobTitle": "Production Supervisor - WC20"
                                },
                                {
                                    "JobTitle": "Production Supervisor - WC30"
                                },
                                {
                                    "JobTitle": "Production Supervisor - WC40"
                                },
                                {
                                    "JobTitle": "Production Supervisor - WC45"
                                },
                                {
                                    "JobTitle": "Production Supervisor - WC50"
                                },
                                {
                                    "JobTitle": "Production Supervisor - WC60"
                                },
                                {
                                    "JobTitle": "Quality Assurance Supervisor"
                                },
                                {
                                    "JobTitle": "Shipping and Receiving Supervisor"
                                },
                                {
                                    "JobTitle": "Vice President of Engineering"
                                },
                                {
                                    "JobTitle": "Vice President of Production"
                                },
                                {
                                    "JobTitle": "Vice President of Sales"
                                }
                            ]
                        },
                        "text/html": "<table><tr><th>JobTitle</th></tr><tr><td>Assistant to the Chief Financial Officer</td></tr><tr><td>Chief Executive Officer</td></tr><tr><td>Chief Financial Officer</td></tr><tr><td>Maintenance Supervisor</td></tr><tr><td>Production Supervisor - WC10</td></tr><tr><td>Production Supervisor - WC20</td></tr><tr><td>Production Supervisor - WC30</td></tr><tr><td>Production Supervisor - WC40</td></tr><tr><td>Production Supervisor - WC45</td></tr><tr><td>Production Supervisor - WC50</td></tr><tr><td>Production Supervisor - WC60</td></tr><tr><td>Quality Assurance Supervisor</td></tr><tr><td>Shipping and Receiving Supervisor</td></tr><tr><td>Vice President of Engineering</td></tr><tr><td>Vice President of Production</td></tr><tr><td>Vice President of Sales</td></tr></table>"
                    },
                    "metadata": {}
                }
            ],
            "execution_count": 2
        },
        {
            "cell_type": "markdown",
            "source": [
                "### Problem 3 (5 points)\n",
                "\n",
                "Write a SQL query to produce a list of employees at AdventureWorks who are between 60 and 65 (inclusive) years old. The result of your query should be a table containing 4 columns: **BusinessEntityID**, **JobTitle**, **BirthDate**, and **Age**(calculated from the BirthDate). Sort the result so that the youngest relevant employee appears at the top of the list."
            ],
            "metadata": {
                "azdata_cell_guid": "6396ce71-d0bd-406f-ba3d-a3f03e9f2749",
                "language": "sql",
                "id": "icp12q3Uq2rh"
            }
        },
        {
            "cell_type": "code",
            "source": [
                "-- Your code here\n",
                "SELECT BusinessEntityID, JobTitle, BirthDate, DATEDIFF(DAY,BirthDate,GETDATE())/365 AS Age\n",
                "FROM HumanResources.Employee\n",
                "WHERE DATEDIFF(DAY,BirthDate,GETDATE())/365 BETWEEN 60 AND 65\n",
                "ORDER BY Age;"
            ],
            "metadata": {
                "azdata_cell_guid": "d2d16c3c-03f4-4b67-8d61-11003da16bbc",
                "language": "sql",
                "scrolled": true,
                "id": "XYqeszXaq2rh"
            },
            "outputs": [
                {
                    "output_type": "display_data",
                    "data": {
                        "text/html": "(7 rows affected)"
                    },
                    "metadata": {}
                },
                {
                    "output_type": "display_data",
                    "data": {
                        "text/html": "Total execution time: 00:00:00.087"
                    },
                    "metadata": {}
                },
                {
                    "output_type": "execute_result",
                    "execution_count": 3,
                    "data": {
                        "application/vnd.dataresource+json": {
                            "schema": {
                                "fields": [
                                    {
                                        "name": "BusinessEntityID"
                                    },
                                    {
                                        "name": "JobTitle"
                                    },
                                    {
                                        "name": "BirthDate"
                                    },
                                    {
                                        "name": "Age"
                                    }
                                ]
                            },
                            "data": [
                                {
                                    "BusinessEntityID": "262",
                                    "JobTitle": "Assistant to the Chief Financial Officer",
                                    "BirthDate": "1964-06-21",
                                    "Age": "60"
                                },
                                {
                                    "BusinessEntityID": "282",
                                    "JobTitle": "Sales Representative",
                                    "BirthDate": "1963-12-11",
                                    "Age": "61"
                                },
                                {
                                    "BusinessEntityID": "277",
                                    "JobTitle": "Sales Representative",
                                    "BirthDate": "1962-08-29",
                                    "Age": "62"
                                },
                                {
                                    "BusinessEntityID": "23",
                                    "JobTitle": "Marketing Specialist",
                                    "BirthDate": "1962-09-13",
                                    "Age": "62"
                                },
                                {
                                    "BusinessEntityID": "206",
                                    "JobTitle": "Production Technician - WC45",
                                    "BirthDate": "1962-09-13",
                                    "Age": "62"
                                },
                                {
                                    "BusinessEntityID": "15",
                                    "JobTitle": "Design Engineer",
                                    "BirthDate": "1961-05-02",
                                    "Age": "63"
                                },
                                {
                                    "BusinessEntityID": "12",
                                    "JobTitle": "Tool Designer",
                                    "BirthDate": "1959-07-29",
                                    "Age": "65"
                                }
                            ]
                        },
                        "text/html": "<table><tr><th>BusinessEntityID</th><th>JobTitle</th><th>BirthDate</th><th>Age</th></tr><tr><td>262</td><td>Assistant to the Chief Financial Officer</td><td>1964-06-21</td><td>60</td></tr><tr><td>282</td><td>Sales Representative</td><td>1963-12-11</td><td>61</td></tr><tr><td>277</td><td>Sales Representative</td><td>1962-08-29</td><td>62</td></tr><tr><td>23</td><td>Marketing Specialist</td><td>1962-09-13</td><td>62</td></tr><tr><td>206</td><td>Production Technician - WC45</td><td>1962-09-13</td><td>62</td></tr><tr><td>15</td><td>Design Engineer</td><td>1961-05-02</td><td>63</td></tr><tr><td>12</td><td>Tool Designer</td><td>1959-07-29</td><td>65</td></tr></table>"
                    },
                    "metadata": {}
                }
            ],
            "execution_count": 3
        },
        {
            "cell_type": "markdown",
            "source": [
                "## Part 2\n",
                "\n",
                "After completing your work with the Human Resources team, your are asked to assist the Product Management team in obtaining key information about current products. You should be able to complete this task using the data in the **`Product`** table."
            ],
            "metadata": {
                "azdata_cell_guid": "30352f04-7c64-4e88-b6cb-2c960e7beb40",
                "language": "sql",
                "id": "Uf6nfpMOq2ri"
            }
        },
        {
            "cell_type": "markdown",
            "source": [
                "### Problem 4 (6 points)\n",
                "\n",
                "The product management team needs to provide the warehouse manager with a list of all **finished products** that are **currently being sold** and their minimum inventory levels (also known as the **safety stock level**). Write a SQL query to produce a table containing all relevant products. The table should include 3 columns: **product name**<span style=\"font-family: -apple-system, BlinkMacSystemFont, sans-serif; color: var(--vscode-foreground);\">, </span> **list price**<span style=\"font-family: -apple-system, BlinkMacSystemFont, sans-serif; color: var(--vscode-foreground);\">, and </span> **safety stock level.** <span style=\"font-family: -apple-system, BlinkMacSystemFont, sans-serif; color: var(--vscode-foreground);\">Sort the results&nbsp;</span>  <span data-start=\"573\" data-end=\"612\" style=\"font-family: -apple-system, BlinkMacSystemFont, sans-serif; color: var(--vscode-foreground);\">by</span> **SafetyStockLevel** <span style=\"font-family: -apple-system, BlinkMacSystemFont, sans-serif; color: var(--vscode-foreground);\">in </span> **ascending order**<span style=\"font-family: -apple-system, BlinkMacSystemFont, sans-serif; color: var(--vscode-foreground);\">.&nbsp;</span> <span style=\"font-family: -apple-system, BlinkMacSystemFont, sans-serif; color: var(--vscode-foreground);\">If multiple products have the same </span> SafetyStockLevel<span style=\"font-family: -apple-system, BlinkMacSystemFont, sans-serif; color: var(--vscode-foreground);\">, sort them&nbsp;</span> <span style=\"font-family: -apple-system, BlinkMacSystemFont, sans-serif; color: var(--vscode-foreground);\">by</span> **ProductName** <span style=\"font-family: -apple-system, BlinkMacSystemFont, sans-serif; color: var(--vscode-foreground);\">in</span> **ascending alphabetical order.**\n",
                "\n",
                "**Hint**:\n",
                "\n",
                "- A product is considered finished if its **FinishedGoodsFlag** is set to `1`.\n",
                "- A product is currently being sold if its **SellEndDate** is `NULL`."
            ],
            "metadata": {
                "azdata_cell_guid": "47c0e0b8-01de-48be-8f32-6869b2997ddc",
                "language": "sql",
                "id": "uAG3-JO1q2ri"
            }
        },
        {
            "cell_type": "code",
            "source": [
                "-- Your code here\n",
                "SELECT [Name], ListPrice, SafetyStockLevel\n",
                "FROM Production.Product\n",
                "WHERE FinishedGoodsFlag=1 AND SellEndDate IS NULL \n",
                "ORDER BY SafetyStockLevel, [Name];"
            ],
            "metadata": {
                "azdata_cell_guid": "2acfb76b-f447-46c3-b8f4-977afd650fa7",
                "language": "sql",
                "scrolled": true,
                "id": "oQcLesNyq2ri"
            },
            "outputs": [
                {
                    "output_type": "display_data",
                    "data": {
                        "text/html": "(197 rows affected)"
                    },
                    "metadata": {}
                },
                {
                    "output_type": "display_data",
                    "data": {
                        "text/html": "Total execution time: 00:00:00.080"
                    },
                    "metadata": {}
                },
                {
                    "output_type": "execute_result",
                    "execution_count": 4,
                    "data": {
                        "application/vnd.dataresource+json": {
                            "schema": {
                                "fields": [
                                    {
                                        "name": "Name"
                                    },
                                    {
                                        "name": "ListPrice"
                                    },
                                    {
                                        "name": "SafetyStockLevel"
                                    }
                                ]
                            },
                            "data": [
                                {
                                    "Name": "All-Purpose Bike Stand",
                                    "ListPrice": "159.00",
                                    "SafetyStockLevel": "4"
                                },
                                {
                                    "Name": "AWC Logo Cap",
                                    "ListPrice": "8.99",
                                    "SafetyStockLevel": "4"
                                },
                                {
                                    "Name": "Bike Wash - Dissolver",
                                    "ListPrice": "7.95",
                                    "SafetyStockLevel": "4"
                                },
                                {
                                    "Name": "Classic Vest, L",
                                    "ListPrice": "63.50",
                                    "SafetyStockLevel": "4"
                                },
                                {
                                    "Name": "Classic Vest, M",
                                    "ListPrice": "63.50",
                                    "SafetyStockLevel": "4"
                                },
                                {
                                    "Name": "Classic Vest, S",
                                    "ListPrice": "63.50",
                                    "SafetyStockLevel": "4"
                                },
                                {
                                    "Name": "Fender Set - Mountain",
                                    "ListPrice": "21.98",
                                    "SafetyStockLevel": "4"
                                },
                                {
                                    "Name": "Half-Finger Gloves, L",
                                    "ListPrice": "24.49",
                                    "SafetyStockLevel": "4"
                                },
                                {
                                    "Name": "Half-Finger Gloves, M",
                                    "ListPrice": "24.49",
                                    "SafetyStockLevel": "4"
                                },
                                {
                                    "Name": "Half-Finger Gloves, S",
                                    "ListPrice": "24.49",
                                    "SafetyStockLevel": "4"
                                },
                                {
                                    "Name": "Hitch Rack - 4-Bike",
                                    "ListPrice": "120.00",
                                    "SafetyStockLevel": "4"
                                },
                                {
                                    "Name": "Hydration Pack - 70 oz.",
                                    "ListPrice": "54.99",
                                    "SafetyStockLevel": "4"
                                },
                                {
                                    "Name": "Long-Sleeve Logo Jersey, L",
                                    "ListPrice": "49.99",
                                    "SafetyStockLevel": "4"
                                },
                                {
                                    "Name": "Long-Sleeve Logo Jersey, M",
                                    "ListPrice": "49.99",
                                    "SafetyStockLevel": "4"
                                },
                                {
                                    "Name": "Long-Sleeve Logo Jersey, S",
                                    "ListPrice": "49.99",
                                    "SafetyStockLevel": "4"
                                },
                                {
                                    "Name": "Long-Sleeve Logo Jersey, XL",
                                    "ListPrice": "49.99",
                                    "SafetyStockLevel": "4"
                                },
                                {
                                    "Name": "Mountain Bottle Cage",
                                    "ListPrice": "9.99",
                                    "SafetyStockLevel": "4"
                                },
                                {
                                    "Name": "Patch Kit/8 Patches",
                                    "ListPrice": "2.29",
                                    "SafetyStockLevel": "4"
                                },
                                {
                                    "Name": "Racing Socks, L",
                                    "ListPrice": "8.99",
                                    "SafetyStockLevel": "4"
                                },
                                {
                                    "Name": "Racing Socks, M",
                                    "ListPrice": "8.99",
                                    "SafetyStockLevel": "4"
                                },
                                {
                                    "Name": "Road Bottle Cage",
                                    "ListPrice": "8.99",
                                    "SafetyStockLevel": "4"
                                },
                                {
                                    "Name": "Short-Sleeve Classic Jersey, L",
                                    "ListPrice": "53.99",
                                    "SafetyStockLevel": "4"
                                },
                                {
                                    "Name": "Short-Sleeve Classic Jersey, M",
                                    "ListPrice": "53.99",
                                    "SafetyStockLevel": "4"
                                },
                                {
                                    "Name": "Short-Sleeve Classic Jersey, S",
                                    "ListPrice": "53.99",
                                    "SafetyStockLevel": "4"
                                },
                                {
                                    "Name": "Short-Sleeve Classic Jersey, XL",
                                    "ListPrice": "53.99",
                                    "SafetyStockLevel": "4"
                                },
                                {
                                    "Name": "Sport-100 Helmet, Black",
                                    "ListPrice": "34.99",
                                    "SafetyStockLevel": "4"
                                },
                                {
                                    "Name": "Sport-100 Helmet, Blue",
                                    "ListPrice": "34.99",
                                    "SafetyStockLevel": "4"
                                },
                                {
                                    "Name": "Sport-100 Helmet, Red",
                                    "ListPrice": "34.99",
                                    "SafetyStockLevel": "4"
                                },
                                {
                                    "Name": "Water Bottle - 30 oz.",
                                    "ListPrice": "4.99",
                                    "SafetyStockLevel": "4"
                                },
                                {
                                    "Name": "Women's Mountain Shorts, L",
                                    "ListPrice": "69.99",
                                    "SafetyStockLevel": "4"
                                },
                                {
                                    "Name": "Women's Mountain Shorts, M",
                                    "ListPrice": "69.99",
                                    "SafetyStockLevel": "4"
                                },
                                {
                                    "Name": "Women's Mountain Shorts, S",
                                    "ListPrice": "69.99",
                                    "SafetyStockLevel": "4"
                                },
                                {
                                    "Name": "Mountain-200 Black, 38",
                                    "ListPrice": "2294.99",
                                    "SafetyStockLevel": "100"
                                },
                                {
                                    "Name": "Mountain-200 Black, 42",
                                    "ListPrice": "2294.99",
                                    "SafetyStockLevel": "100"
                                },
                                {
                                    "Name": "Mountain-200 Black, 46",
                                    "ListPrice": "2294.99",
                                    "SafetyStockLevel": "100"
                                },
                                {
                                    "Name": "Mountain-200 Silver, 38",
                                    "ListPrice": "2319.99",
                                    "SafetyStockLevel": "100"
                                },
                                {
                                    "Name": "Mountain-200 Silver, 42",
                                    "ListPrice": "2319.99",
                                    "SafetyStockLevel": "100"
                                },
                                {
                                    "Name": "Mountain-200 Silver, 46",
                                    "ListPrice": "2319.99",
                                    "SafetyStockLevel": "100"
                                },
                                {
                                    "Name": "Mountain-400-W Silver, 38",
                                    "ListPrice": "769.49",
                                    "SafetyStockLevel": "100"
                                },
                                {
                                    "Name": "Mountain-400-W Silver, 40",
                                    "ListPrice": "769.49",
                                    "SafetyStockLevel": "100"
                                },
                                {
                                    "Name": "Mountain-400-W Silver, 42",
                                    "ListPrice": "769.49",
                                    "SafetyStockLevel": "100"
                                },
                                {
                                    "Name": "Mountain-400-W Silver, 46",
                                    "ListPrice": "769.49",
                                    "SafetyStockLevel": "100"
                                },
                                {
                                    "Name": "Mountain-500 Black, 40",
                                    "ListPrice": "539.99",
                                    "SafetyStockLevel": "100"
                                },
                                {
                                    "Name": "Mountain-500 Black, 42",
                                    "ListPrice": "539.99",
                                    "SafetyStockLevel": "100"
                                },
                                {
                                    "Name": "Mountain-500 Black, 44",
                                    "ListPrice": "539.99",
                                    "SafetyStockLevel": "100"
                                },
                                {
                                    "Name": "Mountain-500 Black, 48",
                                    "ListPrice": "539.99",
                                    "SafetyStockLevel": "100"
                                },
                                {
                                    "Name": "Mountain-500 Black, 52",
                                    "ListPrice": "539.99",
                                    "SafetyStockLevel": "100"
                                },
                                {
                                    "Name": "Mountain-500 Silver, 40",
                                    "ListPrice": "564.99",
                                    "SafetyStockLevel": "100"
                                },
                                {
                                    "Name": "Mountain-500 Silver, 42",
                                    "ListPrice": "564.99",
                                    "SafetyStockLevel": "100"
                                },
                                {
                                    "Name": "Mountain-500 Silver, 44",
                                    "ListPrice": "564.99",
                                    "SafetyStockLevel": "100"
                                },
                                {
                                    "Name": "Mountain-500 Silver, 48",
                                    "ListPrice": "564.99",
                                    "SafetyStockLevel": "100"
                                },
                                {
                                    "Name": "Mountain-500 Silver, 52",
                                    "ListPrice": "564.99",
                                    "SafetyStockLevel": "100"
                                },
                                {
                                    "Name": "Road-250 Black, 44",
                                    "ListPrice": "2443.35",
                                    "SafetyStockLevel": "100"
                                },
                                {
                                    "Name": "Road-250 Black, 48",
                                    "ListPrice": "2443.35",
                                    "SafetyStockLevel": "100"
                                },
                                {
                                    "Name": "Road-250 Black, 52",
                                    "ListPrice": "2443.35",
                                    "SafetyStockLevel": "100"
                                },
                                {
                                    "Name": "Road-250 Black, 58",
                                    "ListPrice": "2443.35",
                                    "SafetyStockLevel": "100"
                                },
                                {
                                    "Name": "Road-250 Red, 58",
                                    "ListPrice": "2443.35",
                                    "SafetyStockLevel": "100"
                                },
                                {
                                    "Name": "Road-350-W Yellow, 40",
                                    "ListPrice": "1700.99",
                                    "SafetyStockLevel": "100"
                                },
                                {
                                    "Name": "Road-350-W Yellow, 42",
                                    "ListPrice": "1700.99",
                                    "SafetyStockLevel": "100"
                                },
                                {
                                    "Name": "Road-350-W Yellow, 44",
                                    "ListPrice": "1700.99",
                                    "SafetyStockLevel": "100"
                                },
                                {
                                    "Name": "Road-350-W Yellow, 48",
                                    "ListPrice": "1700.99",
                                    "SafetyStockLevel": "100"
                                },
                                {
                                    "Name": "Road-550-W Yellow, 38",
                                    "ListPrice": "1120.49",
                                    "SafetyStockLevel": "100"
                                },
                                {
                                    "Name": "Road-550-W Yellow, 40",
                                    "ListPrice": "1120.49",
                                    "SafetyStockLevel": "100"
                                },
                                {
                                    "Name": "Road-550-W Yellow, 42",
                                    "ListPrice": "1120.49",
                                    "SafetyStockLevel": "100"
                                },
                                {
                                    "Name": "Road-550-W Yellow, 44",
                                    "ListPrice": "1120.49",
                                    "SafetyStockLevel": "100"
                                },
                                {
                                    "Name": "Road-550-W Yellow, 48",
                                    "ListPrice": "1120.49",
                                    "SafetyStockLevel": "100"
                                },
                                {
                                    "Name": "Road-750 Black, 44",
                                    "ListPrice": "539.99",
                                    "SafetyStockLevel": "100"
                                },
                                {
                                    "Name": "Road-750 Black, 48",
                                    "ListPrice": "539.99",
                                    "SafetyStockLevel": "100"
                                },
                                {
                                    "Name": "Road-750 Black, 52",
                                    "ListPrice": "539.99",
                                    "SafetyStockLevel": "100"
                                },
                                {
                                    "Name": "Road-750 Black, 58",
                                    "ListPrice": "539.99",
                                    "SafetyStockLevel": "100"
                                },
                                {
                                    "Name": "Touring-1000 Blue, 46",
                                    "ListPrice": "2384.07",
                                    "SafetyStockLevel": "100"
                                },
                                {
                                    "Name": "Touring-1000 Blue, 50",
                                    "ListPrice": "2384.07",
                                    "SafetyStockLevel": "100"
                                },
                                {
                                    "Name": "Touring-1000 Blue, 54",
                                    "ListPrice": "2384.07",
                                    "SafetyStockLevel": "100"
                                },
                                {
                                    "Name": "Touring-1000 Blue, 60",
                                    "ListPrice": "2384.07",
                                    "SafetyStockLevel": "100"
                                },
                                {
                                    "Name": "Touring-1000 Yellow, 46",
                                    "ListPrice": "2384.07",
                                    "SafetyStockLevel": "100"
                                },
                                {
                                    "Name": "Touring-1000 Yellow, 50",
                                    "ListPrice": "2384.07",
                                    "SafetyStockLevel": "100"
                                },
                                {
                                    "Name": "Touring-1000 Yellow, 54",
                                    "ListPrice": "2384.07",
                                    "SafetyStockLevel": "100"
                                },
                                {
                                    "Name": "Touring-1000 Yellow, 60",
                                    "ListPrice": "2384.07",
                                    "SafetyStockLevel": "100"
                                },
                                {
                                    "Name": "Touring-2000 Blue, 46",
                                    "ListPrice": "1214.85",
                                    "SafetyStockLevel": "100"
                                },
                                {
                                    "Name": "Touring-2000 Blue, 50",
                                    "ListPrice": "1214.85",
                                    "SafetyStockLevel": "100"
                                },
                                {
                                    "Name": "Touring-2000 Blue, 54",
                                    "ListPrice": "1214.85",
                                    "SafetyStockLevel": "100"
                                },
                                {
                                    "Name": "Touring-2000 Blue, 60",
                                    "ListPrice": "1214.85",
                                    "SafetyStockLevel": "100"
                                },
                                {
                                    "Name": "Touring-3000 Blue, 44",
                                    "ListPrice": "742.35",
                                    "SafetyStockLevel": "100"
                                },
                                {
                                    "Name": "Touring-3000 Blue, 50",
                                    "ListPrice": "742.35",
                                    "SafetyStockLevel": "100"
                                },
                                {
                                    "Name": "Touring-3000 Blue, 54",
                                    "ListPrice": "742.35",
                                    "SafetyStockLevel": "100"
                                },
                                {
                                    "Name": "Touring-3000 Blue, 58",
                                    "ListPrice": "742.35",
                                    "SafetyStockLevel": "100"
                                },
                                {
                                    "Name": "Touring-3000 Blue, 62",
                                    "ListPrice": "742.35",
                                    "SafetyStockLevel": "100"
                                },
                                {
                                    "Name": "Touring-3000 Yellow, 44",
                                    "ListPrice": "742.35",
                                    "SafetyStockLevel": "100"
                                },
                                {
                                    "Name": "Touring-3000 Yellow, 50",
                                    "ListPrice": "742.35",
                                    "SafetyStockLevel": "100"
                                },
                                {
                                    "Name": "Touring-3000 Yellow, 54",
                                    "ListPrice": "742.35",
                                    "SafetyStockLevel": "100"
                                },
                                {
                                    "Name": "Touring-3000 Yellow, 58",
                                    "ListPrice": "742.35",
                                    "SafetyStockLevel": "100"
                                },
                                {
                                    "Name": "Touring-3000 Yellow, 62",
                                    "ListPrice": "742.35",
                                    "SafetyStockLevel": "100"
                                },
                                {
                                    "Name": "Chain",
                                    "ListPrice": "20.24",
                                    "SafetyStockLevel": "500"
                                },
                                {
                                    "Name": "Front Brakes",
                                    "ListPrice": "106.50",
                                    "SafetyStockLevel": "500"
                                },
                                {
                                    "Name": "Front Derailleur",
                                    "ListPrice": "91.49",
                                    "SafetyStockLevel": "500"
                                },
                                {
                                    "Name": "HL Bottom Bracket",
                                    "ListPrice": "121.49",
                                    "SafetyStockLevel": "500"
                                },
                                {
                                    "Name": "HL Crankset",
                                    "ListPrice": "404.99",
                                    "SafetyStockLevel": "500"
                                },
                                {
                                    "Name": "HL Mountain Frame - Black, 38",
                                    "ListPrice": "1349.60",
                                    "SafetyStockLevel": "500"
                                },
                                {
                                    "Name": "HL Mountain Frame - Black, 42",
                                    "ListPrice": "1349.60",
                                    "SafetyStockLevel": "500"
                                },
                                {
                                    "Name": "HL Mountain Frame - Black, 46",
                                    "ListPrice": "1349.60",
                                    "SafetyStockLevel": "500"
                                },
                                {
                                    "Name": "HL Mountain Frame - Silver, 38",
                                    "ListPrice": "1364.50",
                                    "SafetyStockLevel": "500"
                                },
                                {
                                    "Name": "HL Mountain Frame - Silver, 42",
                                    "ListPrice": "1364.50",
                                    "SafetyStockLevel": "500"
                                },
                                {
                                    "Name": "HL Mountain Frame - Silver, 46",
                                    "ListPrice": "1364.50",
                                    "SafetyStockLevel": "500"
                                },
                                {
                                    "Name": "HL Mountain Handlebars",
                                    "ListPrice": "120.27",
                                    "SafetyStockLevel": "500"
                                },
                                {
                                    "Name": "HL Mountain Pedal",
                                    "ListPrice": "80.99",
                                    "SafetyStockLevel": "500"
                                },
                                {
                                    "Name": "HL Mountain Seat/Saddle",
                                    "ListPrice": "52.64",
                                    "SafetyStockLevel": "500"
                                },
                                {
                                    "Name": "HL Mountain Tire",
                                    "ListPrice": "35.00",
                                    "SafetyStockLevel": "500"
                                },
                                {
                                    "Name": "HL Road Frame - Black, 44",
                                    "ListPrice": "1431.50",
                                    "SafetyStockLevel": "500"
                                },
                                {
                                    "Name": "HL Road Frame - Black, 48",
                                    "ListPrice": "1431.50",
                                    "SafetyStockLevel": "500"
                                },
                                {
                                    "Name": "HL Road Frame - Black, 52",
                                    "ListPrice": "1431.50",
                                    "SafetyStockLevel": "500"
                                },
                                {
                                    "Name": "HL Road Frame - Black, 58",
                                    "ListPrice": "1431.50",
                                    "SafetyStockLevel": "500"
                                },
                                {
                                    "Name": "HL Road Frame - Black, 62",
                                    "ListPrice": "1431.50",
                                    "SafetyStockLevel": "500"
                                },
                                {
                                    "Name": "HL Road Frame - Red, 44",
                                    "ListPrice": "1431.50",
                                    "SafetyStockLevel": "500"
                                },
                                {
                                    "Name": "HL Road Frame - Red, 48",
                                    "ListPrice": "1431.50",
                                    "SafetyStockLevel": "500"
                                },
                                {
                                    "Name": "HL Road Frame - Red, 52",
                                    "ListPrice": "1431.50",
                                    "SafetyStockLevel": "500"
                                },
                                {
                                    "Name": "HL Road Frame - Red, 56",
                                    "ListPrice": "1431.50",
                                    "SafetyStockLevel": "500"
                                },
                                {
                                    "Name": "HL Road Frame - Red, 58",
                                    "ListPrice": "1431.50",
                                    "SafetyStockLevel": "500"
                                },
                                {
                                    "Name": "HL Road Frame - Red, 62",
                                    "ListPrice": "1431.50",
                                    "SafetyStockLevel": "500"
                                },
                                {
                                    "Name": "HL Road Handlebars",
                                    "ListPrice": "120.27",
                                    "SafetyStockLevel": "500"
                                },
                                {
                                    "Name": "HL Road Pedal",
                                    "ListPrice": "80.99",
                                    "SafetyStockLevel": "500"
                                },
                                {
                                    "Name": "HL Road Seat/Saddle",
                                    "ListPrice": "52.64",
                                    "SafetyStockLevel": "500"
                                },
                                {
                                    "Name": "HL Road Tire",
                                    "ListPrice": "32.60",
                                    "SafetyStockLevel": "500"
                                },
                                {
                                    "Name": "HL Touring Frame - Blue, 46",
                                    "ListPrice": "1003.91",
                                    "SafetyStockLevel": "500"
                                },
                                {
                                    "Name": "HL Touring Frame - Blue, 50",
                                    "ListPrice": "1003.91",
                                    "SafetyStockLevel": "500"
                                },
                                {
                                    "Name": "HL Touring Frame - Blue, 54",
                                    "ListPrice": "1003.91",
                                    "SafetyStockLevel": "500"
                                },
                                {
                                    "Name": "HL Touring Frame - Blue, 60",
                                    "ListPrice": "1003.91",
                                    "SafetyStockLevel": "500"
                                },
                                {
                                    "Name": "HL Touring Frame - Yellow, 46",
                                    "ListPrice": "1003.91",
                                    "SafetyStockLevel": "500"
                                },
                                {
                                    "Name": "HL Touring Frame - Yellow, 50",
                                    "ListPrice": "1003.91",
                                    "SafetyStockLevel": "500"
                                },
                                {
                                    "Name": "HL Touring Frame - Yellow, 54",
                                    "ListPrice": "1003.91",
                                    "SafetyStockLevel": "500"
                                },
                                {
                                    "Name": "HL Touring Frame - Yellow, 60",
                                    "ListPrice": "1003.91",
                                    "SafetyStockLevel": "500"
                                },
                                {
                                    "Name": "HL Touring Handlebars",
                                    "ListPrice": "91.57",
                                    "SafetyStockLevel": "500"
                                },
                                {
                                    "Name": "HL Touring Seat/Saddle",
                                    "ListPrice": "52.64",
                                    "SafetyStockLevel": "500"
                                },
                                {
                                    "Name": "LL Bottom Bracket",
                                    "ListPrice": "53.99",
                                    "SafetyStockLevel": "500"
                                },
                                {
                                    "Name": "LL Crankset",
                                    "ListPrice": "175.49",
                                    "SafetyStockLevel": "500"
                                },
                                {
                                    "Name": "LL Mountain Frame - Black, 40",
                                    "ListPrice": "249.79",
                                    "SafetyStockLevel": "500"
                                },
                                {
                                    "Name": "LL Mountain Frame - Black, 42",
                                    "ListPrice": "249.79",
                                    "SafetyStockLevel": "500"
                                },
                                {
                                    "Name": "LL Mountain Frame - Black, 44",
                                    "ListPrice": "249.79",
                                    "SafetyStockLevel": "500"
                                },
                                {
                                    "Name": "LL Mountain Frame - Black, 48",
                                    "ListPrice": "249.79",
                                    "SafetyStockLevel": "500"
                                },
                                {
                                    "Name": "LL Mountain Frame - Black, 52",
                                    "ListPrice": "249.79",
                                    "SafetyStockLevel": "500"
                                },
                                {
                                    "Name": "LL Mountain Frame - Silver, 40",
                                    "ListPrice": "264.05",
                                    "SafetyStockLevel": "500"
                                },
                                {
                                    "Name": "LL Mountain Frame - Silver, 42",
                                    "ListPrice": "264.05",
                                    "SafetyStockLevel": "500"
                                },
                                {
                                    "Name": "LL Mountain Frame - Silver, 44",
                                    "ListPrice": "264.05",
                                    "SafetyStockLevel": "500"
                                },
                                {
                                    "Name": "LL Mountain Frame - Silver, 48",
                                    "ListPrice": "264.05",
                                    "SafetyStockLevel": "500"
                                },
                                {
                                    "Name": "LL Mountain Frame - Silver, 52",
                                    "ListPrice": "264.05",
                                    "SafetyStockLevel": "500"
                                },
                                {
                                    "Name": "LL Mountain Handlebars",
                                    "ListPrice": "44.54",
                                    "SafetyStockLevel": "500"
                                },
                                {
                                    "Name": "LL Mountain Pedal",
                                    "ListPrice": "40.49",
                                    "SafetyStockLevel": "500"
                                },
                                {
                                    "Name": "LL Mountain Seat/Saddle",
                                    "ListPrice": "27.12",
                                    "SafetyStockLevel": "500"
                                },
                                {
                                    "Name": "LL Mountain Tire",
                                    "ListPrice": "24.99",
                                    "SafetyStockLevel": "500"
                                },
                                {
                                    "Name": "LL Road Frame - Black, 44",
                                    "ListPrice": "337.22",
                                    "SafetyStockLevel": "500"
                                },
                                {
                                    "Name": "LL Road Frame - Black, 48",
                                    "ListPrice": "337.22",
                                    "SafetyStockLevel": "500"
                                },
                                {
                                    "Name": "LL Road Frame - Black, 52",
                                    "ListPrice": "337.22",
                                    "SafetyStockLevel": "500"
                                },
                                {
                                    "Name": "LL Road Frame - Black, 58",
                                    "ListPrice": "337.22",
                                    "SafetyStockLevel": "500"
                                },
                                {
                                    "Name": "LL Road Frame - Black, 60",
                                    "ListPrice": "337.22",
                                    "SafetyStockLevel": "500"
                                },
                                {
                                    "Name": "LL Road Frame - Black, 62",
                                    "ListPrice": "337.22",
                                    "SafetyStockLevel": "500"
                                },
                                {
                                    "Name": "LL Road Handlebars",
                                    "ListPrice": "44.54",
                                    "SafetyStockLevel": "500"
                                },
                                {
                                    "Name": "LL Road Pedal",
                                    "ListPrice": "40.49",
                                    "SafetyStockLevel": "500"
                                },
                                {
                                    "Name": "LL Road Seat/Saddle",
                                    "ListPrice": "27.12",
                                    "SafetyStockLevel": "500"
                                },
                                {
                                    "Name": "LL Road Tire",
                                    "ListPrice": "21.49",
                                    "SafetyStockLevel": "500"
                                },
                                {
                                    "Name": "LL Touring Frame - Blue, 44",
                                    "ListPrice": "333.42",
                                    "SafetyStockLevel": "500"
                                },
                                {
                                    "Name": "LL Touring Frame - Blue, 50",
                                    "ListPrice": "333.42",
                                    "SafetyStockLevel": "500"
                                },
                                {
                                    "Name": "LL Touring Frame - Blue, 54",
                                    "ListPrice": "333.42",
                                    "SafetyStockLevel": "500"
                                },
                                {
                                    "Name": "LL Touring Frame - Blue, 58",
                                    "ListPrice": "333.42",
                                    "SafetyStockLevel": "500"
                                },
                                {
                                    "Name": "LL Touring Frame - Blue, 62",
                                    "ListPrice": "333.42",
                                    "SafetyStockLevel": "500"
                                },
                                {
                                    "Name": "LL Touring Frame - Yellow, 44",
                                    "ListPrice": "333.42",
                                    "SafetyStockLevel": "500"
                                },
                                {
                                    "Name": "LL Touring Frame - Yellow, 50",
                                    "ListPrice": "333.42",
                                    "SafetyStockLevel": "500"
                                },
                                {
                                    "Name": "LL Touring Frame - Yellow, 54",
                                    "ListPrice": "333.42",
                                    "SafetyStockLevel": "500"
                                },
                                {
                                    "Name": "LL Touring Frame - Yellow, 58",
                                    "ListPrice": "333.42",
                                    "SafetyStockLevel": "500"
                                },
                                {
                                    "Name": "LL Touring Frame - Yellow, 62",
                                    "ListPrice": "333.42",
                                    "SafetyStockLevel": "500"
                                },
                                {
                                    "Name": "LL Touring Handlebars",
                                    "ListPrice": "46.09",
                                    "SafetyStockLevel": "500"
                                },
                                {
                                    "Name": "LL Touring Seat/Saddle",
                                    "ListPrice": "27.12",
                                    "SafetyStockLevel": "500"
                                },
                                {
                                    "Name": "ML Bottom Bracket",
                                    "ListPrice": "101.24",
                                    "SafetyStockLevel": "500"
                                },
                                {
                                    "Name": "ML Crankset",
                                    "ListPrice": "256.49",
                                    "SafetyStockLevel": "500"
                                },
                                {
                                    "Name": "ML Mountain Frame-W - Silver, 38",
                                    "ListPrice": "364.09",
                                    "SafetyStockLevel": "500"
                                },
                                {
                                    "Name": "ML Mountain Frame-W - Silver, 40",
                                    "ListPrice": "364.09",
                                    "SafetyStockLevel": "500"
                                },
                                {
                                    "Name": "ML Mountain Frame-W - Silver, 42",
                                    "ListPrice": "364.09",
                                    "SafetyStockLevel": "500"
                                },
                                {
                                    "Name": "ML Mountain Frame-W - Silver, 46",
                                    "ListPrice": "364.09",
                                    "SafetyStockLevel": "500"
                                },
                                {
                                    "Name": "ML Mountain Handlebars",
                                    "ListPrice": "61.92",
                                    "SafetyStockLevel": "500"
                                },
                                {
                                    "Name": "ML Mountain Pedal",
                                    "ListPrice": "62.09",
                                    "SafetyStockLevel": "500"
                                },
                                {
                                    "Name": "ML Mountain Seat/Saddle",
                                    "ListPrice": "39.14",
                                    "SafetyStockLevel": "500"
                                },
                                {
                                    "Name": "ML Mountain Tire",
                                    "ListPrice": "29.99",
                                    "SafetyStockLevel": "500"
                                },
                                {
                                    "Name": "ML Road Frame-W - Yellow, 38",
                                    "ListPrice": "594.83",
                                    "SafetyStockLevel": "500"
                                },
                                {
                                    "Name": "ML Road Frame-W - Yellow, 40",
                                    "ListPrice": "594.83",
                                    "SafetyStockLevel": "500"
                                },
                                {
                                    "Name": "ML Road Frame-W - Yellow, 42",
                                    "ListPrice": "594.83",
                                    "SafetyStockLevel": "500"
                                },
                                {
                                    "Name": "ML Road Frame-W - Yellow, 44",
                                    "ListPrice": "594.83",
                                    "SafetyStockLevel": "500"
                                },
                                {
                                    "Name": "ML Road Frame-W - Yellow, 48",
                                    "ListPrice": "594.83",
                                    "SafetyStockLevel": "500"
                                },
                                {
                                    "Name": "ML Road Handlebars",
                                    "ListPrice": "61.92",
                                    "SafetyStockLevel": "500"
                                },
                                {
                                    "Name": "ML Road Pedal",
                                    "ListPrice": "62.09",
                                    "SafetyStockLevel": "500"
                                },
                                {
                                    "Name": "ML Road Seat/Saddle",
                                    "ListPrice": "39.14",
                                    "SafetyStockLevel": "500"
                                },
                                {
                                    "Name": "ML Road Tire",
                                    "ListPrice": "24.99",
                                    "SafetyStockLevel": "500"
                                },
                                {
                                    "Name": "ML Touring Seat/Saddle",
                                    "ListPrice": "39.14",
                                    "SafetyStockLevel": "500"
                                },
                                {
                                    "Name": "Mountain Tire Tube",
                                    "ListPrice": "4.99",
                                    "SafetyStockLevel": "500"
                                },
                                {
                                    "Name": "Rear Brakes",
                                    "ListPrice": "106.50",
                                    "SafetyStockLevel": "500"
                                },
                                {
                                    "Name": "Rear Derailleur",
                                    "ListPrice": "121.46",
                                    "SafetyStockLevel": "500"
                                },
                                {
                                    "Name": "Road Tire Tube",
                                    "ListPrice": "3.99",
                                    "SafetyStockLevel": "500"
                                },
                                {
                                    "Name": "Touring Pedal",
                                    "ListPrice": "80.99",
                                    "SafetyStockLevel": "500"
                                },
                                {
                                    "Name": "Touring Tire",
                                    "ListPrice": "28.99",
                                    "SafetyStockLevel": "500"
                                },
                                {
                                    "Name": "Touring Tire Tube",
                                    "ListPrice": "4.99",
                                    "SafetyStockLevel": "500"
                                }
                            ]
                        },
                        "text/html": "<table><tr><th>Name</th><th>ListPrice</th><th>SafetyStockLevel</th></tr><tr><td>All-Purpose Bike Stand</td><td>159.00</td><td>4</td></tr><tr><td>AWC Logo Cap</td><td>8.99</td><td>4</td></tr><tr><td>Bike Wash - Dissolver</td><td>7.95</td><td>4</td></tr><tr><td>Classic Vest, L</td><td>63.50</td><td>4</td></tr><tr><td>Classic Vest, M</td><td>63.50</td><td>4</td></tr><tr><td>Classic Vest, S</td><td>63.50</td><td>4</td></tr><tr><td>Fender Set - Mountain</td><td>21.98</td><td>4</td></tr><tr><td>Half-Finger Gloves, L</td><td>24.49</td><td>4</td></tr><tr><td>Half-Finger Gloves, M</td><td>24.49</td><td>4</td></tr><tr><td>Half-Finger Gloves, S</td><td>24.49</td><td>4</td></tr><tr><td>Hitch Rack - 4-Bike</td><td>120.00</td><td>4</td></tr><tr><td>Hydration Pack - 70 oz.</td><td>54.99</td><td>4</td></tr><tr><td>Long-Sleeve Logo Jersey, L</td><td>49.99</td><td>4</td></tr><tr><td>Long-Sleeve Logo Jersey, M</td><td>49.99</td><td>4</td></tr><tr><td>Long-Sleeve Logo Jersey, S</td><td>49.99</td><td>4</td></tr><tr><td>Long-Sleeve Logo Jersey, XL</td><td>49.99</td><td>4</td></tr><tr><td>Mountain Bottle Cage</td><td>9.99</td><td>4</td></tr><tr><td>Patch Kit/8 Patches</td><td>2.29</td><td>4</td></tr><tr><td>Racing Socks, L</td><td>8.99</td><td>4</td></tr><tr><td>Racing Socks, M</td><td>8.99</td><td>4</td></tr><tr><td>Road Bottle Cage</td><td>8.99</td><td>4</td></tr><tr><td>Short-Sleeve Classic Jersey, L</td><td>53.99</td><td>4</td></tr><tr><td>Short-Sleeve Classic Jersey, M</td><td>53.99</td><td>4</td></tr><tr><td>Short-Sleeve Classic Jersey, S</td><td>53.99</td><td>4</td></tr><tr><td>Short-Sleeve Classic Jersey, XL</td><td>53.99</td><td>4</td></tr><tr><td>Sport-100 Helmet, Black</td><td>34.99</td><td>4</td></tr><tr><td>Sport-100 Helmet, Blue</td><td>34.99</td><td>4</td></tr><tr><td>Sport-100 Helmet, Red</td><td>34.99</td><td>4</td></tr><tr><td>Water Bottle - 30 oz.</td><td>4.99</td><td>4</td></tr><tr><td>Women&#39;s Mountain Shorts, L</td><td>69.99</td><td>4</td></tr><tr><td>Women&#39;s Mountain Shorts, M</td><td>69.99</td><td>4</td></tr><tr><td>Women&#39;s Mountain Shorts, S</td><td>69.99</td><td>4</td></tr><tr><td>Mountain-200 Black, 38</td><td>2294.99</td><td>100</td></tr><tr><td>Mountain-200 Black, 42</td><td>2294.99</td><td>100</td></tr><tr><td>Mountain-200 Black, 46</td><td>2294.99</td><td>100</td></tr><tr><td>Mountain-200 Silver, 38</td><td>2319.99</td><td>100</td></tr><tr><td>Mountain-200 Silver, 42</td><td>2319.99</td><td>100</td></tr><tr><td>Mountain-200 Silver, 46</td><td>2319.99</td><td>100</td></tr><tr><td>Mountain-400-W Silver, 38</td><td>769.49</td><td>100</td></tr><tr><td>Mountain-400-W Silver, 40</td><td>769.49</td><td>100</td></tr><tr><td>Mountain-400-W Silver, 42</td><td>769.49</td><td>100</td></tr><tr><td>Mountain-400-W Silver, 46</td><td>769.49</td><td>100</td></tr><tr><td>Mountain-500 Black, 40</td><td>539.99</td><td>100</td></tr><tr><td>Mountain-500 Black, 42</td><td>539.99</td><td>100</td></tr><tr><td>Mountain-500 Black, 44</td><td>539.99</td><td>100</td></tr><tr><td>Mountain-500 Black, 48</td><td>539.99</td><td>100</td></tr><tr><td>Mountain-500 Black, 52</td><td>539.99</td><td>100</td></tr><tr><td>Mountain-500 Silver, 40</td><td>564.99</td><td>100</td></tr><tr><td>Mountain-500 Silver, 42</td><td>564.99</td><td>100</td></tr><tr><td>Mountain-500 Silver, 44</td><td>564.99</td><td>100</td></tr><tr><td>Mountain-500 Silver, 48</td><td>564.99</td><td>100</td></tr><tr><td>Mountain-500 Silver, 52</td><td>564.99</td><td>100</td></tr><tr><td>Road-250 Black, 44</td><td>2443.35</td><td>100</td></tr><tr><td>Road-250 Black, 48</td><td>2443.35</td><td>100</td></tr><tr><td>Road-250 Black, 52</td><td>2443.35</td><td>100</td></tr><tr><td>Road-250 Black, 58</td><td>2443.35</td><td>100</td></tr><tr><td>Road-250 Red, 58</td><td>2443.35</td><td>100</td></tr><tr><td>Road-350-W Yellow, 40</td><td>1700.99</td><td>100</td></tr><tr><td>Road-350-W Yellow, 42</td><td>1700.99</td><td>100</td></tr><tr><td>Road-350-W Yellow, 44</td><td>1700.99</td><td>100</td></tr><tr><td>Road-350-W Yellow, 48</td><td>1700.99</td><td>100</td></tr><tr><td>Road-550-W Yellow, 38</td><td>1120.49</td><td>100</td></tr><tr><td>Road-550-W Yellow, 40</td><td>1120.49</td><td>100</td></tr><tr><td>Road-550-W Yellow, 42</td><td>1120.49</td><td>100</td></tr><tr><td>Road-550-W Yellow, 44</td><td>1120.49</td><td>100</td></tr><tr><td>Road-550-W Yellow, 48</td><td>1120.49</td><td>100</td></tr><tr><td>Road-750 Black, 44</td><td>539.99</td><td>100</td></tr><tr><td>Road-750 Black, 48</td><td>539.99</td><td>100</td></tr><tr><td>Road-750 Black, 52</td><td>539.99</td><td>100</td></tr><tr><td>Road-750 Black, 58</td><td>539.99</td><td>100</td></tr><tr><td>Touring-1000 Blue, 46</td><td>2384.07</td><td>100</td></tr><tr><td>Touring-1000 Blue, 50</td><td>2384.07</td><td>100</td></tr><tr><td>Touring-1000 Blue, 54</td><td>2384.07</td><td>100</td></tr><tr><td>Touring-1000 Blue, 60</td><td>2384.07</td><td>100</td></tr><tr><td>Touring-1000 Yellow, 46</td><td>2384.07</td><td>100</td></tr><tr><td>Touring-1000 Yellow, 50</td><td>2384.07</td><td>100</td></tr><tr><td>Touring-1000 Yellow, 54</td><td>2384.07</td><td>100</td></tr><tr><td>Touring-1000 Yellow, 60</td><td>2384.07</td><td>100</td></tr><tr><td>Touring-2000 Blue, 46</td><td>1214.85</td><td>100</td></tr><tr><td>Touring-2000 Blue, 50</td><td>1214.85</td><td>100</td></tr><tr><td>Touring-2000 Blue, 54</td><td>1214.85</td><td>100</td></tr><tr><td>Touring-2000 Blue, 60</td><td>1214.85</td><td>100</td></tr><tr><td>Touring-3000 Blue, 44</td><td>742.35</td><td>100</td></tr><tr><td>Touring-3000 Blue, 50</td><td>742.35</td><td>100</td></tr><tr><td>Touring-3000 Blue, 54</td><td>742.35</td><td>100</td></tr><tr><td>Touring-3000 Blue, 58</td><td>742.35</td><td>100</td></tr><tr><td>Touring-3000 Blue, 62</td><td>742.35</td><td>100</td></tr><tr><td>Touring-3000 Yellow, 44</td><td>742.35</td><td>100</td></tr><tr><td>Touring-3000 Yellow, 50</td><td>742.35</td><td>100</td></tr><tr><td>Touring-3000 Yellow, 54</td><td>742.35</td><td>100</td></tr><tr><td>Touring-3000 Yellow, 58</td><td>742.35</td><td>100</td></tr><tr><td>Touring-3000 Yellow, 62</td><td>742.35</td><td>100</td></tr><tr><td>Chain</td><td>20.24</td><td>500</td></tr><tr><td>Front Brakes</td><td>106.50</td><td>500</td></tr><tr><td>Front Derailleur</td><td>91.49</td><td>500</td></tr><tr><td>HL Bottom Bracket</td><td>121.49</td><td>500</td></tr><tr><td>HL Crankset</td><td>404.99</td><td>500</td></tr><tr><td>HL Mountain Frame - Black, 38</td><td>1349.60</td><td>500</td></tr><tr><td>HL Mountain Frame - Black, 42</td><td>1349.60</td><td>500</td></tr><tr><td>HL Mountain Frame - Black, 46</td><td>1349.60</td><td>500</td></tr><tr><td>HL Mountain Frame - Silver, 38</td><td>1364.50</td><td>500</td></tr><tr><td>HL Mountain Frame - Silver, 42</td><td>1364.50</td><td>500</td></tr><tr><td>HL Mountain Frame - Silver, 46</td><td>1364.50</td><td>500</td></tr><tr><td>HL Mountain Handlebars</td><td>120.27</td><td>500</td></tr><tr><td>HL Mountain Pedal</td><td>80.99</td><td>500</td></tr><tr><td>HL Mountain Seat/Saddle</td><td>52.64</td><td>500</td></tr><tr><td>HL Mountain Tire</td><td>35.00</td><td>500</td></tr><tr><td>HL Road Frame - Black, 44</td><td>1431.50</td><td>500</td></tr><tr><td>HL Road Frame - Black, 48</td><td>1431.50</td><td>500</td></tr><tr><td>HL Road Frame - Black, 52</td><td>1431.50</td><td>500</td></tr><tr><td>HL Road Frame - Black, 58</td><td>1431.50</td><td>500</td></tr><tr><td>HL Road Frame - Black, 62</td><td>1431.50</td><td>500</td></tr><tr><td>HL Road Frame - Red, 44</td><td>1431.50</td><td>500</td></tr><tr><td>HL Road Frame - Red, 48</td><td>1431.50</td><td>500</td></tr><tr><td>HL Road Frame - Red, 52</td><td>1431.50</td><td>500</td></tr><tr><td>HL Road Frame - Red, 56</td><td>1431.50</td><td>500</td></tr><tr><td>HL Road Frame - Red, 58</td><td>1431.50</td><td>500</td></tr><tr><td>HL Road Frame - Red, 62</td><td>1431.50</td><td>500</td></tr><tr><td>HL Road Handlebars</td><td>120.27</td><td>500</td></tr><tr><td>HL Road Pedal</td><td>80.99</td><td>500</td></tr><tr><td>HL Road Seat/Saddle</td><td>52.64</td><td>500</td></tr><tr><td>HL Road Tire</td><td>32.60</td><td>500</td></tr><tr><td>HL Touring Frame - Blue, 46</td><td>1003.91</td><td>500</td></tr><tr><td>HL Touring Frame - Blue, 50</td><td>1003.91</td><td>500</td></tr><tr><td>HL Touring Frame - Blue, 54</td><td>1003.91</td><td>500</td></tr><tr><td>HL Touring Frame - Blue, 60</td><td>1003.91</td><td>500</td></tr><tr><td>HL Touring Frame - Yellow, 46</td><td>1003.91</td><td>500</td></tr><tr><td>HL Touring Frame - Yellow, 50</td><td>1003.91</td><td>500</td></tr><tr><td>HL Touring Frame - Yellow, 54</td><td>1003.91</td><td>500</td></tr><tr><td>HL Touring Frame - Yellow, 60</td><td>1003.91</td><td>500</td></tr><tr><td>HL Touring Handlebars</td><td>91.57</td><td>500</td></tr><tr><td>HL Touring Seat/Saddle</td><td>52.64</td><td>500</td></tr><tr><td>LL Bottom Bracket</td><td>53.99</td><td>500</td></tr><tr><td>LL Crankset</td><td>175.49</td><td>500</td></tr><tr><td>LL Mountain Frame - Black, 40</td><td>249.79</td><td>500</td></tr><tr><td>LL Mountain Frame - Black, 42</td><td>249.79</td><td>500</td></tr><tr><td>LL Mountain Frame - Black, 44</td><td>249.79</td><td>500</td></tr><tr><td>LL Mountain Frame - Black, 48</td><td>249.79</td><td>500</td></tr><tr><td>LL Mountain Frame - Black, 52</td><td>249.79</td><td>500</td></tr><tr><td>LL Mountain Frame - Silver, 40</td><td>264.05</td><td>500</td></tr><tr><td>LL Mountain Frame - Silver, 42</td><td>264.05</td><td>500</td></tr><tr><td>LL Mountain Frame - Silver, 44</td><td>264.05</td><td>500</td></tr><tr><td>LL Mountain Frame - Silver, 48</td><td>264.05</td><td>500</td></tr><tr><td>LL Mountain Frame - Silver, 52</td><td>264.05</td><td>500</td></tr><tr><td>LL Mountain Handlebars</td><td>44.54</td><td>500</td></tr><tr><td>LL Mountain Pedal</td><td>40.49</td><td>500</td></tr><tr><td>LL Mountain Seat/Saddle</td><td>27.12</td><td>500</td></tr><tr><td>LL Mountain Tire</td><td>24.99</td><td>500</td></tr><tr><td>LL Road Frame - Black, 44</td><td>337.22</td><td>500</td></tr><tr><td>LL Road Frame - Black, 48</td><td>337.22</td><td>500</td></tr><tr><td>LL Road Frame - Black, 52</td><td>337.22</td><td>500</td></tr><tr><td>LL Road Frame - Black, 58</td><td>337.22</td><td>500</td></tr><tr><td>LL Road Frame - Black, 60</td><td>337.22</td><td>500</td></tr><tr><td>LL Road Frame - Black, 62</td><td>337.22</td><td>500</td></tr><tr><td>LL Road Handlebars</td><td>44.54</td><td>500</td></tr><tr><td>LL Road Pedal</td><td>40.49</td><td>500</td></tr><tr><td>LL Road Seat/Saddle</td><td>27.12</td><td>500</td></tr><tr><td>LL Road Tire</td><td>21.49</td><td>500</td></tr><tr><td>LL Touring Frame - Blue, 44</td><td>333.42</td><td>500</td></tr><tr><td>LL Touring Frame - Blue, 50</td><td>333.42</td><td>500</td></tr><tr><td>LL Touring Frame - Blue, 54</td><td>333.42</td><td>500</td></tr><tr><td>LL Touring Frame - Blue, 58</td><td>333.42</td><td>500</td></tr><tr><td>LL Touring Frame - Blue, 62</td><td>333.42</td><td>500</td></tr><tr><td>LL Touring Frame - Yellow, 44</td><td>333.42</td><td>500</td></tr><tr><td>LL Touring Frame - Yellow, 50</td><td>333.42</td><td>500</td></tr><tr><td>LL Touring Frame - Yellow, 54</td><td>333.42</td><td>500</td></tr><tr><td>LL Touring Frame - Yellow, 58</td><td>333.42</td><td>500</td></tr><tr><td>LL Touring Frame - Yellow, 62</td><td>333.42</td><td>500</td></tr><tr><td>LL Touring Handlebars</td><td>46.09</td><td>500</td></tr><tr><td>LL Touring Seat/Saddle</td><td>27.12</td><td>500</td></tr><tr><td>ML Bottom Bracket</td><td>101.24</td><td>500</td></tr><tr><td>ML Crankset</td><td>256.49</td><td>500</td></tr><tr><td>ML Mountain Frame-W - Silver, 38</td><td>364.09</td><td>500</td></tr><tr><td>ML Mountain Frame-W - Silver, 40</td><td>364.09</td><td>500</td></tr><tr><td>ML Mountain Frame-W - Silver, 42</td><td>364.09</td><td>500</td></tr><tr><td>ML Mountain Frame-W - Silver, 46</td><td>364.09</td><td>500</td></tr><tr><td>ML Mountain Handlebars</td><td>61.92</td><td>500</td></tr><tr><td>ML Mountain Pedal</td><td>62.09</td><td>500</td></tr><tr><td>ML Mountain Seat/Saddle</td><td>39.14</td><td>500</td></tr><tr><td>ML Mountain Tire</td><td>29.99</td><td>500</td></tr><tr><td>ML Road Frame-W - Yellow, 38</td><td>594.83</td><td>500</td></tr><tr><td>ML Road Frame-W - Yellow, 40</td><td>594.83</td><td>500</td></tr><tr><td>ML Road Frame-W - Yellow, 42</td><td>594.83</td><td>500</td></tr><tr><td>ML Road Frame-W - Yellow, 44</td><td>594.83</td><td>500</td></tr><tr><td>ML Road Frame-W - Yellow, 48</td><td>594.83</td><td>500</td></tr><tr><td>ML Road Handlebars</td><td>61.92</td><td>500</td></tr><tr><td>ML Road Pedal</td><td>62.09</td><td>500</td></tr><tr><td>ML Road Seat/Saddle</td><td>39.14</td><td>500</td></tr><tr><td>ML Road Tire</td><td>24.99</td><td>500</td></tr><tr><td>ML Touring Seat/Saddle</td><td>39.14</td><td>500</td></tr><tr><td>Mountain Tire Tube</td><td>4.99</td><td>500</td></tr><tr><td>Rear Brakes</td><td>106.50</td><td>500</td></tr><tr><td>Rear Derailleur</td><td>121.46</td><td>500</td></tr><tr><td>Road Tire Tube</td><td>3.99</td><td>500</td></tr><tr><td>Touring Pedal</td><td>80.99</td><td>500</td></tr><tr><td>Touring Tire</td><td>28.99</td><td>500</td></tr><tr><td>Touring Tire Tube</td><td>4.99</td><td>500</td></tr></table>"
                    },
                    "metadata": {}
                }
            ],
            "execution_count": 4
        },
        {
            "cell_type": "markdown",
            "source": [
                "### Problem 5 (6 points)\n",
                "\n",
                "The product management team wants to verify that the colors of all products are listed correctly in the database. Write a SQL query to produce a table that include any product where the **product name** contains **yellow** but the **color field** is **not set to yellow**. The table should include 2 columns: **product name** and **color**. Sort the results by product name in ascending order.\n",
                "\n",
                "**Hint**: Pay attention to the `NULL` values in the color field."
            ],
            "metadata": {
                "azdata_cell_guid": "6d2e0cee-99bb-45f8-a248-1d1b9a40a0b0",
                "language": "sql",
                "id": "jj5Fz2Skq2ri"
            }
        },
        {
            "cell_type": "code",
            "source": [
                "-- Your code here\n",
                "SELECT [Name], Color\n",
                "FROM Production.Product\n",
                "WHERE [Name] Like '%yellow%' AND (Color !='yellow' OR Color IS NULL)\n",
                "ORDER BY [Name];"
            ],
            "metadata": {
                "azdata_cell_guid": "e8d16394-2e18-417f-be54-c2d176462096",
                "language": "sql",
                "tags": [],
                "id": "sVLbA5oYq2ri"
            },
            "outputs": [
                {
                    "output_type": "display_data",
                    "data": {
                        "text/html": "(2 rows affected)"
                    },
                    "metadata": {}
                },
                {
                    "output_type": "display_data",
                    "data": {
                        "text/html": "Total execution time: 00:00:00.064"
                    },
                    "metadata": {}
                },
                {
                    "output_type": "execute_result",
                    "execution_count": 5,
                    "data": {
                        "application/vnd.dataresource+json": {
                            "schema": {
                                "fields": [
                                    {
                                        "name": "Name"
                                    },
                                    {
                                        "name": "Color"
                                    }
                                ]
                            },
                            "data": [
                                {
                                    "Name": "Paint - Yellow",
                                    "Color": "NULL"
                                },
                                {
                                    "Name": "Road-550-W Yellow, 40",
                                    "Color": "Blue"
                                }
                            ]
                        },
                        "text/html": "<table><tr><th>Name</th><th>Color</th></tr><tr><td>Paint - Yellow</td><td>NULL</td></tr><tr><td>Road-550-W Yellow, 40</td><td>Blue</td></tr></table>"
                    },
                    "metadata": {}
                }
            ],
            "execution_count": 5
        },
        {
            "cell_type": "markdown",
            "source": [
                "### Problem 6 (6 points)\n",
                "\n",
                "As part of the product refresh cycle, the product managers want to perform a review of all products that AdventureWorks **started selling in 2012** and **are currently being sold**. Write a SQL query to produce a table containing those products. The table should include 2 columns: **product name** and **sell start date**. Sort the results by product name in ascending order."
            ],
            "metadata": {
                "azdata_cell_guid": "c2ec14c1-3971-4db5-a489-96748e7243a4",
                "language": "sql",
                "id": "9OPtyNvAq2rj"
            }
        },
        {
            "cell_type": "code",
            "source": [
                "-- Your code here\n",
                "SELECT [Name], SellStartDate\n",
                "FROM Production.Product\n",
                "WHERE DATENAME(YEAR,SellStartDate)=2012 AND SellEndDate IS NULL \n",
                "ORDER BY [Name];"
            ],
            "metadata": {
                "language": "sql",
                "azdata_cell_guid": "676b6ab5-2816-4fbc-afad-3bc24fc1ac85",
                "id": "echuU4orq2rj"
            },
            "outputs": [
                {
                    "output_type": "display_data",
                    "data": {
                        "text/html": "(34 rows affected)"
                    },
                    "metadata": {}
                },
                {
                    "output_type": "display_data",
                    "data": {
                        "text/html": "Total execution time: 00:00:00.142"
                    },
                    "metadata": {}
                },
                {
                    "output_type": "execute_result",
                    "execution_count": 6,
                    "data": {
                        "application/vnd.dataresource+json": {
                            "schema": {
                                "fields": [
                                    {
                                        "name": "Name"
                                    },
                                    {
                                        "name": "SellStartDate"
                                    }
                                ]
                            },
                            "data": [
                                {
                                    "Name": "Half-Finger Gloves, L",
                                    "SellStartDate": "2012-05-30 00:00:00.000"
                                },
                                {
                                    "Name": "Half-Finger Gloves, M",
                                    "SellStartDate": "2012-05-30 00:00:00.000"
                                },
                                {
                                    "Name": "Half-Finger Gloves, S",
                                    "SellStartDate": "2012-05-30 00:00:00.000"
                                },
                                {
                                    "Name": "HL Mountain Handlebars",
                                    "SellStartDate": "2012-05-30 00:00:00.000"
                                },
                                {
                                    "Name": "HL Road Frame - Black, 44",
                                    "SellStartDate": "2012-05-30 00:00:00.000"
                                },
                                {
                                    "Name": "HL Road Frame - Black, 48",
                                    "SellStartDate": "2012-05-30 00:00:00.000"
                                },
                                {
                                    "Name": "HL Road Frame - Black, 52",
                                    "SellStartDate": "2012-05-30 00:00:00.000"
                                },
                                {
                                    "Name": "HL Road Frame - Black, 62",
                                    "SellStartDate": "2012-05-30 00:00:00.000"
                                },
                                {
                                    "Name": "HL Road Handlebars",
                                    "SellStartDate": "2012-05-30 00:00:00.000"
                                },
                                {
                                    "Name": "LL Mountain Handlebars",
                                    "SellStartDate": "2012-05-30 00:00:00.000"
                                },
                                {
                                    "Name": "LL Road Handlebars",
                                    "SellStartDate": "2012-05-30 00:00:00.000"
                                },
                                {
                                    "Name": "ML Mountain Handlebars",
                                    "SellStartDate": "2012-05-30 00:00:00.000"
                                },
                                {
                                    "Name": "ML Road Frame-W - Yellow, 38",
                                    "SellStartDate": "2012-05-30 00:00:00.000"
                                },
                                {
                                    "Name": "ML Road Frame-W - Yellow, 40",
                                    "SellStartDate": "2012-05-30 00:00:00.000"
                                },
                                {
                                    "Name": "ML Road Frame-W - Yellow, 42",
                                    "SellStartDate": "2012-05-30 00:00:00.000"
                                },
                                {
                                    "Name": "ML Road Frame-W - Yellow, 44",
                                    "SellStartDate": "2012-05-30 00:00:00.000"
                                },
                                {
                                    "Name": "ML Road Frame-W - Yellow, 48",
                                    "SellStartDate": "2012-05-30 00:00:00.000"
                                },
                                {
                                    "Name": "ML Road Handlebars",
                                    "SellStartDate": "2012-05-30 00:00:00.000"
                                },
                                {
                                    "Name": "Mountain-200 Black, 38",
                                    "SellStartDate": "2012-05-30 00:00:00.000"
                                },
                                {
                                    "Name": "Mountain-200 Black, 42",
                                    "SellStartDate": "2012-05-30 00:00:00.000"
                                },
                                {
                                    "Name": "Mountain-200 Black, 46",
                                    "SellStartDate": "2012-05-30 00:00:00.000"
                                },
                                {
                                    "Name": "Mountain-200 Silver, 38",
                                    "SellStartDate": "2012-05-30 00:00:00.000"
                                },
                                {
                                    "Name": "Mountain-200 Silver, 42",
                                    "SellStartDate": "2012-05-30 00:00:00.000"
                                },
                                {
                                    "Name": "Mountain-200 Silver, 46",
                                    "SellStartDate": "2012-05-30 00:00:00.000"
                                },
                                {
                                    "Name": "Road-250 Black, 44",
                                    "SellStartDate": "2012-05-30 00:00:00.000"
                                },
                                {
                                    "Name": "Road-250 Black, 48",
                                    "SellStartDate": "2012-05-30 00:00:00.000"
                                },
                                {
                                    "Name": "Road-250 Black, 52",
                                    "SellStartDate": "2012-05-30 00:00:00.000"
                                },
                                {
                                    "Name": "Road-250 Black, 58",
                                    "SellStartDate": "2012-05-30 00:00:00.000"
                                },
                                {
                                    "Name": "Road-250 Red, 58",
                                    "SellStartDate": "2012-05-30 00:00:00.000"
                                },
                                {
                                    "Name": "Road-550-W Yellow, 38",
                                    "SellStartDate": "2012-05-30 00:00:00.000"
                                },
                                {
                                    "Name": "Road-550-W Yellow, 40",
                                    "SellStartDate": "2012-05-30 00:00:00.000"
                                },
                                {
                                    "Name": "Road-550-W Yellow, 42",
                                    "SellStartDate": "2012-05-30 00:00:00.000"
                                },
                                {
                                    "Name": "Road-550-W Yellow, 44",
                                    "SellStartDate": "2012-05-30 00:00:00.000"
                                },
                                {
                                    "Name": "Road-550-W Yellow, 48",
                                    "SellStartDate": "2012-05-30 00:00:00.000"
                                }
                            ]
                        },
                        "text/html": "<table><tr><th>Name</th><th>SellStartDate</th></tr><tr><td>Half-Finger Gloves, L</td><td>2012-05-30 00:00:00.000</td></tr><tr><td>Half-Finger Gloves, M</td><td>2012-05-30 00:00:00.000</td></tr><tr><td>Half-Finger Gloves, S</td><td>2012-05-30 00:00:00.000</td></tr><tr><td>HL Mountain Handlebars</td><td>2012-05-30 00:00:00.000</td></tr><tr><td>HL Road Frame - Black, 44</td><td>2012-05-30 00:00:00.000</td></tr><tr><td>HL Road Frame - Black, 48</td><td>2012-05-30 00:00:00.000</td></tr><tr><td>HL Road Frame - Black, 52</td><td>2012-05-30 00:00:00.000</td></tr><tr><td>HL Road Frame - Black, 62</td><td>2012-05-30 00:00:00.000</td></tr><tr><td>HL Road Handlebars</td><td>2012-05-30 00:00:00.000</td></tr><tr><td>LL Mountain Handlebars</td><td>2012-05-30 00:00:00.000</td></tr><tr><td>LL Road Handlebars</td><td>2012-05-30 00:00:00.000</td></tr><tr><td>ML Mountain Handlebars</td><td>2012-05-30 00:00:00.000</td></tr><tr><td>ML Road Frame-W - Yellow, 38</td><td>2012-05-30 00:00:00.000</td></tr><tr><td>ML Road Frame-W - Yellow, 40</td><td>2012-05-30 00:00:00.000</td></tr><tr><td>ML Road Frame-W - Yellow, 42</td><td>2012-05-30 00:00:00.000</td></tr><tr><td>ML Road Frame-W - Yellow, 44</td><td>2012-05-30 00:00:00.000</td></tr><tr><td>ML Road Frame-W - Yellow, 48</td><td>2012-05-30 00:00:00.000</td></tr><tr><td>ML Road Handlebars</td><td>2012-05-30 00:00:00.000</td></tr><tr><td>Mountain-200 Black, 38</td><td>2012-05-30 00:00:00.000</td></tr><tr><td>Mountain-200 Black, 42</td><td>2012-05-30 00:00:00.000</td></tr><tr><td>Mountain-200 Black, 46</td><td>2012-05-30 00:00:00.000</td></tr><tr><td>Mountain-200 Silver, 38</td><td>2012-05-30 00:00:00.000</td></tr><tr><td>Mountain-200 Silver, 42</td><td>2012-05-30 00:00:00.000</td></tr><tr><td>Mountain-200 Silver, 46</td><td>2012-05-30 00:00:00.000</td></tr><tr><td>Road-250 Black, 44</td><td>2012-05-30 00:00:00.000</td></tr><tr><td>Road-250 Black, 48</td><td>2012-05-30 00:00:00.000</td></tr><tr><td>Road-250 Black, 52</td><td>2012-05-30 00:00:00.000</td></tr><tr><td>Road-250 Black, 58</td><td>2012-05-30 00:00:00.000</td></tr><tr><td>Road-250 Red, 58</td><td>2012-05-30 00:00:00.000</td></tr><tr><td>Road-550-W Yellow, 38</td><td>2012-05-30 00:00:00.000</td></tr><tr><td>Road-550-W Yellow, 40</td><td>2012-05-30 00:00:00.000</td></tr><tr><td>Road-550-W Yellow, 42</td><td>2012-05-30 00:00:00.000</td></tr><tr><td>Road-550-W Yellow, 44</td><td>2012-05-30 00:00:00.000</td></tr><tr><td>Road-550-W Yellow, 48</td><td>2012-05-30 00:00:00.000</td></tr></table>"
                    },
                    "metadata": {}
                }
            ],
            "execution_count": 6
        }
    ]
}